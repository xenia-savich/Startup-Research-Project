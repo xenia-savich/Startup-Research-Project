{
 "cells": [
  {
   "cell_type": "markdown",
   "metadata": {
    "id": "4mJbK1knrJgz"
   },
   "source": [
    "# Проект: Исследование стартапов"
   ]
  },
  {
   "cell_type": "markdown",
   "metadata": {
    "id": "P6j0r3worJg0"
   },
   "source": [
    "## Введение"
   ]
  },
  {
   "cell_type": "markdown",
   "metadata": {},
   "source": [
    "### Описание проекта\n",
    "В проекте будет изучаться инвестиционный рынок и информация о сотрудниках стартапов для того, чтобы войти на инвестиционный рынок с прицелом на покупку, развитие и последующую перепродажу перспективных стартапов."
   ]
  },
  {
   "cell_type": "markdown",
   "metadata": {},
   "source": [
    "### Цели и задачи проекта\n",
    "- исследование инвестиционного рынка\n",
    "- анализ достоверности и полноты исследуемых данных(в том числе информация о сотрудниках стартапов и ценах по типу 0-1$)\n",
    "- анализ ценообразования в зависимости от категории стартапов и количества раундов финансирования перед его покупкой\n",
    "- рассчет и отображение численных показателей и динамики"
   ]
  },
  {
   "cell_type": "markdown",
   "metadata": {},
   "source": [
    "### Описание данных\n",
    "\n",
    "#### Таблица `acquisition`\n",
    "Содержит информацию о покупках одними компаниями других компаний:\n",
    "- `id` — идентификатор покупки.\n",
    "- `acquiring_company_id` — идентификатор покупающей компании.\n",
    "- `acquired_company_id` — идентификатор покупаемой компании.\n",
    "- `term_code` — варианты расчёта.\n",
    "- `price_amount` — сумма сделки.\n",
    "- `acquired_at` — дата сделки.\n",
    "\n",
    "#### Таблица `company_and_rounds`\n",
    "Содержит информацию о компаниях и раундах финансирования:\n",
    "- `company ID` — идентификатор компании.\n",
    "- `name` — название компании.\n",
    "- `category code` — категория области деятельности компании.\n",
    "- `status` — статус компании.\n",
    "- `founded at` — дата инвестирования.\n",
    "- `closed at` — дата закрытия компании.\n",
    "- `domain` — официальный сайт компании.\n",
    "- `network username` — ник компании в сети.\n",
    "- `country code` — код страны компании.\n",
    "- `investment rounds` — число инвестиционных раундов.\n",
    "- `funding rounds` — число раундов финансирования.\n",
    "- `funding total` — сумма финансирования.\n",
    "- `milestones` — вехи финансирования.\n",
    "- `funding round id` — идентификатор этапа финансирования.\n",
    "- `company id` — идентификатор компании.\n",
    "- `funded at` — дата финансирования.\n",
    "- `funding round type` — тип финансирования.\n",
    "- `raised amount` — сумма финансирования.\n",
    "- `pre money valuation` — предварительная денежная оценка.\n",
    "- `participants` — число участников.\n",
    "- `is first round` — является ли раунд первым.\n",
    "- `is last round` — является раунд последним.\n",
    "\n",
    "#### Таблица `education`\n",
    "Содержит информацию об образовании сотрудника:\n",
    "- `id` — идентификатор записи об образовании.\n",
    "- `person_id` — идентификатор работника.\n",
    "- `instituition` — название учебного заведения.\n",
    "- `graduated_at` — дата получения образования.\n",
    "\n",
    "#### `Таблица people`\n",
    "Содержит информацию о сотрудниках:\n",
    "- `id` — идентификатор сотрудника.\n",
    "- `first_name` — имя сотрудника.\n",
    "- `last_name` — фамилия сотрудника.\n",
    "- `company_id` — идентификатор компании.\n",
    "- `network_username` — ник в социальных сетях.\n",
    "\n",
    "#### Таблица `degrees`\n",
    "Содержит информацию о типе образования сотрудника:\n",
    "- `id` — идентификатор записи.\n",
    "- `object_id` — идентификатор сотрудника.\n",
    "- `degree_type` — тип образования.\n",
    "- `subject` — специальность.\n",
    "\n",
    "_____________________________________________________________________________________________________\n",
    "#### Таблица `fund` (дополнительная)\n",
    "Содержит информацию о фондах:\n",
    "- `id` — идентификатор фонда.\n",
    "- `name` — название фонда.\n",
    "- `category_code` — категория области деятельности компании.\n",
    "- `founded_at` — дата создания фонда.\n",
    "- `domain` — сайт фонда.\n",
    "- `network_username` — ник фонда в сети.\n",
    "- `country_code` — код страны фонда.\n",
    "- `investment_rounds` — число инвестиционных раундов.\n",
    "- `invested_companies` — число профинансированных компаний.\n",
    "- `milestones` — вехи финансирования.\n",
    "\n",
    "#### Таблица` investment` (дополнительная)\n",
    "Содержит информацию о раундах инвестирования:\n",
    "- `id` — идентификатор этапа инвестирования.\n",
    "- `funding_round_id` — идентификатор раунда инвестирования.\n",
    "- `company_id` — индентификатор компании.\n",
    "- `funding_round_type` — тип финансирования.\n",
    "- `fund_id` — идентификатор фонда."
   ]
  },
  {
   "cell_type": "markdown",
   "metadata": {},
   "source": [
    "### Содержимое проекта\n",
    "1. Загрузка данных и знакомство с ними\n",
    "2. Предобработка данных, предварительное исследование\n",
    "3. Исследовательский анализ данных\n",
    "4. Итоговый вывод и рекомендации"
   ]
  },
  {
   "cell_type": "markdown",
   "metadata": {
    "id": "xqr6uttCrJg0"
   },
   "source": [
    "\n",
    "## Шаг 1. Знакомство с данными: загрузка и первичная предобработка\n",
    "\n",
    "Названия файлов:\n",
    "* acquisition.csv\n",
    "* company_and_rounds.csv\n",
    "* people.csv\n",
    "* education.csv\n",
    "* degrees.csv\n",
    "\n",
    "Опциональные датасеты:\n",
    "* fund.csv\n",
    "* investment.csv\n",
    "\n",
    "\n",
    "Они находятся в папке datasets.\n",
    "\n",
    "### 1.1. Вывод общей информации, исправление названия столбцов\n",
    "\n",
    "- Загружаем все данные по проекту.\n",
    "- Проверяем названия столбцов.\n",
    "- Выводим информацию, которая необходима для принятия решений о предобработке, для каждого из датасетов."
   ]
  },
  {
   "cell_type": "code",
   "execution_count": 78,
   "metadata": {
    "id": "2Tm4Pk__Felf"
   },
   "outputs": [
    {
     "name": "stdout",
     "output_type": "stream",
     "text": [
      "Requirement already satisfied: phik in /opt/conda/lib/python3.9/site-packages (0.12.4)\r\n",
      "Requirement already satisfied: numpy>=1.18.0 in /opt/conda/lib/python3.9/site-packages (from phik) (1.21.1)\r\n",
      "Requirement already satisfied: scipy>=1.5.2 in /opt/conda/lib/python3.9/site-packages (from phik) (1.9.1)\r\n",
      "Requirement already satisfied: joblib>=0.14.1 in /opt/conda/lib/python3.9/site-packages (from phik) (1.1.0)\r\n",
      "Requirement already satisfied: matplotlib>=2.2.3 in /opt/conda/lib/python3.9/site-packages (from phik) (3.3.4)\r\n",
      "Requirement already satisfied: pandas>=0.25.1 in /opt/conda/lib/python3.9/site-packages (from phik) (1.2.4)\r\n",
      "Requirement already satisfied: python-dateutil>=2.1 in /opt/conda/lib/python3.9/site-packages (from matplotlib>=2.2.3->phik) (2.8.1)\r\n",
      "Requirement already satisfied: cycler>=0.10 in /opt/conda/lib/python3.9/site-packages (from matplotlib>=2.2.3->phik) (0.11.0)\r\n",
      "Requirement already satisfied: pyparsing!=2.0.4,!=2.1.2,!=2.1.6,>=2.0.3 in /opt/conda/lib/python3.9/site-packages (from matplotlib>=2.2.3->phik) (2.4.7)\r\n",
      "Requirement already satisfied: pillow>=6.2.0 in /opt/conda/lib/python3.9/site-packages (from matplotlib>=2.2.3->phik) (8.4.0)\r\n",
      "Requirement already satisfied: kiwisolver>=1.0.1 in /opt/conda/lib/python3.9/site-packages (from matplotlib>=2.2.3->phik) (1.4.4)\r\n",
      "Requirement already satisfied: pytz>=2017.3 in /opt/conda/lib/python3.9/site-packages (from pandas>=0.25.1->phik) (2021.1)\r\n",
      "Requirement already satisfied: six>=1.5 in /opt/conda/lib/python3.9/site-packages (from python-dateutil>=2.1->matplotlib>=2.2.3->phik) (1.16.0)\r\n"
     ]
    }
   ],
   "source": [
    "# Выгружаем необходимые библиотеки\n",
    "import pandas as pd\n",
    "\n",
    "# Загружаем библиотеки для визуализации данных\n",
    "import matplotlib.pyplot as plt\n",
    "import seaborn as sns\n",
    "\n",
    "# Загружаем библиотеку для расчёта коэффициента корреляции phi_k\n",
    "!pip install phik"
   ]
  },
  {
   "cell_type": "code",
   "execution_count": 79,
   "metadata": {
    "id": "oNqJ2qpRFebv"
   },
   "outputs": [],
   "source": [
    "# Выгружаем данные и создаем для них переменные\n",
    "ac_df = pd.read_csv('/datasets/acquisition.csv')\n",
    "c_df = pd.read_csv('/datasets/company_and_rounds.csv')\n",
    "p_df = pd.read_csv('/datasets/people.csv')\n",
    "ed_df = pd.read_csv('/datasets/education.csv')\n",
    "d_df = pd.read_csv('/datasets/degrees.csv')\n",
    "f_df = pd.read_csv('/datasets/fund.csv')\n",
    "in_df = pd.read_csv('/datasets/investment.csv')"
   ]
  },
  {
   "cell_type": "code",
   "execution_count": 80,
   "metadata": {},
   "outputs": [
    {
     "data": {
      "text/html": [
       "<div>\n",
       "<style scoped>\n",
       "    .dataframe tbody tr th:only-of-type {\n",
       "        vertical-align: middle;\n",
       "    }\n",
       "\n",
       "    .dataframe tbody tr th {\n",
       "        vertical-align: top;\n",
       "    }\n",
       "\n",
       "    .dataframe thead th {\n",
       "        text-align: right;\n",
       "    }\n",
       "</style>\n",
       "<table border=\"1\" class=\"dataframe\">\n",
       "  <thead>\n",
       "    <tr style=\"text-align: right;\">\n",
       "      <th></th>\n",
       "      <th>id</th>\n",
       "      <th>acquiring_company_id</th>\n",
       "      <th>acquired_company_id</th>\n",
       "      <th>term_code</th>\n",
       "      <th>price_amount</th>\n",
       "      <th>acquired_at</th>\n",
       "    </tr>\n",
       "  </thead>\n",
       "  <tbody>\n",
       "    <tr>\n",
       "      <th>0</th>\n",
       "      <td>1</td>\n",
       "      <td>11</td>\n",
       "      <td>10</td>\n",
       "      <td>NaN</td>\n",
       "      <td>20000000</td>\n",
       "      <td>2007-05-30</td>\n",
       "    </tr>\n",
       "    <tr>\n",
       "      <th>1</th>\n",
       "      <td>7</td>\n",
       "      <td>59</td>\n",
       "      <td>72</td>\n",
       "      <td>cash</td>\n",
       "      <td>60000000</td>\n",
       "      <td>2007-07-01</td>\n",
       "    </tr>\n",
       "    <tr>\n",
       "      <th>2</th>\n",
       "      <td>8</td>\n",
       "      <td>24</td>\n",
       "      <td>132</td>\n",
       "      <td>cash</td>\n",
       "      <td>280000000</td>\n",
       "      <td>2007-05-01</td>\n",
       "    </tr>\n",
       "    <tr>\n",
       "      <th>3</th>\n",
       "      <td>9</td>\n",
       "      <td>59</td>\n",
       "      <td>155</td>\n",
       "      <td>cash</td>\n",
       "      <td>100000000</td>\n",
       "      <td>2007-06-01</td>\n",
       "    </tr>\n",
       "    <tr>\n",
       "      <th>4</th>\n",
       "      <td>10</td>\n",
       "      <td>212</td>\n",
       "      <td>215</td>\n",
       "      <td>cash</td>\n",
       "      <td>25000000</td>\n",
       "      <td>2007-07-01</td>\n",
       "    </tr>\n",
       "  </tbody>\n",
       "</table>\n",
       "</div>"
      ],
      "text/plain": [
       "   id  acquiring_company_id  acquired_company_id term_code  price_amount  \\\n",
       "0   1                    11                   10       NaN      20000000   \n",
       "1   7                    59                   72      cash      60000000   \n",
       "2   8                    24                  132      cash     280000000   \n",
       "3   9                    59                  155      cash     100000000   \n",
       "4  10                   212                  215      cash      25000000   \n",
       "\n",
       "  acquired_at  \n",
       "0  2007-05-30  \n",
       "1  2007-07-01  \n",
       "2  2007-05-01  \n",
       "3  2007-06-01  \n",
       "4  2007-07-01  "
      ]
     },
     "execution_count": 80,
     "metadata": {},
     "output_type": "execute_result"
    }
   ],
   "source": [
    "# Проверяем названия столбцов в датасетах\n",
    "ac_df.head()"
   ]
  },
  {
   "cell_type": "code",
   "execution_count": 81,
   "metadata": {},
   "outputs": [
    {
     "data": {
      "text/html": [
       "<div>\n",
       "<style scoped>\n",
       "    .dataframe tbody tr th:only-of-type {\n",
       "        vertical-align: middle;\n",
       "    }\n",
       "\n",
       "    .dataframe tbody tr th {\n",
       "        vertical-align: top;\n",
       "    }\n",
       "\n",
       "    .dataframe thead th {\n",
       "        text-align: right;\n",
       "    }\n",
       "</style>\n",
       "<table border=\"1\" class=\"dataframe\">\n",
       "  <thead>\n",
       "    <tr style=\"text-align: right;\">\n",
       "      <th></th>\n",
       "      <th>company  ID</th>\n",
       "      <th>name</th>\n",
       "      <th>category  code</th>\n",
       "      <th>status</th>\n",
       "      <th>founded  at</th>\n",
       "      <th>closed  at</th>\n",
       "      <th>domain</th>\n",
       "      <th>network  username</th>\n",
       "      <th>country  code</th>\n",
       "      <th>investment  rounds</th>\n",
       "      <th>...</th>\n",
       "      <th>milestones</th>\n",
       "      <th>funding  round  id</th>\n",
       "      <th>company  id</th>\n",
       "      <th>funded  at</th>\n",
       "      <th>funding  round  type</th>\n",
       "      <th>raised  amount</th>\n",
       "      <th>pre  money  valuation</th>\n",
       "      <th>participants</th>\n",
       "      <th>is  first  round</th>\n",
       "      <th>is  last  round</th>\n",
       "    </tr>\n",
       "  </thead>\n",
       "  <tbody>\n",
       "    <tr>\n",
       "      <th>0</th>\n",
       "      <td>1.0</td>\n",
       "      <td>Wetpaint</td>\n",
       "      <td>web</td>\n",
       "      <td>operating</td>\n",
       "      <td>2005-10-17</td>\n",
       "      <td>NaN</td>\n",
       "      <td>wetpaint-inc.com</td>\n",
       "      <td>BachelrWetpaint</td>\n",
       "      <td>USA</td>\n",
       "      <td>0.0</td>\n",
       "      <td>...</td>\n",
       "      <td>5.0</td>\n",
       "      <td>888.0</td>\n",
       "      <td>1.0</td>\n",
       "      <td>2005-10-01</td>\n",
       "      <td>series-a</td>\n",
       "      <td>5250000.0</td>\n",
       "      <td>0.0</td>\n",
       "      <td>2.0</td>\n",
       "      <td>0.0</td>\n",
       "      <td>1.0</td>\n",
       "    </tr>\n",
       "    <tr>\n",
       "      <th>1</th>\n",
       "      <td>1.0</td>\n",
       "      <td>Wetpaint</td>\n",
       "      <td>web</td>\n",
       "      <td>operating</td>\n",
       "      <td>2005-10-17</td>\n",
       "      <td>NaN</td>\n",
       "      <td>wetpaint-inc.com</td>\n",
       "      <td>BachelrWetpaint</td>\n",
       "      <td>USA</td>\n",
       "      <td>0.0</td>\n",
       "      <td>...</td>\n",
       "      <td>5.0</td>\n",
       "      <td>889.0</td>\n",
       "      <td>1.0</td>\n",
       "      <td>2007-01-01</td>\n",
       "      <td>series-b</td>\n",
       "      <td>9500000.0</td>\n",
       "      <td>0.0</td>\n",
       "      <td>3.0</td>\n",
       "      <td>0.0</td>\n",
       "      <td>0.0</td>\n",
       "    </tr>\n",
       "    <tr>\n",
       "      <th>2</th>\n",
       "      <td>1.0</td>\n",
       "      <td>Wetpaint</td>\n",
       "      <td>web</td>\n",
       "      <td>operating</td>\n",
       "      <td>2005-10-17</td>\n",
       "      <td>NaN</td>\n",
       "      <td>wetpaint-inc.com</td>\n",
       "      <td>BachelrWetpaint</td>\n",
       "      <td>USA</td>\n",
       "      <td>0.0</td>\n",
       "      <td>...</td>\n",
       "      <td>5.0</td>\n",
       "      <td>2312.0</td>\n",
       "      <td>1.0</td>\n",
       "      <td>2008-05-19</td>\n",
       "      <td>series-c+</td>\n",
       "      <td>25000000.0</td>\n",
       "      <td>0.0</td>\n",
       "      <td>4.0</td>\n",
       "      <td>1.0</td>\n",
       "      <td>0.0</td>\n",
       "    </tr>\n",
       "    <tr>\n",
       "      <th>3</th>\n",
       "      <td>10.0</td>\n",
       "      <td>Flektor</td>\n",
       "      <td>games_video</td>\n",
       "      <td>acquired</td>\n",
       "      <td>NaN</td>\n",
       "      <td>NaN</td>\n",
       "      <td>flektor.com</td>\n",
       "      <td>NaN</td>\n",
       "      <td>USA</td>\n",
       "      <td>0.0</td>\n",
       "      <td>...</td>\n",
       "      <td>0.0</td>\n",
       "      <td>NaN</td>\n",
       "      <td>NaN</td>\n",
       "      <td>NaN</td>\n",
       "      <td>NaN</td>\n",
       "      <td>NaN</td>\n",
       "      <td>NaN</td>\n",
       "      <td>NaN</td>\n",
       "      <td>NaN</td>\n",
       "      <td>NaN</td>\n",
       "    </tr>\n",
       "    <tr>\n",
       "      <th>4</th>\n",
       "      <td>100.0</td>\n",
       "      <td>There</td>\n",
       "      <td>games_video</td>\n",
       "      <td>acquired</td>\n",
       "      <td>NaN</td>\n",
       "      <td>NaN</td>\n",
       "      <td>there.com</td>\n",
       "      <td>NaN</td>\n",
       "      <td>USA</td>\n",
       "      <td>0.0</td>\n",
       "      <td>...</td>\n",
       "      <td>4.0</td>\n",
       "      <td>NaN</td>\n",
       "      <td>NaN</td>\n",
       "      <td>NaN</td>\n",
       "      <td>NaN</td>\n",
       "      <td>NaN</td>\n",
       "      <td>NaN</td>\n",
       "      <td>NaN</td>\n",
       "      <td>NaN</td>\n",
       "      <td>NaN</td>\n",
       "    </tr>\n",
       "  </tbody>\n",
       "</table>\n",
       "<p>5 rows × 22 columns</p>\n",
       "</div>"
      ],
      "text/plain": [
       "   company  ID      name category  code     status founded  at closed  at  \\\n",
       "0          1.0  Wetpaint            web  operating  2005-10-17        NaN   \n",
       "1          1.0  Wetpaint            web  operating  2005-10-17        NaN   \n",
       "2          1.0  Wetpaint            web  operating  2005-10-17        NaN   \n",
       "3         10.0   Flektor    games_video   acquired         NaN        NaN   \n",
       "4        100.0     There    games_video   acquired         NaN        NaN   \n",
       "\n",
       "             domain network  username country  code  investment  rounds  ...  \\\n",
       "0  wetpaint-inc.com   BachelrWetpaint           USA                 0.0  ...   \n",
       "1  wetpaint-inc.com   BachelrWetpaint           USA                 0.0  ...   \n",
       "2  wetpaint-inc.com   BachelrWetpaint           USA                 0.0  ...   \n",
       "3       flektor.com               NaN           USA                 0.0  ...   \n",
       "4         there.com               NaN           USA                 0.0  ...   \n",
       "\n",
       "   milestones  funding  round  id  company  id  funded  at  \\\n",
       "0         5.0               888.0          1.0  2005-10-01   \n",
       "1         5.0               889.0          1.0  2007-01-01   \n",
       "2         5.0              2312.0          1.0  2008-05-19   \n",
       "3         0.0                 NaN          NaN         NaN   \n",
       "4         4.0                 NaN          NaN         NaN   \n",
       "\n",
       "   funding  round  type raised  amount pre  money  valuation  participants  \\\n",
       "0              series-a      5250000.0                   0.0           2.0   \n",
       "1              series-b      9500000.0                   0.0           3.0   \n",
       "2             series-c+     25000000.0                   0.0           4.0   \n",
       "3                   NaN            NaN                   NaN           NaN   \n",
       "4                   NaN            NaN                   NaN           NaN   \n",
       "\n",
       "   is  first  round  is  last  round  \n",
       "0               0.0              1.0  \n",
       "1               0.0              0.0  \n",
       "2               1.0              0.0  \n",
       "3               NaN              NaN  \n",
       "4               NaN              NaN  \n",
       "\n",
       "[5 rows x 22 columns]"
      ]
     },
     "execution_count": 81,
     "metadata": {},
     "output_type": "execute_result"
    }
   ],
   "source": [
    "c_df.head()"
   ]
  },
  {
   "cell_type": "code",
   "execution_count": 82,
   "metadata": {},
   "outputs": [
    {
     "data": {
      "text/html": [
       "<div>\n",
       "<style scoped>\n",
       "    .dataframe tbody tr th:only-of-type {\n",
       "        vertical-align: middle;\n",
       "    }\n",
       "\n",
       "    .dataframe tbody tr th {\n",
       "        vertical-align: top;\n",
       "    }\n",
       "\n",
       "    .dataframe thead th {\n",
       "        text-align: right;\n",
       "    }\n",
       "</style>\n",
       "<table border=\"1\" class=\"dataframe\">\n",
       "  <thead>\n",
       "    <tr style=\"text-align: right;\">\n",
       "      <th></th>\n",
       "      <th>id</th>\n",
       "      <th>first_name</th>\n",
       "      <th>last_name</th>\n",
       "      <th>company_id</th>\n",
       "      <th>network_username</th>\n",
       "    </tr>\n",
       "  </thead>\n",
       "  <tbody>\n",
       "    <tr>\n",
       "      <th>0</th>\n",
       "      <td>10</td>\n",
       "      <td>Mark</td>\n",
       "      <td>Zuckerberg</td>\n",
       "      <td>5.0</td>\n",
       "      <td>NaN</td>\n",
       "    </tr>\n",
       "    <tr>\n",
       "      <th>1</th>\n",
       "      <td>100</td>\n",
       "      <td>Peter</td>\n",
       "      <td>Lester</td>\n",
       "      <td>27.0</td>\n",
       "      <td>NaN</td>\n",
       "    </tr>\n",
       "    <tr>\n",
       "      <th>2</th>\n",
       "      <td>1000</td>\n",
       "      <td>Dr. Steven</td>\n",
       "      <td>E. Saunders</td>\n",
       "      <td>292.0</td>\n",
       "      <td>NaN</td>\n",
       "    </tr>\n",
       "    <tr>\n",
       "      <th>3</th>\n",
       "      <td>10000</td>\n",
       "      <td>Neil</td>\n",
       "      <td>Capel</td>\n",
       "      <td>2526.0</td>\n",
       "      <td>NaN</td>\n",
       "    </tr>\n",
       "    <tr>\n",
       "      <th>4</th>\n",
       "      <td>100000</td>\n",
       "      <td>Sue</td>\n",
       "      <td>Pilsch</td>\n",
       "      <td>NaN</td>\n",
       "      <td>NaN</td>\n",
       "    </tr>\n",
       "  </tbody>\n",
       "</table>\n",
       "</div>"
      ],
      "text/plain": [
       "       id  first_name    last_name  company_id network_username\n",
       "0      10        Mark   Zuckerberg         5.0              NaN\n",
       "1     100       Peter       Lester        27.0              NaN\n",
       "2    1000  Dr. Steven  E. Saunders       292.0              NaN\n",
       "3   10000        Neil        Capel      2526.0              NaN\n",
       "4  100000         Sue       Pilsch         NaN              NaN"
      ]
     },
     "execution_count": 82,
     "metadata": {},
     "output_type": "execute_result"
    }
   ],
   "source": [
    "p_df.head()"
   ]
  },
  {
   "cell_type": "code",
   "execution_count": 83,
   "metadata": {},
   "outputs": [
    {
     "data": {
      "text/html": [
       "<div>\n",
       "<style scoped>\n",
       "    .dataframe tbody tr th:only-of-type {\n",
       "        vertical-align: middle;\n",
       "    }\n",
       "\n",
       "    .dataframe tbody tr th {\n",
       "        vertical-align: top;\n",
       "    }\n",
       "\n",
       "    .dataframe thead th {\n",
       "        text-align: right;\n",
       "    }\n",
       "</style>\n",
       "<table border=\"1\" class=\"dataframe\">\n",
       "  <thead>\n",
       "    <tr style=\"text-align: right;\">\n",
       "      <th></th>\n",
       "      <th>id</th>\n",
       "      <th>person_id</th>\n",
       "      <th>instituition</th>\n",
       "      <th>graduated_at</th>\n",
       "    </tr>\n",
       "  </thead>\n",
       "  <tbody>\n",
       "    <tr>\n",
       "      <th>0</th>\n",
       "      <td>1</td>\n",
       "      <td>6117</td>\n",
       "      <td>NaN</td>\n",
       "      <td>NaN</td>\n",
       "    </tr>\n",
       "    <tr>\n",
       "      <th>1</th>\n",
       "      <td>2</td>\n",
       "      <td>6136</td>\n",
       "      <td>Washington University, St. Louis</td>\n",
       "      <td>1990-01-01</td>\n",
       "    </tr>\n",
       "    <tr>\n",
       "      <th>2</th>\n",
       "      <td>3</td>\n",
       "      <td>6136</td>\n",
       "      <td>Boston University</td>\n",
       "      <td>1992-01-01</td>\n",
       "    </tr>\n",
       "    <tr>\n",
       "      <th>3</th>\n",
       "      <td>4</td>\n",
       "      <td>6005</td>\n",
       "      <td>University of Greenwich</td>\n",
       "      <td>2006-01-01</td>\n",
       "    </tr>\n",
       "    <tr>\n",
       "      <th>4</th>\n",
       "      <td>5</td>\n",
       "      <td>5832</td>\n",
       "      <td>Rice University</td>\n",
       "      <td>NaN</td>\n",
       "    </tr>\n",
       "  </tbody>\n",
       "</table>\n",
       "</div>"
      ],
      "text/plain": [
       "   id  person_id                      instituition graduated_at\n",
       "0   1       6117                               NaN          NaN\n",
       "1   2       6136  Washington University, St. Louis   1990-01-01\n",
       "2   3       6136                 Boston University   1992-01-01\n",
       "3   4       6005           University of Greenwich   2006-01-01\n",
       "4   5       5832                   Rice University          NaN"
      ]
     },
     "execution_count": 83,
     "metadata": {},
     "output_type": "execute_result"
    }
   ],
   "source": [
    "ed_df.head()"
   ]
  },
  {
   "cell_type": "code",
   "execution_count": 84,
   "metadata": {},
   "outputs": [
    {
     "data": {
      "text/html": [
       "<div>\n",
       "<style scoped>\n",
       "    .dataframe tbody tr th:only-of-type {\n",
       "        vertical-align: middle;\n",
       "    }\n",
       "\n",
       "    .dataframe tbody tr th {\n",
       "        vertical-align: top;\n",
       "    }\n",
       "\n",
       "    .dataframe thead th {\n",
       "        text-align: right;\n",
       "    }\n",
       "</style>\n",
       "<table border=\"1\" class=\"dataframe\">\n",
       "  <thead>\n",
       "    <tr style=\"text-align: right;\">\n",
       "      <th></th>\n",
       "      <th>id</th>\n",
       "      <th>object_id</th>\n",
       "      <th>degree_type</th>\n",
       "      <th>subject</th>\n",
       "    </tr>\n",
       "  </thead>\n",
       "  <tbody>\n",
       "    <tr>\n",
       "      <th>0</th>\n",
       "      <td>1</td>\n",
       "      <td>p:6117</td>\n",
       "      <td>MBA</td>\n",
       "      <td>NaN</td>\n",
       "    </tr>\n",
       "    <tr>\n",
       "      <th>1</th>\n",
       "      <td>2</td>\n",
       "      <td>p:6136</td>\n",
       "      <td>BA</td>\n",
       "      <td>English, French</td>\n",
       "    </tr>\n",
       "    <tr>\n",
       "      <th>2</th>\n",
       "      <td>3</td>\n",
       "      <td>p:6136</td>\n",
       "      <td>MS</td>\n",
       "      <td>Mass Communication</td>\n",
       "    </tr>\n",
       "    <tr>\n",
       "      <th>3</th>\n",
       "      <td>4</td>\n",
       "      <td>p:6005</td>\n",
       "      <td>MS</td>\n",
       "      <td>Internet Technology</td>\n",
       "    </tr>\n",
       "    <tr>\n",
       "      <th>4</th>\n",
       "      <td>5</td>\n",
       "      <td>p:5832</td>\n",
       "      <td>BCS</td>\n",
       "      <td>Computer Science, Psychology</td>\n",
       "    </tr>\n",
       "  </tbody>\n",
       "</table>\n",
       "</div>"
      ],
      "text/plain": [
       "   id object_id degree_type                       subject\n",
       "0   1    p:6117         MBA                           NaN\n",
       "1   2    p:6136          BA               English, French\n",
       "2   3    p:6136          MS            Mass Communication\n",
       "3   4    p:6005          MS           Internet Technology\n",
       "4   5    p:5832         BCS  Computer Science, Psychology"
      ]
     },
     "execution_count": 84,
     "metadata": {},
     "output_type": "execute_result"
    }
   ],
   "source": [
    "d_df.head()"
   ]
  },
  {
   "cell_type": "code",
   "execution_count": 85,
   "metadata": {},
   "outputs": [
    {
     "data": {
      "text/html": [
       "<div>\n",
       "<style scoped>\n",
       "    .dataframe tbody tr th:only-of-type {\n",
       "        vertical-align: middle;\n",
       "    }\n",
       "\n",
       "    .dataframe tbody tr th {\n",
       "        vertical-align: top;\n",
       "    }\n",
       "\n",
       "    .dataframe thead th {\n",
       "        text-align: right;\n",
       "    }\n",
       "</style>\n",
       "<table border=\"1\" class=\"dataframe\">\n",
       "  <thead>\n",
       "    <tr style=\"text-align: right;\">\n",
       "      <th></th>\n",
       "      <th>id</th>\n",
       "      <th>name</th>\n",
       "      <th>founded_at</th>\n",
       "      <th>domain</th>\n",
       "      <th>network_username</th>\n",
       "      <th>country_code</th>\n",
       "      <th>investment_rounds</th>\n",
       "      <th>invested_companies</th>\n",
       "      <th>milestones</th>\n",
       "    </tr>\n",
       "  </thead>\n",
       "  <tbody>\n",
       "    <tr>\n",
       "      <th>0</th>\n",
       "      <td>13131</td>\n",
       "      <td>NaN</td>\n",
       "      <td>NaN</td>\n",
       "      <td>NaN</td>\n",
       "      <td>NaN</td>\n",
       "      <td>NaN</td>\n",
       "      <td>0</td>\n",
       "      <td>0</td>\n",
       "      <td>0</td>\n",
       "    </tr>\n",
       "    <tr>\n",
       "      <th>1</th>\n",
       "      <td>1</td>\n",
       "      <td>Greylock Partners</td>\n",
       "      <td>1965-01-01</td>\n",
       "      <td>greylock.com</td>\n",
       "      <td>greylockvc</td>\n",
       "      <td>USA</td>\n",
       "      <td>307</td>\n",
       "      <td>196</td>\n",
       "      <td>0</td>\n",
       "    </tr>\n",
       "    <tr>\n",
       "      <th>2</th>\n",
       "      <td>10</td>\n",
       "      <td>Mission Ventures</td>\n",
       "      <td>1996-01-01</td>\n",
       "      <td>missionventures.com</td>\n",
       "      <td>NaN</td>\n",
       "      <td>USA</td>\n",
       "      <td>58</td>\n",
       "      <td>33</td>\n",
       "      <td>0</td>\n",
       "    </tr>\n",
       "    <tr>\n",
       "      <th>3</th>\n",
       "      <td>100</td>\n",
       "      <td>Kapor Enterprises, Inc.</td>\n",
       "      <td>NaN</td>\n",
       "      <td>kei.com</td>\n",
       "      <td>NaN</td>\n",
       "      <td>USA</td>\n",
       "      <td>2</td>\n",
       "      <td>1</td>\n",
       "      <td>0</td>\n",
       "    </tr>\n",
       "    <tr>\n",
       "      <th>4</th>\n",
       "      <td>1000</td>\n",
       "      <td>Speed Ventures</td>\n",
       "      <td>NaN</td>\n",
       "      <td>NaN</td>\n",
       "      <td>NaN</td>\n",
       "      <td>NaN</td>\n",
       "      <td>0</td>\n",
       "      <td>0</td>\n",
       "      <td>1</td>\n",
       "    </tr>\n",
       "  </tbody>\n",
       "</table>\n",
       "</div>"
      ],
      "text/plain": [
       "      id                     name  founded_at               domain  \\\n",
       "0  13131                      NaN         NaN                  NaN   \n",
       "1      1        Greylock Partners  1965-01-01         greylock.com   \n",
       "2     10         Mission Ventures  1996-01-01  missionventures.com   \n",
       "3    100  Kapor Enterprises, Inc.         NaN              kei.com   \n",
       "4   1000           Speed Ventures         NaN                  NaN   \n",
       "\n",
       "  network_username country_code  investment_rounds  invested_companies  \\\n",
       "0              NaN          NaN                  0                   0   \n",
       "1       greylockvc          USA                307                 196   \n",
       "2              NaN          USA                 58                  33   \n",
       "3              NaN          USA                  2                   1   \n",
       "4              NaN          NaN                  0                   0   \n",
       "\n",
       "   milestones  \n",
       "0           0  \n",
       "1           0  \n",
       "2           0  \n",
       "3           0  \n",
       "4           1  "
      ]
     },
     "execution_count": 85,
     "metadata": {},
     "output_type": "execute_result"
    }
   ],
   "source": [
    "f_df.head()"
   ]
  },
  {
   "cell_type": "code",
   "execution_count": 86,
   "metadata": {},
   "outputs": [
    {
     "data": {
      "text/html": [
       "<div>\n",
       "<style scoped>\n",
       "    .dataframe tbody tr th:only-of-type {\n",
       "        vertical-align: middle;\n",
       "    }\n",
       "\n",
       "    .dataframe tbody tr th {\n",
       "        vertical-align: top;\n",
       "    }\n",
       "\n",
       "    .dataframe thead th {\n",
       "        text-align: right;\n",
       "    }\n",
       "</style>\n",
       "<table border=\"1\" class=\"dataframe\">\n",
       "  <thead>\n",
       "    <tr style=\"text-align: right;\">\n",
       "      <th></th>\n",
       "      <th>id</th>\n",
       "      <th>funding_round_id</th>\n",
       "      <th>company_id</th>\n",
       "      <th>fund_id</th>\n",
       "    </tr>\n",
       "  </thead>\n",
       "  <tbody>\n",
       "    <tr>\n",
       "      <th>0</th>\n",
       "      <td>1</td>\n",
       "      <td>1</td>\n",
       "      <td>4</td>\n",
       "      <td>1</td>\n",
       "    </tr>\n",
       "    <tr>\n",
       "      <th>1</th>\n",
       "      <td>2</td>\n",
       "      <td>1</td>\n",
       "      <td>4</td>\n",
       "      <td>2</td>\n",
       "    </tr>\n",
       "    <tr>\n",
       "      <th>2</th>\n",
       "      <td>3</td>\n",
       "      <td>3</td>\n",
       "      <td>5</td>\n",
       "      <td>4</td>\n",
       "    </tr>\n",
       "    <tr>\n",
       "      <th>3</th>\n",
       "      <td>4</td>\n",
       "      <td>4</td>\n",
       "      <td>5</td>\n",
       "      <td>1</td>\n",
       "    </tr>\n",
       "    <tr>\n",
       "      <th>4</th>\n",
       "      <td>5</td>\n",
       "      <td>4</td>\n",
       "      <td>5</td>\n",
       "      <td>5</td>\n",
       "    </tr>\n",
       "  </tbody>\n",
       "</table>\n",
       "</div>"
      ],
      "text/plain": [
       "   id  funding_round_id  company_id  fund_id\n",
       "0   1                 1           4        1\n",
       "1   2                 1           4        2\n",
       "2   3                 3           5        4\n",
       "3   4                 4           5        1\n",
       "4   5                 4           5        5"
      ]
     },
     "execution_count": 86,
     "metadata": {},
     "output_type": "execute_result"
    }
   ],
   "source": [
    "in_df.head()"
   ]
  },
  {
   "cell_type": "markdown",
   "metadata": {},
   "source": [
    "В данных все заголовки сошлись с заявленными, однако в датафрейме `investment` отстутствует столбец `funding_round_type`. Но данный столбец есть в датафрейме `company_and_rounds`, при дальнейшем объединении таблиц это не будет проблемой.<br>\n",
    "В датафреймфх `fund` и `people` в столбце `network_username` уже видно большое количество пропусков, но это ник в социальных сетях, и возможно некоторые не хотели предоставлять подобные данные. "
   ]
  },
  {
   "cell_type": "code",
   "execution_count": 87,
   "metadata": {},
   "outputs": [
    {
     "name": "stdout",
     "output_type": "stream",
     "text": [
      "<class 'pandas.core.frame.DataFrame'>\n",
      "RangeIndex: 9407 entries, 0 to 9406\n",
      "Data columns (total 6 columns):\n",
      " #   Column                Non-Null Count  Dtype \n",
      "---  ------                --------------  ----- \n",
      " 0   id                    9407 non-null   int64 \n",
      " 1   acquiring_company_id  9407 non-null   int64 \n",
      " 2   acquired_company_id   9407 non-null   int64 \n",
      " 3   term_code             1831 non-null   object\n",
      " 4   price_amount          9407 non-null   int64 \n",
      " 5   acquired_at           9378 non-null   object\n",
      "dtypes: int64(4), object(2)\n",
      "memory usage: 441.1+ KB\n"
     ]
    }
   ],
   "source": [
    "# Выявление пропусков в таблице acquisition\n",
    "ac_df.info()"
   ]
  },
  {
   "cell_type": "code",
   "execution_count": 88,
   "metadata": {},
   "outputs": [
    {
     "data": {
      "text/plain": [
       "array([nan, 'cash', 'stock', 'cash_and_stock'], dtype=object)"
      ]
     },
     "execution_count": 88,
     "metadata": {},
     "output_type": "execute_result"
    }
   ],
   "source": [
    "# Изучим возможные варианты значений в столбце term_code\n",
    "ac_df['term_code'].unique()"
   ]
  },
  {
   "cell_type": "code",
   "execution_count": 89,
   "metadata": {},
   "outputs": [
    {
     "data": {
      "text/plain": [
       "id                         0\n",
       "acquiring_company_id       0\n",
       "acquired_company_id        0\n",
       "term_code               7576\n",
       "price_amount               0\n",
       "acquired_at               29\n",
       "dtype: int64"
      ]
     },
     "execution_count": 89,
     "metadata": {},
     "output_type": "execute_result"
    }
   ],
   "source": [
    "# Посчитаем пропуски в абсолютном и относительном значениях\n",
    "ac_df.isna().sum() # абсолютное значение"
   ]
  },
  {
   "cell_type": "code",
   "execution_count": 90,
   "metadata": {},
   "outputs": [
    {
     "data": {
      "text/plain": [
       "id                      0.000000\n",
       "acquiring_company_id    0.000000\n",
       "acquired_company_id     0.000000\n",
       "term_code               0.805358\n",
       "price_amount            0.000000\n",
       "acquired_at             0.003083\n",
       "dtype: float64"
      ]
     },
     "execution_count": 90,
     "metadata": {},
     "output_type": "execute_result"
    }
   ],
   "source": [
    "ac_df.isna().sum() / ac_df.shape[0]# относительное значение"
   ]
  },
  {
   "cell_type": "markdown",
   "metadata": {},
   "source": [
    "Пропуски есть только в двух столбцах - `term_code` и `acquired_at`. `term_code` имеет 81% пропусков и  содержит в себе варианты расчета - cash, stock и cash_and_stock. Возможно существует и другой тип оплаты, который является пропуском в данных. `acquired_at`содержит меньше процента пропусков, и скорее всего это случайные пропуски, я бы их удалила."
   ]
  },
  {
   "cell_type": "code",
   "execution_count": 91,
   "metadata": {},
   "outputs": [
    {
     "name": "stdout",
     "output_type": "stream",
     "text": [
      "<class 'pandas.core.frame.DataFrame'>\n",
      "RangeIndex: 217774 entries, 0 to 217773\n",
      "Data columns (total 22 columns):\n",
      " #   Column                 Non-Null Count   Dtype  \n",
      "---  ------                 --------------   -----  \n",
      " 0   company  ID            217472 non-null  float64\n",
      " 1   name                   217472 non-null  object \n",
      " 2   category  code         143886 non-null  object \n",
      " 3   status                 217472 non-null  object \n",
      " 4   founded  at            109956 non-null  object \n",
      " 5   closed  at             3449 non-null    object \n",
      " 6   domain                 147159 non-null  object \n",
      " 7   network  username      95534 non-null   object \n",
      " 8   country  code          108607 non-null  object \n",
      " 9   investment  rounds     217472 non-null  float64\n",
      " 10  funding  rounds        217472 non-null  float64\n",
      " 11  funding  total         217472 non-null  float64\n",
      " 12  milestones             217472 non-null  float64\n",
      " 13  funding  round  id     52928 non-null   float64\n",
      " 14  company  id            52928 non-null   float64\n",
      " 15  funded  at             52680 non-null   object \n",
      " 16  funding  round  type   52928 non-null   object \n",
      " 17  raised  amount         52928 non-null   float64\n",
      " 18  pre  money  valuation  52928 non-null   float64\n",
      " 19  participants           52928 non-null   float64\n",
      " 20  is  first  round       52928 non-null   float64\n",
      " 21  is  last  round        52928 non-null   float64\n",
      "dtypes: float64(12), object(10)\n",
      "memory usage: 36.6+ MB\n"
     ]
    }
   ],
   "source": [
    "# Выявление пропусков в таблице company_and_rounds\n",
    "c_df.info()"
   ]
  },
  {
   "cell_type": "code",
   "execution_count": 92,
   "metadata": {},
   "outputs": [
    {
     "data": {
      "text/plain": [
       "company  ID                 302\n",
       "name                        302\n",
       "category  code            73888\n",
       "status                      302\n",
       "founded  at              107818\n",
       "closed  at               214325\n",
       "domain                    70615\n",
       "network  username        122240\n",
       "country  code            109167\n",
       "investment  rounds          302\n",
       "funding  rounds             302\n",
       "funding  total              302\n",
       "milestones                  302\n",
       "funding  round  id       164846\n",
       "company  id              164846\n",
       "funded  at               165094\n",
       "funding  round  type     164846\n",
       "raised  amount           164846\n",
       "pre  money  valuation    164846\n",
       "participants             164846\n",
       "is  first  round         164846\n",
       "is  last  round          164846\n",
       "dtype: int64"
      ]
     },
     "execution_count": 92,
     "metadata": {},
     "output_type": "execute_result"
    }
   ],
   "source": [
    "# Посчитаем пропуски в абсолютном и относительном значениях\n",
    "c_df.isna().sum() # абсолютное значение"
   ]
  },
  {
   "cell_type": "code",
   "execution_count": 93,
   "metadata": {},
   "outputs": [
    {
     "data": {
      "text/plain": [
       "company  ID              0.001387\n",
       "name                     0.001387\n",
       "category  code           0.339288\n",
       "status                   0.001387\n",
       "founded  at              0.495091\n",
       "closed  at               0.984162\n",
       "domain                   0.324258\n",
       "network  username        0.561316\n",
       "country  code            0.501286\n",
       "investment  rounds       0.001387\n",
       "funding  rounds          0.001387\n",
       "funding  total           0.001387\n",
       "milestones               0.001387\n",
       "funding  round  id       0.756959\n",
       "company  id              0.756959\n",
       "funded  at               0.758098\n",
       "funding  round  type     0.756959\n",
       "raised  amount           0.756959\n",
       "pre  money  valuation    0.756959\n",
       "participants             0.756959\n",
       "is  first  round         0.756959\n",
       "is  last  round          0.756959\n",
       "dtype: float64"
      ]
     },
     "execution_count": 93,
     "metadata": {},
     "output_type": "execute_result"
    }
   ],
   "source": [
    "c_df.isna().sum() / c_df.shape[0]# относительное значение"
   ]
  },
  {
   "cell_type": "code",
   "execution_count": 94,
   "metadata": {},
   "outputs": [
    {
     "data": {
      "text/plain": [
       "array(['web', 'games_video', 'network_hosting', 'advertising',\n",
       "       'cleantech', nan, 'enterprise', 'other', 'consulting', 'mobile',\n",
       "       'health', 'software', 'analytics', 'finance', 'education',\n",
       "       'medical', 'manufacturing', 'biotech', 'ecommerce',\n",
       "       'public_relations', 'hardware', 'search', 'news', 'government',\n",
       "       'security', 'photo_video', 'travel', 'semiconductor', 'social',\n",
       "       'legal', 'transportation', 'hospitality', 'sports', 'nonprofit',\n",
       "       'fashion', 'messaging', 'music', 'automotive', 'design',\n",
       "       'real_estate', 'local', 'nanotech', 'pets'], dtype=object)"
      ]
     },
     "execution_count": 94,
     "metadata": {},
     "output_type": "execute_result"
    }
   ],
   "source": [
    "c_df['category  code'].unique()"
   ]
  },
  {
   "cell_type": "markdown",
   "metadata": {},
   "source": [
    "- в таблице `company_and_rounds`  уже значительно больше пропусков, они есть в каждом столбце. В последних 9 столбцах пропуски составляют 76% данных. Удалять такой объем данных небезопасно, оставляем их.\n",
    "- в столбце `closed_at` пропуски составляют 98%, что может говорить о том, что компания не закрывалась - здесь пропуски являются нормой.\n",
    "- в столбцах `company ID`, `status` и `name` пропусков меньше процента, эти пропуски можно смело удалить, т к их мало и это важные данные для датафрейма. \n",
    "- в столбце `category  code` пропусков 40%, думаю что пропуски в данном столбце можно заполнить значением 'other', такие значения уже есть в стобце. \n",
    "- в столбце `founded at` 50% пропусков. Данные этого столбца важны для нашего исследования.\n",
    "- в столбце `domain` 32% пропусков, этот столбец отвечает за сайт компании. Думаю, эти пропуски лучше оставить как есть, на исследование они не повлияют.\n",
    "- также здесь есть два схожих столбца `company  ID` и `company  id`, думаю один столбец отвечает за компанию, которую финансируют, а второй за ту, что финансирует"
   ]
  },
  {
   "cell_type": "code",
   "execution_count": 95,
   "metadata": {},
   "outputs": [
    {
     "name": "stdout",
     "output_type": "stream",
     "text": [
      "<class 'pandas.core.frame.DataFrame'>\n",
      "RangeIndex: 226709 entries, 0 to 226708\n",
      "Data columns (total 5 columns):\n",
      " #   Column            Non-Null Count   Dtype  \n",
      "---  ------            --------------   -----  \n",
      " 0   id                226709 non-null  int64  \n",
      " 1   first_name        226704 non-null  object \n",
      " 2   last_name         226708 non-null  object \n",
      " 3   company_id        34615 non-null   float64\n",
      " 4   network_username  38867 non-null   object \n",
      "dtypes: float64(1), int64(1), object(3)\n",
      "memory usage: 8.6+ MB\n"
     ]
    }
   ],
   "source": [
    "# Выявление пропусков в таблице people\n",
    "p_df.info()"
   ]
  },
  {
   "cell_type": "code",
   "execution_count": 96,
   "metadata": {},
   "outputs": [
    {
     "data": {
      "text/plain": [
       "id                       0\n",
       "first_name               5\n",
       "last_name                1\n",
       "company_id          192094\n",
       "network_username    187842\n",
       "dtype: int64"
      ]
     },
     "execution_count": 96,
     "metadata": {},
     "output_type": "execute_result"
    }
   ],
   "source": [
    "# Посчитаем пропуски в абсолютном и относительном значениях\n",
    "p_df.isna().sum() # абсолютное значение"
   ]
  },
  {
   "cell_type": "code",
   "execution_count": 97,
   "metadata": {},
   "outputs": [
    {
     "data": {
      "text/plain": [
       "id                  0.000000\n",
       "first_name          0.000022\n",
       "last_name           0.000004\n",
       "company_id          0.847315\n",
       "network_username    0.828560\n",
       "dtype: float64"
      ]
     },
     "execution_count": 97,
     "metadata": {},
     "output_type": "execute_result"
    }
   ],
   "source": [
    "p_df.isna().sum() / p_df.shape[0]# относительное значение"
   ]
  },
  {
   "cell_type": "markdown",
   "metadata": {},
   "source": [
    "Пропуски в столбцах `first_name` и `last_name` можно удалить, их совсем мало - 5 и 1 значений соотвественно. Со столбцами `company_id` и `network_username` уже сложнее, здесь 83% и 85% пропусков соответственно. Пропуски `network_username` можно оставить без изменений, они не имеют большого значения. Удалять такой объем информации с ID компании тоже странно, не будем трогать этот столбец."
   ]
  },
  {
   "cell_type": "code",
   "execution_count": 98,
   "metadata": {},
   "outputs": [
    {
     "name": "stdout",
     "output_type": "stream",
     "text": [
      "<class 'pandas.core.frame.DataFrame'>\n",
      "RangeIndex: 109610 entries, 0 to 109609\n",
      "Data columns (total 4 columns):\n",
      " #   Column        Non-Null Count   Dtype \n",
      "---  ------        --------------   ----- \n",
      " 0   id            109610 non-null  int64 \n",
      " 1   person_id     109610 non-null  int64 \n",
      " 2   instituition  109555 non-null  object\n",
      " 3   graduated_at  58054 non-null   object\n",
      "dtypes: int64(2), object(2)\n",
      "memory usage: 3.3+ MB\n"
     ]
    }
   ],
   "source": [
    "# Выявление пропусков в таблице education\n",
    "ed_df.info()"
   ]
  },
  {
   "cell_type": "code",
   "execution_count": 99,
   "metadata": {},
   "outputs": [
    {
     "data": {
      "text/plain": [
       "id                  0\n",
       "person_id           0\n",
       "instituition       55\n",
       "graduated_at    51556\n",
       "dtype: int64"
      ]
     },
     "execution_count": 99,
     "metadata": {},
     "output_type": "execute_result"
    }
   ],
   "source": [
    "# Посчитаем пропуски в абсолютном и относительном значениях\n",
    "ed_df.isna().sum() # абсолютное значение"
   ]
  },
  {
   "cell_type": "code",
   "execution_count": 100,
   "metadata": {},
   "outputs": [
    {
     "data": {
      "text/plain": [
       "id              0.000000\n",
       "person_id       0.000000\n",
       "instituition    0.000502\n",
       "graduated_at    0.470359\n",
       "dtype: float64"
      ]
     },
     "execution_count": 100,
     "metadata": {},
     "output_type": "execute_result"
    }
   ],
   "source": [
    "ed_df.isna().sum() / ed_df.shape[0]# относительное значение"
   ]
  },
  {
   "cell_type": "markdown",
   "metadata": {},
   "source": [
    "Данные в столбце `instituition` имеют меннее процента пропусков, оставим их как есть. В столбце `graduated_at` 47% пропусков, что может говорить о том, что человек еще не выпустился - оставляем."
   ]
  },
  {
   "cell_type": "code",
   "execution_count": 101,
   "metadata": {},
   "outputs": [
    {
     "name": "stdout",
     "output_type": "stream",
     "text": [
      "<class 'pandas.core.frame.DataFrame'>\n",
      "RangeIndex: 109610 entries, 0 to 109609\n",
      "Data columns (total 4 columns):\n",
      " #   Column       Non-Null Count   Dtype \n",
      "---  ------       --------------   ----- \n",
      " 0   id           109610 non-null  int64 \n",
      " 1   object_id    109610 non-null  object\n",
      " 2   degree_type  98392 non-null   object\n",
      " 3   subject      81298 non-null   object\n",
      "dtypes: int64(1), object(3)\n",
      "memory usage: 3.3+ MB\n"
     ]
    }
   ],
   "source": [
    "# Выявление пропусков в таблице degrees\n",
    "d_df.info()"
   ]
  },
  {
   "cell_type": "code",
   "execution_count": 102,
   "metadata": {},
   "outputs": [
    {
     "data": {
      "text/plain": [
       "id                 0\n",
       "object_id          0\n",
       "degree_type    11218\n",
       "subject        28312\n",
       "dtype: int64"
      ]
     },
     "execution_count": 102,
     "metadata": {},
     "output_type": "execute_result"
    }
   ],
   "source": [
    "# Посчитаем пропуски в абсолютном и относительном значениях\n",
    "d_df.isna().sum() # абсолютное значение"
   ]
  },
  {
   "cell_type": "code",
   "execution_count": 103,
   "metadata": {},
   "outputs": [
    {
     "data": {
      "text/plain": [
       "id             0.000000\n",
       "object_id      0.000000\n",
       "degree_type    0.102345\n",
       "subject        0.258298\n",
       "dtype: float64"
      ]
     },
     "execution_count": 103,
     "metadata": {},
     "output_type": "execute_result"
    }
   ],
   "source": [
    "d_df.isna().sum() / d_df.shape[0]# относительное значение"
   ]
  },
  {
   "cell_type": "markdown",
   "metadata": {},
   "source": [
    "В таблицах `degree_type` и `subject` 10% и 26% пропусков соответственно, их трогать не будем, они не оказывают существенного влияния на исследование. Данные дополнительных таблиц не будем разбирать."
   ]
  },
  {
   "cell_type": "markdown",
   "metadata": {},
   "source": [
    "В данных достаточно много пропусков, но я думаю, что исследование провести получится. Дальше будем работать с типами данных, пропусками и дубликатами."
   ]
  },
  {
   "cell_type": "markdown",
   "metadata": {
    "id": "mg2gEwh0rJg0"
   },
   "source": [
    "### 1.2. Смена типов и работа с пропусками\n"
   ]
  },
  {
   "cell_type": "markdown",
   "metadata": {
    "id": "FsL0A8RBrJg1",
    "vscode": {
     "languageId": "plaintext"
    }
   },
   "source": [
    "#### `acquisition`\n",
    "В данных таблицы `acquisition` все типа данных выбраны верно, однако столбец `acquired_at` лучше привести к временному типу данных."
   ]
  },
  {
   "cell_type": "code",
   "execution_count": 104,
   "metadata": {
    "id": "46VskrGyFeJ-"
   },
   "outputs": [],
   "source": [
    "# Приведение acquired_at к временному типу \n",
    "ac_df['acquired_at'] = pd.to_datetime(ac_df['acquired_at'])"
   ]
  },
  {
   "cell_type": "code",
   "execution_count": 105,
   "metadata": {},
   "outputs": [
    {
     "name": "stdout",
     "output_type": "stream",
     "text": [
      "<class 'pandas.core.frame.DataFrame'>\n",
      "RangeIndex: 9407 entries, 0 to 9406\n",
      "Data columns (total 6 columns):\n",
      " #   Column                Non-Null Count  Dtype         \n",
      "---  ------                --------------  -----         \n",
      " 0   id                    9407 non-null   int64         \n",
      " 1   acquiring_company_id  9407 non-null   int64         \n",
      " 2   acquired_company_id   9407 non-null   int64         \n",
      " 3   term_code             1831 non-null   object        \n",
      " 4   price_amount          9407 non-null   int64         \n",
      " 5   acquired_at           9378 non-null   datetime64[ns]\n",
      "dtypes: datetime64[ns](1), int64(4), object(1)\n",
      "memory usage: 441.1+ KB\n"
     ]
    }
   ],
   "source": [
    "# Проверка\n",
    "ac_df.info()"
   ]
  },
  {
   "cell_type": "markdown",
   "metadata": {},
   "source": [
    "#### company_and_rounds\n",
    "В данной таблице много ошибок в типах данных, стоит проверить столбцы `status`, `funding round type` и `domain` на уникальные значения, возможно можно поменять тип на категориальный. В данных замечено два столбца с id компании - видимо один из них столбец с компанией, которую финансируют, а второй с той, что финансирует. Столбцы `company  ID`, `investment  rounds`, `funding rounds`, `funding  total`, `milestones`, `funding round id`, `company id`, `raised amount`, `pre money valuation`, `participants`, `is first round`, `is last round` стоит поменять на int64. Столбцы `founded at`, `funded at` и `closed at` стоит привести к временному типу. Также необходимо привести названия к snake case."
   ]
  },
  {
   "cell_type": "code",
   "execution_count": 106,
   "metadata": {},
   "outputs": [
    {
     "name": "stdout",
     "output_type": "stream",
     "text": [
      "['company  ID', 'name', 'category  code', 'status', 'founded  at', 'closed  at', 'domain', 'network  username', 'country  code', 'investment  rounds', 'funding  rounds', 'funding  total', 'milestones', 'funding  round  id', 'company  id', 'funded  at', 'funding  round  type', 'raised  amount', 'pre  money  valuation', 'participants', 'is  first  round', 'is  last  round']\n"
     ]
    }
   ],
   "source": [
    "column_list = c_df.columns.tolist()\n",
    "print(column_list)"
   ]
  },
  {
   "cell_type": "code",
   "execution_count": 107,
   "metadata": {},
   "outputs": [],
   "source": [
    "# Приведение к snake case\n",
    "c_df = c_df.rename(columns={'company  ID': 'company_id1',\n",
    "                        'category  code': 'category_code',\n",
    "                        'founded  at': 'founded_at',\n",
    "                        'closed  at': 'closed_at',\n",
    "                        'network  username': 'network_username',\n",
    "                        'country  code': 'country_code',\n",
    "                        'investment  rounds': 'investment_rounds',\n",
    "                        'funding  rounds': 'funding_rounds',\n",
    "                        'funding  total': 'funding_total',\n",
    "                        'funding  round  id': 'funding_round_id',\n",
    "                        'company  id': 'company_id',\n",
    "                        'funded  at': 'funded_at',\n",
    "                        'funding  round  type': 'funding_round_type',\n",
    "                        'raised  amount': 'raised_amount',\n",
    "                        'pre  money  valuation': 'pre_money_valuation',\n",
    "                        'is  first  round': 'is_first_round',\n",
    "                        'is  last  round': 'is_last_round'\n",
    "                       })\n",
    "              "
   ]
  },
  {
   "cell_type": "code",
   "execution_count": 108,
   "metadata": {},
   "outputs": [
    {
     "data": {
      "text/plain": [
       "array(['operating', 'acquired', 'closed', 'ipo', nan], dtype=object)"
      ]
     },
     "execution_count": 108,
     "metadata": {},
     "output_type": "execute_result"
    }
   ],
   "source": [
    "# Проверка статуса на уникальные значения\n",
    "c_df['status'].unique()"
   ]
  },
  {
   "cell_type": "code",
   "execution_count": 109,
   "metadata": {
    "id": "DEg1tl8DFeBn"
   },
   "outputs": [
    {
     "data": {
      "text/plain": [
       "array(['wetpaint-inc.com', 'flektor.com', 'there.com', ...,\n",
       "       'flowgram.com', 'pPhotonet.co', 'Photonet.com'], dtype=object)"
      ]
     },
     "execution_count": 109,
     "metadata": {},
     "output_type": "execute_result"
    }
   ],
   "source": [
    "# Проверка статуса на уникальные значения\n",
    "c_df['domain'].unique()"
   ]
  },
  {
   "cell_type": "code",
   "execution_count": 110,
   "metadata": {},
   "outputs": [
    {
     "data": {
      "text/plain": [
       "array(['series-a', 'series-b', 'series-c+', nan, 'angel', 'venture',\n",
       "       'other', 'private-equity', 'post-ipo', 'crowdfunding'],\n",
       "      dtype=object)"
      ]
     },
     "execution_count": 110,
     "metadata": {},
     "output_type": "execute_result"
    }
   ],
   "source": [
    "c_df['funding_round_type'].unique()"
   ]
  },
  {
   "cell_type": "code",
   "execution_count": 111,
   "metadata": {},
   "outputs": [],
   "source": [
    "# Меняем тип данных на категориальный\n",
    "c_df['status'] = c_df['status'].astype('category')\n",
    "c_df['domain'] = c_df['domain'].astype('category')\n",
    "c_df['funding_round_type'] = c_df['funding_round_type'].astype('category')"
   ]
  },
  {
   "cell_type": "code",
   "execution_count": 112,
   "metadata": {},
   "outputs": [],
   "source": [
    "# Меняем тип данных на целочисленный\n",
    "c_df['company_id1'] = c_df['company_id1'].astype('Int64')\n",
    "c_df['investment_rounds'] = c_df['investment_rounds'].astype('Int64')\n",
    "c_df['funding_rounds'] = c_df['funding_rounds'].astype('Int64')\n",
    "c_df['funding_total'] = c_df['funding_total'].astype('Int64')\n",
    "c_df['milestones'] = c_df['milestones'].astype('Int64')\n",
    "c_df['funding_round_id'] = c_df['funding_round_id'].astype('Int64')\n",
    "c_df['company_id'] = c_df['company_id'].astype('Int64')\n",
    "c_df['raised_amount'] = c_df['raised_amount'].astype('Int64')\n",
    "c_df['pre_money_valuation'] = c_df['pre_money_valuation'].astype('Int64')\n",
    "c_df['participants'] = c_df['participants'].astype('Int64')\n",
    "c_df['is_first_round'] = c_df['is_first_round'].astype('Int64')\n",
    "c_df['is_last_round'] = c_df['is_last_round'].astype('Int64')"
   ]
  },
  {
   "cell_type": "code",
   "execution_count": 113,
   "metadata": {},
   "outputs": [],
   "source": [
    "# Меняем тип данных на временной\n",
    "c_df['founded_at'] = pd.to_datetime(c_df['founded_at'])\n",
    "c_df['closed_at'] = pd.to_datetime(c_df['closed_at'])\n",
    "c_df['funded_at'] = pd.to_datetime(c_df['funded_at'])"
   ]
  },
  {
   "cell_type": "code",
   "execution_count": 114,
   "metadata": {},
   "outputs": [
    {
     "name": "stdout",
     "output_type": "stream",
     "text": [
      "<class 'pandas.core.frame.DataFrame'>\n",
      "RangeIndex: 217774 entries, 0 to 217773\n",
      "Data columns (total 22 columns):\n",
      " #   Column               Non-Null Count   Dtype         \n",
      "---  ------               --------------   -----         \n",
      " 0   company_id1          217472 non-null  Int64         \n",
      " 1   name                 217472 non-null  object        \n",
      " 2   category_code        143886 non-null  object        \n",
      " 3   status               217472 non-null  category      \n",
      " 4   founded_at           109956 non-null  datetime64[ns]\n",
      " 5   closed_at            3449 non-null    datetime64[ns]\n",
      " 6   domain               147159 non-null  category      \n",
      " 7   network_username     95534 non-null   object        \n",
      " 8   country_code         108607 non-null  object        \n",
      " 9   investment_rounds    217472 non-null  Int64         \n",
      " 10  funding_rounds       217472 non-null  Int64         \n",
      " 11  funding_total        217472 non-null  Int64         \n",
      " 12  milestones           217472 non-null  Int64         \n",
      " 13  funding_round_id     52928 non-null   Int64         \n",
      " 14  company_id           52928 non-null   Int64         \n",
      " 15  funded_at            52680 non-null   datetime64[ns]\n",
      " 16  funding_round_type   52928 non-null   category      \n",
      " 17  raised_amount        52928 non-null   Int64         \n",
      " 18  pre_money_valuation  52928 non-null   Int64         \n",
      " 19  participants         52928 non-null   Int64         \n",
      " 20  is_first_round       52928 non-null   Int64         \n",
      " 21  is_last_round        52928 non-null   Int64         \n",
      "dtypes: Int64(12), category(3), datetime64[ns](3), object(4)\n",
      "memory usage: 40.3+ MB\n"
     ]
    },
    {
     "data": {
      "text/html": [
       "<div>\n",
       "<style scoped>\n",
       "    .dataframe tbody tr th:only-of-type {\n",
       "        vertical-align: middle;\n",
       "    }\n",
       "\n",
       "    .dataframe tbody tr th {\n",
       "        vertical-align: top;\n",
       "    }\n",
       "\n",
       "    .dataframe thead th {\n",
       "        text-align: right;\n",
       "    }\n",
       "</style>\n",
       "<table border=\"1\" class=\"dataframe\">\n",
       "  <thead>\n",
       "    <tr style=\"text-align: right;\">\n",
       "      <th></th>\n",
       "      <th>company_id1</th>\n",
       "      <th>name</th>\n",
       "      <th>category_code</th>\n",
       "      <th>status</th>\n",
       "      <th>founded_at</th>\n",
       "      <th>closed_at</th>\n",
       "      <th>domain</th>\n",
       "      <th>network_username</th>\n",
       "      <th>country_code</th>\n",
       "      <th>investment_rounds</th>\n",
       "      <th>...</th>\n",
       "      <th>milestones</th>\n",
       "      <th>funding_round_id</th>\n",
       "      <th>company_id</th>\n",
       "      <th>funded_at</th>\n",
       "      <th>funding_round_type</th>\n",
       "      <th>raised_amount</th>\n",
       "      <th>pre_money_valuation</th>\n",
       "      <th>participants</th>\n",
       "      <th>is_first_round</th>\n",
       "      <th>is_last_round</th>\n",
       "    </tr>\n",
       "  </thead>\n",
       "  <tbody>\n",
       "    <tr>\n",
       "      <th>0</th>\n",
       "      <td>1</td>\n",
       "      <td>Wetpaint</td>\n",
       "      <td>web</td>\n",
       "      <td>operating</td>\n",
       "      <td>2005-10-17</td>\n",
       "      <td>NaT</td>\n",
       "      <td>wetpaint-inc.com</td>\n",
       "      <td>BachelrWetpaint</td>\n",
       "      <td>USA</td>\n",
       "      <td>0</td>\n",
       "      <td>...</td>\n",
       "      <td>5</td>\n",
       "      <td>888</td>\n",
       "      <td>1</td>\n",
       "      <td>2005-10-01</td>\n",
       "      <td>series-a</td>\n",
       "      <td>5250000</td>\n",
       "      <td>0</td>\n",
       "      <td>2</td>\n",
       "      <td>0</td>\n",
       "      <td>1</td>\n",
       "    </tr>\n",
       "    <tr>\n",
       "      <th>1</th>\n",
       "      <td>1</td>\n",
       "      <td>Wetpaint</td>\n",
       "      <td>web</td>\n",
       "      <td>operating</td>\n",
       "      <td>2005-10-17</td>\n",
       "      <td>NaT</td>\n",
       "      <td>wetpaint-inc.com</td>\n",
       "      <td>BachelrWetpaint</td>\n",
       "      <td>USA</td>\n",
       "      <td>0</td>\n",
       "      <td>...</td>\n",
       "      <td>5</td>\n",
       "      <td>889</td>\n",
       "      <td>1</td>\n",
       "      <td>2007-01-01</td>\n",
       "      <td>series-b</td>\n",
       "      <td>9500000</td>\n",
       "      <td>0</td>\n",
       "      <td>3</td>\n",
       "      <td>0</td>\n",
       "      <td>0</td>\n",
       "    </tr>\n",
       "    <tr>\n",
       "      <th>2</th>\n",
       "      <td>1</td>\n",
       "      <td>Wetpaint</td>\n",
       "      <td>web</td>\n",
       "      <td>operating</td>\n",
       "      <td>2005-10-17</td>\n",
       "      <td>NaT</td>\n",
       "      <td>wetpaint-inc.com</td>\n",
       "      <td>BachelrWetpaint</td>\n",
       "      <td>USA</td>\n",
       "      <td>0</td>\n",
       "      <td>...</td>\n",
       "      <td>5</td>\n",
       "      <td>2312</td>\n",
       "      <td>1</td>\n",
       "      <td>2008-05-19</td>\n",
       "      <td>series-c+</td>\n",
       "      <td>25000000</td>\n",
       "      <td>0</td>\n",
       "      <td>4</td>\n",
       "      <td>1</td>\n",
       "      <td>0</td>\n",
       "    </tr>\n",
       "    <tr>\n",
       "      <th>3</th>\n",
       "      <td>10</td>\n",
       "      <td>Flektor</td>\n",
       "      <td>games_video</td>\n",
       "      <td>acquired</td>\n",
       "      <td>NaT</td>\n",
       "      <td>NaT</td>\n",
       "      <td>flektor.com</td>\n",
       "      <td>NaN</td>\n",
       "      <td>USA</td>\n",
       "      <td>0</td>\n",
       "      <td>...</td>\n",
       "      <td>0</td>\n",
       "      <td>&lt;NA&gt;</td>\n",
       "      <td>&lt;NA&gt;</td>\n",
       "      <td>NaT</td>\n",
       "      <td>NaN</td>\n",
       "      <td>&lt;NA&gt;</td>\n",
       "      <td>&lt;NA&gt;</td>\n",
       "      <td>&lt;NA&gt;</td>\n",
       "      <td>&lt;NA&gt;</td>\n",
       "      <td>&lt;NA&gt;</td>\n",
       "    </tr>\n",
       "    <tr>\n",
       "      <th>4</th>\n",
       "      <td>100</td>\n",
       "      <td>There</td>\n",
       "      <td>games_video</td>\n",
       "      <td>acquired</td>\n",
       "      <td>NaT</td>\n",
       "      <td>NaT</td>\n",
       "      <td>there.com</td>\n",
       "      <td>NaN</td>\n",
       "      <td>USA</td>\n",
       "      <td>0</td>\n",
       "      <td>...</td>\n",
       "      <td>4</td>\n",
       "      <td>&lt;NA&gt;</td>\n",
       "      <td>&lt;NA&gt;</td>\n",
       "      <td>NaT</td>\n",
       "      <td>NaN</td>\n",
       "      <td>&lt;NA&gt;</td>\n",
       "      <td>&lt;NA&gt;</td>\n",
       "      <td>&lt;NA&gt;</td>\n",
       "      <td>&lt;NA&gt;</td>\n",
       "      <td>&lt;NA&gt;</td>\n",
       "    </tr>\n",
       "  </tbody>\n",
       "</table>\n",
       "<p>5 rows × 22 columns</p>\n",
       "</div>"
      ],
      "text/plain": [
       "   company_id1      name category_code     status founded_at closed_at  \\\n",
       "0            1  Wetpaint           web  operating 2005-10-17       NaT   \n",
       "1            1  Wetpaint           web  operating 2005-10-17       NaT   \n",
       "2            1  Wetpaint           web  operating 2005-10-17       NaT   \n",
       "3           10   Flektor   games_video   acquired        NaT       NaT   \n",
       "4          100     There   games_video   acquired        NaT       NaT   \n",
       "\n",
       "             domain network_username country_code  investment_rounds  ...  \\\n",
       "0  wetpaint-inc.com  BachelrWetpaint          USA                  0  ...   \n",
       "1  wetpaint-inc.com  BachelrWetpaint          USA                  0  ...   \n",
       "2  wetpaint-inc.com  BachelrWetpaint          USA                  0  ...   \n",
       "3       flektor.com              NaN          USA                  0  ...   \n",
       "4         there.com              NaN          USA                  0  ...   \n",
       "\n",
       "   milestones  funding_round_id  company_id  funded_at  funding_round_type  \\\n",
       "0           5               888           1 2005-10-01            series-a   \n",
       "1           5               889           1 2007-01-01            series-b   \n",
       "2           5              2312           1 2008-05-19           series-c+   \n",
       "3           0              <NA>        <NA>        NaT                 NaN   \n",
       "4           4              <NA>        <NA>        NaT                 NaN   \n",
       "\n",
       "  raised_amount pre_money_valuation  participants  is_first_round  \\\n",
       "0       5250000                   0             2               0   \n",
       "1       9500000                   0             3               0   \n",
       "2      25000000                   0             4               1   \n",
       "3          <NA>                <NA>          <NA>            <NA>   \n",
       "4          <NA>                <NA>          <NA>            <NA>   \n",
       "\n",
       "   is_last_round  \n",
       "0              1  \n",
       "1              0  \n",
       "2              0  \n",
       "3           <NA>  \n",
       "4           <NA>  \n",
       "\n",
       "[5 rows x 22 columns]"
      ]
     },
     "execution_count": 114,
     "metadata": {},
     "output_type": "execute_result"
    }
   ],
   "source": [
    "# Проверка\n",
    "c_df.info()\n",
    "c_df.head()"
   ]
  },
  {
   "cell_type": "markdown",
   "metadata": {},
   "source": [
    "#### people \n",
    "В данной таблице необходимо только поменять тип данных на целочисленный в столбце `company_id`."
   ]
  },
  {
   "cell_type": "code",
   "execution_count": 115,
   "metadata": {},
   "outputs": [],
   "source": [
    "# Меняем тип данных на int64\n",
    "p_df['company_id'] = p_df['company_id'].astype('Int64')"
   ]
  },
  {
   "cell_type": "code",
   "execution_count": 116,
   "metadata": {},
   "outputs": [
    {
     "name": "stdout",
     "output_type": "stream",
     "text": [
      "<class 'pandas.core.frame.DataFrame'>\n",
      "RangeIndex: 226709 entries, 0 to 226708\n",
      "Data columns (total 5 columns):\n",
      " #   Column            Non-Null Count   Dtype \n",
      "---  ------            --------------   ----- \n",
      " 0   id                226709 non-null  int64 \n",
      " 1   first_name        226704 non-null  object\n",
      " 2   last_name         226708 non-null  object\n",
      " 3   company_id        34615 non-null   Int64 \n",
      " 4   network_username  38867 non-null   object\n",
      "dtypes: Int64(1), int64(1), object(3)\n",
      "memory usage: 8.9+ MB\n"
     ]
    }
   ],
   "source": [
    "# Проверка\n",
    "p_df.info()"
   ]
  },
  {
   "cell_type": "markdown",
   "metadata": {},
   "source": [
    "#### education\n",
    "Здесь стоит поменять только столбец `graduated_at` на временной тип"
   ]
  },
  {
   "cell_type": "code",
   "execution_count": 117,
   "metadata": {},
   "outputs": [],
   "source": [
    "# Меняем тип данных\n",
    "ed_df['graduated_at'] = pd.to_datetime(ed_df['graduated_at'])"
   ]
  },
  {
   "cell_type": "code",
   "execution_count": 118,
   "metadata": {},
   "outputs": [
    {
     "name": "stdout",
     "output_type": "stream",
     "text": [
      "<class 'pandas.core.frame.DataFrame'>\n",
      "RangeIndex: 109610 entries, 0 to 109609\n",
      "Data columns (total 4 columns):\n",
      " #   Column        Non-Null Count   Dtype         \n",
      "---  ------        --------------   -----         \n",
      " 0   id            109610 non-null  int64         \n",
      " 1   person_id     109610 non-null  int64         \n",
      " 2   instituition  109555 non-null  object        \n",
      " 3   graduated_at  58054 non-null   datetime64[ns]\n",
      "dtypes: datetime64[ns](1), int64(2), object(1)\n",
      "memory usage: 3.3+ MB\n"
     ]
    }
   ],
   "source": [
    "# Проверка\n",
    "ed_df.info()"
   ]
  },
  {
   "cell_type": "markdown",
   "metadata": {},
   "source": [
    "#### degrees \n",
    "Здесь проверим столбец `degree_type` на уникальные значения и поменяем тип данных на категориальный, если это нужно."
   ]
  },
  {
   "cell_type": "code",
   "execution_count": 119,
   "metadata": {},
   "outputs": [
    {
     "data": {
      "text/plain": [
       "array(['MBA', 'BA', 'MS', ..., 'Master of Public Health',\n",
       "       \"Master's of Music\", 'bachelors'], dtype=object)"
      ]
     },
     "execution_count": 119,
     "metadata": {},
     "output_type": "execute_result"
    }
   ],
   "source": [
    "d_df['degree_type'].unique()"
   ]
  },
  {
   "cell_type": "code",
   "execution_count": 120,
   "metadata": {},
   "outputs": [],
   "source": [
    "# Меняем тип данных на категориальный\n",
    "d_df['degree_type'] = d_df['degree_type'].astype('category')"
   ]
  },
  {
   "cell_type": "code",
   "execution_count": 121,
   "metadata": {},
   "outputs": [
    {
     "name": "stdout",
     "output_type": "stream",
     "text": [
      "<class 'pandas.core.frame.DataFrame'>\n",
      "RangeIndex: 109610 entries, 0 to 109609\n",
      "Data columns (total 4 columns):\n",
      " #   Column       Non-Null Count   Dtype   \n",
      "---  ------       --------------   -----   \n",
      " 0   id           109610 non-null  int64   \n",
      " 1   object_id    109610 non-null  object  \n",
      " 2   degree_type  98392 non-null   category\n",
      " 3   subject      81298 non-null   object  \n",
      "dtypes: category(1), int64(1), object(2)\n",
      "memory usage: 3.0+ MB\n"
     ]
    }
   ],
   "source": [
    "# Проверка\n",
    "d_df.info()"
   ]
  },
  {
   "cell_type": "markdown",
   "metadata": {},
   "source": [
    "Типы данных успешно изменены. Пропусков много, но провести исследование вполне реально."
   ]
  },
  {
   "cell_type": "markdown",
   "metadata": {
    "id": "u60cHsn6rJg1"
   },
   "source": [
    "## Шаг 2. Предобработка данных, предварительное исследование"
   ]
  },
  {
   "cell_type": "markdown",
   "metadata": {
    "id": "g2bHIIjcrJg1"
   },
   "source": [
    "\n",
    "### 2.1. Раунды финансирования по годам\n",
    "\n",
    "Поработаем с таблицей `company_and_rounds.csv`.\n",
    "\n",
    "- Составим сводную таблицу по годам, в которой на основании столбца `raised_amount` для каждого года указан:\n",
    "    - типичный размер средств, выделяемый в рамках одного раунда;\n",
    "    - общее количество раундов финансирования за этот год.\n",
    "    \n",
    "- Оставим в таблице информацию только для тех лет, для которых есть информация о более чем 50 раундах финансирования.\n",
    "- На основе получившейся таблицы построим график, который будет отражать динамику типичного размера средств, которые стартапы получали в рамках одного раунда финансирования.\n",
    "\n",
    "На основе полученных данных ответим на вопросы:\n",
    "\n",
    "- В каком году типичный размер собранных в рамках одного раунда средств был максимален?\n",
    "- Какая тенденция по количеству раундов и выделяемых в рамках каждого раунда средств наблюдалась в 2013 году?"
   ]
  },
  {
   "cell_type": "markdown",
   "metadata": {},
   "source": [
    "Для дальнейшей работы с таблицами необходимо заполнить пропуски в столбце `founded at`. Заполним их 01-01-2026 - таких значений нет и мы не спутаем пропуски с остальными данными."
   ]
  },
  {
   "cell_type": "code",
   "execution_count": 122,
   "metadata": {},
   "outputs": [
    {
     "data": {
      "text/html": [
       "<div>\n",
       "<style scoped>\n",
       "    .dataframe tbody tr th:only-of-type {\n",
       "        vertical-align: middle;\n",
       "    }\n",
       "\n",
       "    .dataframe tbody tr th {\n",
       "        vertical-align: top;\n",
       "    }\n",
       "\n",
       "    .dataframe thead th {\n",
       "        text-align: right;\n",
       "    }\n",
       "</style>\n",
       "<table border=\"1\" class=\"dataframe\">\n",
       "  <thead>\n",
       "    <tr style=\"text-align: right;\">\n",
       "      <th></th>\n",
       "      <th>year</th>\n",
       "      <th>total_rounds</th>\n",
       "      <th>avg_raised_amount</th>\n",
       "    </tr>\n",
       "  </thead>\n",
       "  <tbody>\n",
       "    <tr>\n",
       "      <th>15</th>\n",
       "      <td>1999.0</td>\n",
       "      <td>76</td>\n",
       "      <td>2000000.0</td>\n",
       "    </tr>\n",
       "    <tr>\n",
       "      <th>16</th>\n",
       "      <td>2000.0</td>\n",
       "      <td>125</td>\n",
       "      <td>4200000.0</td>\n",
       "    </tr>\n",
       "    <tr>\n",
       "      <th>17</th>\n",
       "      <td>2001.0</td>\n",
       "      <td>96</td>\n",
       "      <td>3000000.0</td>\n",
       "    </tr>\n",
       "    <tr>\n",
       "      <th>18</th>\n",
       "      <td>2002.0</td>\n",
       "      <td>116</td>\n",
       "      <td>4200000.0</td>\n",
       "    </tr>\n",
       "    <tr>\n",
       "      <th>19</th>\n",
       "      <td>2003.0</td>\n",
       "      <td>159</td>\n",
       "      <td>3000000.0</td>\n",
       "    </tr>\n",
       "    <tr>\n",
       "      <th>20</th>\n",
       "      <td>2004.0</td>\n",
       "      <td>291</td>\n",
       "      <td>5000000.0</td>\n",
       "    </tr>\n",
       "    <tr>\n",
       "      <th>21</th>\n",
       "      <td>2005.0</td>\n",
       "      <td>1633</td>\n",
       "      <td>5500000.0</td>\n",
       "    </tr>\n",
       "    <tr>\n",
       "      <th>22</th>\n",
       "      <td>2006.0</td>\n",
       "      <td>2436</td>\n",
       "      <td>5000000.0</td>\n",
       "    </tr>\n",
       "    <tr>\n",
       "      <th>23</th>\n",
       "      <td>2007.0</td>\n",
       "      <td>3279</td>\n",
       "      <td>3973320.0</td>\n",
       "    </tr>\n",
       "    <tr>\n",
       "      <th>24</th>\n",
       "      <td>2008.0</td>\n",
       "      <td>3774</td>\n",
       "      <td>3110000.0</td>\n",
       "    </tr>\n",
       "    <tr>\n",
       "      <th>25</th>\n",
       "      <td>2009.0</td>\n",
       "      <td>4151</td>\n",
       "      <td>2000000.0</td>\n",
       "    </tr>\n",
       "    <tr>\n",
       "      <th>26</th>\n",
       "      <td>2010.0</td>\n",
       "      <td>6221</td>\n",
       "      <td>1602500.0</td>\n",
       "    </tr>\n",
       "    <tr>\n",
       "      <th>27</th>\n",
       "      <td>2011.0</td>\n",
       "      <td>9204</td>\n",
       "      <td>1200000.0</td>\n",
       "    </tr>\n",
       "    <tr>\n",
       "      <th>28</th>\n",
       "      <td>2012.0</td>\n",
       "      <td>9970</td>\n",
       "      <td>1000000.0</td>\n",
       "    </tr>\n",
       "    <tr>\n",
       "      <th>29</th>\n",
       "      <td>2013.0</td>\n",
       "      <td>11072</td>\n",
       "      <td>1200000.0</td>\n",
       "    </tr>\n",
       "  </tbody>\n",
       "</table>\n",
       "</div>"
      ],
      "text/plain": [
       "      year  total_rounds  avg_raised_amount\n",
       "15  1999.0            76          2000000.0\n",
       "16  2000.0           125          4200000.0\n",
       "17  2001.0            96          3000000.0\n",
       "18  2002.0           116          4200000.0\n",
       "19  2003.0           159          3000000.0\n",
       "20  2004.0           291          5000000.0\n",
       "21  2005.0          1633          5500000.0\n",
       "22  2006.0          2436          5000000.0\n",
       "23  2007.0          3279          3973320.0\n",
       "24  2008.0          3774          3110000.0\n",
       "25  2009.0          4151          2000000.0\n",
       "26  2010.0          6221          1602500.0\n",
       "27  2011.0          9204          1200000.0\n",
       "28  2012.0          9970          1000000.0\n",
       "29  2013.0         11072          1200000.0"
      ]
     },
     "metadata": {},
     "output_type": "display_data"
    }
   ],
   "source": [
    "# Выделим год из даты\n",
    "c_df['funded_year'] = c_df['funded_at'].dt.year\n",
    "#Cоставим сводную таблицу \n",
    "pivot_table = c_df.pivot_table(index = 'funded_year', values= ['funding_round_id','raised_amount'] ,aggfunc = {'raised_amount' : 'median', 'funding_round_id': 'count' }).reset_index()\n",
    "\n",
    "pivot_table.columns = ['year', 'total_rounds', 'avg_raised_amount']\n",
    "# Фильтр в 50 раундов финансирования\n",
    "piv = pivot_table[pivot_table['total_rounds'] > 50]\n",
    "display(piv)"
   ]
  },
  {
   "cell_type": "code",
   "execution_count": 123,
   "metadata": {},
   "outputs": [
    {
     "data": {
      "image/png": "[encoded data removed]",
      "text/plain": [
       "<Figure size 864x432 with 1 Axes>"
      ]
     },
     "metadata": {
      "needs_background": "light"
     },
     "output_type": "display_data"
    }
   ],
   "source": [
    "# Строим линейный график\n",
    "piv.plot(kind = 'line',\n",
    "                          x= 'year',\n",
    "                          y = 'avg_raised_amount',\n",
    "                          title = 'Динамика типичного размера средств для стартапов в рамках раунда финансирования',\n",
    "                          xlabel = 'Год',\n",
    "                          ylabel = 'Размер средств',\n",
    "                          figsize  = (12,6),\n",
    "                          legend = False)\n",
    "plt.grid()"
   ]
  },
  {
   "cell_type": "markdown",
   "metadata": {},
   "source": [
    "Пик среднего количества средств, полученных в рамках одного раунда, приходится на 2005г и составляет приблизительно 5 500 000.\n",
    "С 2005г график идет вниз, однако с 2012 года делает разворот стремится вверх - собранные средства достигают 1 200 000 в 2013г. Также в 2013 году было больше всего раундов за все время - 11072. В целом число раундов росло каждый год с 1999г(76), только в 2001г(96) их было меньше, чем в 2000г.(125)."
   ]
  },
  {
   "cell_type": "markdown",
   "metadata": {
    "id": "45if1en1rJg2"
   },
   "source": [
    "\n",
    "### 2.2. Люди и их образование\n",
    "\n",
    "Заказчик хочет понять, зависит ли полнота сведений о сотрудниках (например, об их образовании) от размера компаний.\n",
    "\n",
    "- Оценим, насколько информация об образовании сотрудников полна. Используя датасеты `people.csv` и `education.csv`, разделим все компании на несколько групп по количеству сотрудников и оценим среднюю долю сотрудников без информации об образовании в каждой из групп.\n",
    "- Оценим, возможно ли для выполнения задания присоединить к этим таблицам ещё и таблицу `degrees.csv`."
   ]
  },
  {
   "cell_type": "code",
   "execution_count": 124,
   "metadata": {},
   "outputs": [
    {
     "data": {
      "text/html": [
       "<div>\n",
       "<style scoped>\n",
       "    .dataframe tbody tr th:only-of-type {\n",
       "        vertical-align: middle;\n",
       "    }\n",
       "\n",
       "    .dataframe tbody tr th {\n",
       "        vertical-align: top;\n",
       "    }\n",
       "\n",
       "    .dataframe thead th {\n",
       "        text-align: right;\n",
       "    }\n",
       "</style>\n",
       "<table border=\"1\" class=\"dataframe\">\n",
       "  <thead>\n",
       "    <tr style=\"text-align: right;\">\n",
       "      <th></th>\n",
       "      <th>id_x</th>\n",
       "      <th>first_name</th>\n",
       "      <th>last_name</th>\n",
       "      <th>company_id</th>\n",
       "      <th>network_username</th>\n",
       "      <th>id_y</th>\n",
       "      <th>person_id</th>\n",
       "      <th>instituition</th>\n",
       "      <th>graduated_at</th>\n",
       "      <th>ed_skip</th>\n",
       "    </tr>\n",
       "  </thead>\n",
       "  <tbody>\n",
       "    <tr>\n",
       "      <th>0</th>\n",
       "      <td>10</td>\n",
       "      <td>Mark</td>\n",
       "      <td>Zuckerberg</td>\n",
       "      <td>5</td>\n",
       "      <td>NaN</td>\n",
       "      <td>2415.0</td>\n",
       "      <td>10.0</td>\n",
       "      <td>Harvard University</td>\n",
       "      <td>NaT</td>\n",
       "      <td>0</td>\n",
       "    </tr>\n",
       "    <tr>\n",
       "      <th>1</th>\n",
       "      <td>100</td>\n",
       "      <td>Peter</td>\n",
       "      <td>Lester</td>\n",
       "      <td>27</td>\n",
       "      <td>NaN</td>\n",
       "      <td>NaN</td>\n",
       "      <td>NaN</td>\n",
       "      <td>NaN</td>\n",
       "      <td>NaT</td>\n",
       "      <td>1</td>\n",
       "    </tr>\n",
       "    <tr>\n",
       "      <th>2</th>\n",
       "      <td>1000</td>\n",
       "      <td>Dr. Steven</td>\n",
       "      <td>E. Saunders</td>\n",
       "      <td>292</td>\n",
       "      <td>NaN</td>\n",
       "      <td>NaN</td>\n",
       "      <td>NaN</td>\n",
       "      <td>NaN</td>\n",
       "      <td>NaT</td>\n",
       "      <td>1</td>\n",
       "    </tr>\n",
       "    <tr>\n",
       "      <th>3</th>\n",
       "      <td>10000</td>\n",
       "      <td>Neil</td>\n",
       "      <td>Capel</td>\n",
       "      <td>2526</td>\n",
       "      <td>NaN</td>\n",
       "      <td>NaN</td>\n",
       "      <td>NaN</td>\n",
       "      <td>NaN</td>\n",
       "      <td>NaT</td>\n",
       "      <td>1</td>\n",
       "    </tr>\n",
       "    <tr>\n",
       "      <th>4</th>\n",
       "      <td>100000</td>\n",
       "      <td>Sue</td>\n",
       "      <td>Pilsch</td>\n",
       "      <td>&lt;NA&gt;</td>\n",
       "      <td>NaN</td>\n",
       "      <td>NaN</td>\n",
       "      <td>NaN</td>\n",
       "      <td>NaN</td>\n",
       "      <td>NaT</td>\n",
       "      <td>1</td>\n",
       "    </tr>\n",
       "    <tr>\n",
       "      <th>...</th>\n",
       "      <td>...</td>\n",
       "      <td>...</td>\n",
       "      <td>...</td>\n",
       "      <td>...</td>\n",
       "      <td>...</td>\n",
       "      <td>...</td>\n",
       "      <td>...</td>\n",
       "      <td>...</td>\n",
       "      <td>...</td>\n",
       "      <td>...</td>\n",
       "    </tr>\n",
       "    <tr>\n",
       "      <th>267689</th>\n",
       "      <td>99999</td>\n",
       "      <td>Ramon</td>\n",
       "      <td>Peypoch</td>\n",
       "      <td>&lt;NA&gt;</td>\n",
       "      <td>NaN</td>\n",
       "      <td>NaN</td>\n",
       "      <td>NaN</td>\n",
       "      <td>NaN</td>\n",
       "      <td>NaT</td>\n",
       "      <td>1</td>\n",
       "    </tr>\n",
       "    <tr>\n",
       "      <th>267690</th>\n",
       "      <td>174088</td>\n",
       "      <td>Dr. Ray</td>\n",
       "      <td>Woods</td>\n",
       "      <td>188200</td>\n",
       "      <td>network</td>\n",
       "      <td>25958.0</td>\n",
       "      <td>174088.0</td>\n",
       "      <td>Sydney University Medical School</td>\n",
       "      <td>1982-01-01</td>\n",
       "      <td>0</td>\n",
       "    </tr>\n",
       "    <tr>\n",
       "      <th>267691</th>\n",
       "      <td>118386</td>\n",
       "      <td>Ricardo</td>\n",
       "      <td>Durand</td>\n",
       "      <td>143419</td>\n",
       "      <td>itechsocialnet</td>\n",
       "      <td>18871.0</td>\n",
       "      <td>118386.0</td>\n",
       "      <td>ESCS</td>\n",
       "      <td>2004-01-01</td>\n",
       "      <td>0</td>\n",
       "    </tr>\n",
       "    <tr>\n",
       "      <th>267692</th>\n",
       "      <td>175827</td>\n",
       "      <td>mahesh</td>\n",
       "      <td>kumar</td>\n",
       "      <td>&lt;NA&gt;</td>\n",
       "      <td>socialnethubs</td>\n",
       "      <td>NaN</td>\n",
       "      <td>NaN</td>\n",
       "      <td>NaN</td>\n",
       "      <td>NaT</td>\n",
       "      <td>1</td>\n",
       "    </tr>\n",
       "    <tr>\n",
       "      <th>267693</th>\n",
       "      <td>178190</td>\n",
       "      <td>Alex</td>\n",
       "      <td>Smith</td>\n",
       "      <td>&lt;NA&gt;</td>\n",
       "      <td>esocialnetlike</td>\n",
       "      <td>NaN</td>\n",
       "      <td>NaN</td>\n",
       "      <td>NaN</td>\n",
       "      <td>NaT</td>\n",
       "      <td>1</td>\n",
       "    </tr>\n",
       "  </tbody>\n",
       "</table>\n",
       "<p>267694 rows × 10 columns</p>\n",
       "</div>"
      ],
      "text/plain": [
       "          id_x  first_name    last_name  company_id network_username     id_y  \\\n",
       "0           10        Mark   Zuckerberg           5              NaN   2415.0   \n",
       "1          100       Peter       Lester          27              NaN      NaN   \n",
       "2         1000  Dr. Steven  E. Saunders         292              NaN      NaN   \n",
       "3        10000        Neil        Capel        2526              NaN      NaN   \n",
       "4       100000         Sue       Pilsch        <NA>              NaN      NaN   \n",
       "...        ...         ...          ...         ...              ...      ...   \n",
       "267689   99999       Ramon      Peypoch        <NA>              NaN      NaN   \n",
       "267690  174088     Dr. Ray        Woods      188200          network  25958.0   \n",
       "267691  118386     Ricardo       Durand      143419   itechsocialnet  18871.0   \n",
       "267692  175827      mahesh        kumar        <NA>    socialnethubs      NaN   \n",
       "267693  178190        Alex        Smith        <NA>   esocialnetlike      NaN   \n",
       "\n",
       "        person_id                      instituition graduated_at  ed_skip  \n",
       "0            10.0                Harvard University          NaT        0  \n",
       "1             NaN                               NaN          NaT        1  \n",
       "2             NaN                               NaN          NaT        1  \n",
       "3             NaN                               NaN          NaT        1  \n",
       "4             NaN                               NaN          NaT        1  \n",
       "...           ...                               ...          ...      ...  \n",
       "267689        NaN                               NaN          NaT        1  \n",
       "267690   174088.0  Sydney University Medical School   1982-01-01        0  \n",
       "267691   118386.0                              ESCS   2004-01-01        0  \n",
       "267692        NaN                               NaN          NaT        1  \n",
       "267693        NaN                               NaN          NaT        1  \n",
       "\n",
       "[267694 rows x 10 columns]"
      ]
     },
     "execution_count": 124,
     "metadata": {},
     "output_type": "execute_result"
    }
   ],
   "source": [
    "# Объединение таблиц\n",
    "mer_df = p_df.merge(ed_df, left_on = 'id', right_on = 'person_id', how = 'left')\n",
    "# Создадим столбец с пропуском в информации об образовании у сотрудников\n",
    "# 1 - нет ВУЗа, 0 - есть\n",
    "mer_df['ed_skip'] = mer_df['instituition'].isna().astype('int64')\n",
    "mer_df"
   ]
  },
  {
   "cell_type": "code",
   "execution_count": 125,
   "metadata": {},
   "outputs": [
    {
     "data": {
      "text/html": [
       "<div>\n",
       "<style scoped>\n",
       "    .dataframe tbody tr th:only-of-type {\n",
       "        vertical-align: middle;\n",
       "    }\n",
       "\n",
       "    .dataframe tbody tr th {\n",
       "        vertical-align: top;\n",
       "    }\n",
       "\n",
       "    .dataframe thead th {\n",
       "        text-align: right;\n",
       "    }\n",
       "</style>\n",
       "<table border=\"1\" class=\"dataframe\">\n",
       "  <thead>\n",
       "    <tr style=\"text-align: right;\">\n",
       "      <th></th>\n",
       "      <th>company_id</th>\n",
       "      <th>total_emploees</th>\n",
       "      <th>ed_skip</th>\n",
       "      <th>ed_skipp</th>\n",
       "    </tr>\n",
       "  </thead>\n",
       "  <tbody>\n",
       "    <tr>\n",
       "      <th>48</th>\n",
       "      <td>59</td>\n",
       "      <td>244</td>\n",
       "      <td>76</td>\n",
       "      <td>31.147541</td>\n",
       "    </tr>\n",
       "    <tr>\n",
       "      <th>25</th>\n",
       "      <td>29</td>\n",
       "      <td>150</td>\n",
       "      <td>40</td>\n",
       "      <td>26.666667</td>\n",
       "    </tr>\n",
       "    <tr>\n",
       "      <th>777</th>\n",
       "      <td>1242</td>\n",
       "      <td>138</td>\n",
       "      <td>37</td>\n",
       "      <td>26.811594</td>\n",
       "    </tr>\n",
       "    <tr>\n",
       "      <th>20605</th>\n",
       "      <td>231067</td>\n",
       "      <td>72</td>\n",
       "      <td>14</td>\n",
       "      <td>19.444444</td>\n",
       "    </tr>\n",
       "    <tr>\n",
       "      <th>378</th>\n",
       "      <td>499</td>\n",
       "      <td>63</td>\n",
       "      <td>20</td>\n",
       "      <td>31.746032</td>\n",
       "    </tr>\n",
       "    <tr>\n",
       "      <th>...</th>\n",
       "      <td>...</td>\n",
       "      <td>...</td>\n",
       "      <td>...</td>\n",
       "      <td>...</td>\n",
       "    </tr>\n",
       "    <tr>\n",
       "      <th>10480</th>\n",
       "      <td>63585</td>\n",
       "      <td>1</td>\n",
       "      <td>1</td>\n",
       "      <td>100.000000</td>\n",
       "    </tr>\n",
       "    <tr>\n",
       "      <th>2432</th>\n",
       "      <td>7258</td>\n",
       "      <td>1</td>\n",
       "      <td>0</td>\n",
       "      <td>0.000000</td>\n",
       "    </tr>\n",
       "    <tr>\n",
       "      <th>10478</th>\n",
       "      <td>63581</td>\n",
       "      <td>1</td>\n",
       "      <td>1</td>\n",
       "      <td>100.000000</td>\n",
       "    </tr>\n",
       "    <tr>\n",
       "      <th>10477</th>\n",
       "      <td>63580</td>\n",
       "      <td>1</td>\n",
       "      <td>0</td>\n",
       "      <td>0.000000</td>\n",
       "    </tr>\n",
       "    <tr>\n",
       "      <th>11461</th>\n",
       "      <td>70884</td>\n",
       "      <td>1</td>\n",
       "      <td>0</td>\n",
       "      <td>0.000000</td>\n",
       "    </tr>\n",
       "  </tbody>\n",
       "</table>\n",
       "<p>22922 rows × 4 columns</p>\n",
       "</div>"
      ],
      "text/plain": [
       "       company_id  total_emploees  ed_skip    ed_skipp\n",
       "48             59             244       76   31.147541\n",
       "25             29             150       40   26.666667\n",
       "777          1242             138       37   26.811594\n",
       "20605      231067              72       14   19.444444\n",
       "378           499              63       20   31.746032\n",
       "...           ...             ...      ...         ...\n",
       "10480       63585               1        1  100.000000\n",
       "2432         7258               1        0    0.000000\n",
       "10478       63581               1        1  100.000000\n",
       "10477       63580               1        0    0.000000\n",
       "11461       70884               1        0    0.000000\n",
       "\n",
       "[22922 rows x 4 columns]"
      ]
     },
     "metadata": {},
     "output_type": "display_data"
    }
   ],
   "source": [
    "# Разделим компании на группы по количеству сотрудников без информации об образовании\n",
    "group_ed = mer_df.groupby('company_id', as_index = False).agg({'id_x' : 'nunique', 'ed_skip' : 'sum'}).sort_values(by = 'id_x', ascending = False)\n",
    "group_ed.columns = ['company_id', 'total_emploees', 'ed_skip']\n",
    "group_ed['ed_skipp'] = group_ed['ed_skip'] * 100 / group_ed['total_emploees']\n",
    "display(group_ed)"
   ]
  },
  {
   "cell_type": "code",
   "execution_count": 126,
   "metadata": {},
   "outputs": [
    {
     "data": {
      "text/plain": [
       "1      18117\n",
       "2       2709\n",
       "3        921\n",
       "4        450\n",
       "5        237\n",
       "6        138\n",
       "7        100\n",
       "8         59\n",
       "9         46\n",
       "11        30\n",
       "10        25\n",
       "13        17\n",
       "12        16\n",
       "14         8\n",
       "17         5\n",
       "16         4\n",
       "23         3\n",
       "15         3\n",
       "20         3\n",
       "18         3\n",
       "19         3\n",
       "21         2\n",
       "22         2\n",
       "56         2\n",
       "25         2\n",
       "29         2\n",
       "35         1\n",
       "47         1\n",
       "31         1\n",
       "48         1\n",
       "61         1\n",
       "51         1\n",
       "138        1\n",
       "26         1\n",
       "244        1\n",
       "72         1\n",
       "36         1\n",
       "39         1\n",
       "32         1\n",
       "150        1\n",
       "63         1\n",
       "Name: total_emploees, dtype: int64"
      ]
     },
     "execution_count": 126,
     "metadata": {},
     "output_type": "execute_result"
    }
   ],
   "source": [
    "# Распределение количества сотрудников\n",
    "group_ed['total_emploees'].value_counts()"
   ]
  },
  {
   "cell_type": "markdown",
   "metadata": {},
   "source": [
    "В предстваленных данных мало крупных компаний, большая часть компаний имеет малое количество сотрудников. Поэтому создадим категоризацию до 26 сотрудников и все, что больше 26."
   ]
  },
  {
   "cell_type": "code",
   "execution_count": 127,
   "metadata": {},
   "outputs": [],
   "source": [
    "# Категоризацию компаний\n",
    "def categ_comp(value):\n",
    "    if value == 1:\n",
    "        return '1'\n",
    "    elif value == 2:\n",
    "        return '2'\n",
    "    elif value == 3:\n",
    "        return '3'\n",
    "    elif (value == 4) | (value == 5):\n",
    "        return '4-5'\n",
    "    elif (value >= 6) & (value <= 10):\n",
    "        return '6-10'\n",
    "    elif (value >= 11) & (value <= 25):\n",
    "        return '11-25'\n",
    "    elif value >= 26:\n",
    "        return '26+'\n",
    "    \n",
    "group_ed['type_company'] = group_ed['total_emploees'].apply(categ_comp)\n",
    "\n",
    "categ_comp = group_ed.groupby('type_company').agg({'ed_skipp' : 'mean', 'total_emploees' : 'count'})"
   ]
  },
  {
   "cell_type": "code",
   "execution_count": 128,
   "metadata": {},
   "outputs": [
    {
     "data": {
      "text/html": [
       "<div>\n",
       "<style scoped>\n",
       "    .dataframe tbody tr th:only-of-type {\n",
       "        vertical-align: middle;\n",
       "    }\n",
       "\n",
       "    .dataframe tbody tr th {\n",
       "        vertical-align: top;\n",
       "    }\n",
       "\n",
       "    .dataframe thead th {\n",
       "        text-align: right;\n",
       "    }\n",
       "</style>\n",
       "<table border=\"1\" class=\"dataframe\">\n",
       "  <thead>\n",
       "    <tr style=\"text-align: right;\">\n",
       "      <th></th>\n",
       "      <th>ed_skipp_avg</th>\n",
       "      <th>total_companies</th>\n",
       "    </tr>\n",
       "    <tr>\n",
       "      <th>type_company</th>\n",
       "      <th></th>\n",
       "      <th></th>\n",
       "    </tr>\n",
       "  </thead>\n",
       "  <tbody>\n",
       "    <tr>\n",
       "      <th>1</th>\n",
       "      <td>46.337694</td>\n",
       "      <td>18117</td>\n",
       "    </tr>\n",
       "    <tr>\n",
       "      <th>2</th>\n",
       "      <td>46.696198</td>\n",
       "      <td>2709</td>\n",
       "    </tr>\n",
       "    <tr>\n",
       "      <th>3</th>\n",
       "      <td>48.787550</td>\n",
       "      <td>921</td>\n",
       "    </tr>\n",
       "    <tr>\n",
       "      <th>4-5</th>\n",
       "      <td>49.796215</td>\n",
       "      <td>687</td>\n",
       "    </tr>\n",
       "    <tr>\n",
       "      <th>6-10</th>\n",
       "      <td>53.260438</td>\n",
       "      <td>368</td>\n",
       "    </tr>\n",
       "    <tr>\n",
       "      <th>11-25</th>\n",
       "      <td>45.965982</td>\n",
       "      <td>101</td>\n",
       "    </tr>\n",
       "    <tr>\n",
       "      <th>26+</th>\n",
       "      <td>26.838996</td>\n",
       "      <td>19</td>\n",
       "    </tr>\n",
       "  </tbody>\n",
       "</table>\n",
       "</div>"
      ],
      "text/plain": [
       "              ed_skipp_avg  total_companies\n",
       "type_company                               \n",
       "1                46.337694            18117\n",
       "2                46.696198             2709\n",
       "3                48.787550              921\n",
       "4-5              49.796215              687\n",
       "6-10             53.260438              368\n",
       "11-25            45.965982              101\n",
       "26+              26.838996               19"
      ]
     },
     "execution_count": 128,
     "metadata": {},
     "output_type": "execute_result"
    }
   ],
   "source": [
    "categ_comp.columns = ['ed_skipp_avg', 'total_companies']\n",
    "categ_comp.sort_values(by = 'total_companies', ascending = False)"
   ]
  },
  {
   "cell_type": "markdown",
   "metadata": {},
   "source": [
    "В процессе исследования были соединены таблицы `people` и `education`, таблицу `degrees` было решено не использовать, так как данных первых двух таблиц хватило для исследования.\n",
    "Были выведены группы 1, 2, 3, 4-5, 6-10, 11-25 и более 26. Такая категоризация обусловлена тем, что в большинстве компаний 1-5 работников в выборке. В среднем у половины работников в каждой группе до 26 отсутствует информация об образовании, в компаниях со свыше 26 работников информация об образовании отсутствует только у 27% работников."
   ]
  },
  {
   "cell_type": "markdown",
   "metadata": {
    "id": "Lz7qjM32xglW"
   },
   "source": [
    "### 2.3. Объединять или не объединять — вот в чём вопрос\n",
    "\n",
    "Некоторые названия столбцов встречаются в датасетах чаще других. В результате предварительной проверки датасетов было выяснено, что столбец `company_id` подходит для объединения данных.\n",
    "\n",
    "- Установим, подходит ли для объединения данных столбец `network_username`, который встречается в нескольких датасетах. Нам необходимо понимать, дублируется ли для разных датасетов информация в столбцах с таким названием, и если да — то насколько часто.\n",
    "- Оценим, можно ли использовать столбцы с именем `network_username` для объединения данных."
   ]
  },
  {
   "cell_type": "markdown",
   "metadata": {},
   "source": [
    " Столбец `network_username` содержится в датасетах p_df и c_df). Уберем пропуски в столбце `network_username` для исследования и посчитаем количество уникальных и неуникальных значений в нем"
   ]
  },
  {
   "cell_type": "code",
   "execution_count": 129,
   "metadata": {
    "id": "zyI3rt0rxg1O"
   },
   "outputs": [
    {
     "data": {
      "text/plain": [
       "0         BachelrWetpaint\n",
       "1         BachelrWetpaint\n",
       "2         BachelrWetpaint\n",
       "9                Hostnine\n",
       "11              getvetter\n",
       "               ...       \n",
       "217467            network\n",
       "217468          pPhotonet\n",
       "217469           Photonet\n",
       "217470           Photonet\n",
       "217471           Photonet\n",
       "Name: network_username, Length: 95534, dtype: object"
      ]
     },
     "metadata": {},
     "output_type": "display_data"
    },
    {
     "data": {
      "text/plain": [
       "79571"
      ]
     },
     "metadata": {},
     "output_type": "display_data"
    },
    {
     "data": {
      "text/plain": [
       "95534"
      ]
     },
     "metadata": {},
     "output_type": "display_data"
    }
   ],
   "source": [
    "net_comp_noNA = c_df['network_username'].dropna()\n",
    "\n",
    "display(net_comp_noNA)\n",
    "display(net_comp_noNA.nunique())\n",
    "display(net_comp_noNA.count())"
   ]
  },
  {
   "cell_type": "markdown",
   "metadata": {},
   "source": [
    "#network_username содержится в двух датасетах(people.csv и company_and_rounds.csv)\n",
    " уберем пропуски в столбце network_username для исследования и посчитаем количество уникальных и неуникальных значений в нем"
   ]
  },
  {
   "cell_type": "code",
   "execution_count": 130,
   "metadata": {
    "id": "RxOS5rwmFcNW"
   },
   "outputs": [
    {
     "data": {
      "text/plain": [
       "6         jobsbostontech\n",
       "8             fbroulette\n",
       "16        adam_beckerman\n",
       "17            netcastles\n",
       "18        OguzKaganAslan\n",
       "               ...      \n",
       "226702      peterlalonde\n",
       "226705           network\n",
       "226706    itechsocialnet\n",
       "226707     socialnethubs\n",
       "226708    esocialnetlike\n",
       "Name: network_username, Length: 38867, dtype: object"
      ]
     },
     "metadata": {},
     "output_type": "display_data"
    },
    {
     "data": {
      "text/plain": [
       "38421"
      ]
     },
     "metadata": {},
     "output_type": "display_data"
    },
    {
     "data": {
      "text/plain": [
       "38867"
      ]
     },
     "metadata": {},
     "output_type": "display_data"
    }
   ],
   "source": [
    "net_p_noNA = p_df['network_username'].dropna()\n",
    "\n",
    "display(net_p_noNA)\n",
    "display(net_p_noNA.nunique())\n",
    "display(net_p_noNA.count())"
   ]
  },
  {
   "cell_type": "code",
   "execution_count": 131,
   "metadata": {
    "id": "_7gjdrGOFcB2"
   },
   "outputs": [
    {
     "data": {
      "text/plain": [
       "2199"
      ]
     },
     "execution_count": 131,
     "metadata": {},
     "output_type": "execute_result"
    }
   ],
   "source": [
    "set1 = set(net_comp_noNA)\n",
    "set2 = set(net_p_noNA)\n",
    "\n",
    "sets = set1.intersection(set2) \n",
    "sets = list(sets)\n",
    "len(sets)"
   ]
  },
  {
   "cell_type": "markdown",
   "metadata": {},
   "source": [
    "В итоге у нас оказалось 2199 совпадений столбца `network_username` в таблицах `people` и `company_and_rounds`. Неуникальных значений равно, cоответственно, 38 867 и 95 534 . Соединять таблицы на основе данного столбца - плохая идея. Совпадений недостаточно."
   ]
  },
  {
   "cell_type": "markdown",
   "metadata": {
    "id": "EHcODomVrJg1"
   },
   "source": [
    "\n",
    "### 2.4. Проблемный датасет и причина возникновения пропусков\n",
    "\n",
    "Во время собственного анализа данных у заказчика больше всего вопросов возникло к датасету `company_and_rounds.csv`. В нём много пропусков как раз в информации о раундах, которая заказчику важна.\n",
    "\n",
    "- Любым удобным способом приведите данные в вид, который позволит в дальнейшем проводить анализ в разрезе отдельных компаний. Обратите внимание на структуру датасета, порядок и названия столбцов, проанализируйте значения.\n",
    "\n",
    "По гипотезе заказчика данные по компаниям из этой таблицы раньше хранились иначе, более удобным для исследования образом.\n",
    "\n",
    "- Максимальным образом сохраняя данные, сохранив их связность и исключив возможные возникающие при этом ошибки, подготовьте данные так, чтобы удобно было отобрать компании по параметрам и рассчитать показатели из расчёта на одну компанию без промежуточных агрегаций."
   ]
  },
  {
   "cell_type": "markdown",
   "metadata": {
    "id": "oSk7xqu_FbaN"
   },
   "source": [
    "Разделим датасет `company_and_rounds` на две таблицы и поработаем с дубликатами."
   ]
  },
  {
   "cell_type": "code",
   "execution_count": 132,
   "metadata": {
    "id": "9BY9lTUcFbJ-"
   },
   "outputs": [
    {
     "name": "stdout",
     "output_type": "stream",
     "text": [
      "<class 'pandas.core.frame.DataFrame'>\n",
      "Int64Index: 196554 entries, 0 to 217472\n",
      "Data columns (total 13 columns):\n",
      " #   Column             Non-Null Count   Dtype         \n",
      "---  ------             --------------   -----         \n",
      " 0   company_id1        196553 non-null  Int64         \n",
      " 1   name               196553 non-null  object        \n",
      " 2   category_code      123186 non-null  object        \n",
      " 3   status             196553 non-null  category      \n",
      " 4   founded_at         91227 non-null   datetime64[ns]\n",
      " 5   closed_at          2620 non-null    datetime64[ns]\n",
      " 6   domain             126545 non-null  category      \n",
      " 7   network_username   80591 non-null   object        \n",
      " 8   country_code       87990 non-null   object        \n",
      " 9   investment_rounds  196553 non-null  Int64         \n",
      " 10  funding_rounds     196553 non-null  Int64         \n",
      " 11  funding_total      196553 non-null  Int64         \n",
      " 12  milestones         196553 non-null  Int64         \n",
      "dtypes: Int64(5), category(2), datetime64[ns](2), object(4)\n",
      "memory usage: 24.9+ MB\n"
     ]
    }
   ],
   "source": [
    "df_comp = c_df.loc[:, :'milestones']\n",
    "df_comp = df_comp.drop_duplicates()\n",
    "df_comp.info()"
   ]
  },
  {
   "cell_type": "code",
   "execution_count": 133,
   "metadata": {
    "id": "tJ6Sl6MKrJg1",
    "vscode": {
     "languageId": "plaintext"
    }
   },
   "outputs": [
    {
     "data": {
      "text/html": [
       "<div>\n",
       "<style scoped>\n",
       "    .dataframe tbody tr th:only-of-type {\n",
       "        vertical-align: middle;\n",
       "    }\n",
       "\n",
       "    .dataframe tbody tr th {\n",
       "        vertical-align: top;\n",
       "    }\n",
       "\n",
       "    .dataframe thead th {\n",
       "        text-align: right;\n",
       "    }\n",
       "</style>\n",
       "<table border=\"1\" class=\"dataframe\">\n",
       "  <thead>\n",
       "    <tr style=\"text-align: right;\">\n",
       "      <th></th>\n",
       "      <th>company_id1</th>\n",
       "      <th>name</th>\n",
       "      <th>category_code</th>\n",
       "      <th>status</th>\n",
       "      <th>founded_at</th>\n",
       "      <th>closed_at</th>\n",
       "      <th>domain</th>\n",
       "      <th>network_username</th>\n",
       "      <th>country_code</th>\n",
       "      <th>investment_rounds</th>\n",
       "      <th>funding_rounds</th>\n",
       "      <th>funding_total</th>\n",
       "      <th>milestones</th>\n",
       "    </tr>\n",
       "  </thead>\n",
       "  <tbody>\n",
       "    <tr>\n",
       "      <th>0</th>\n",
       "      <td>1</td>\n",
       "      <td>Wetpaint</td>\n",
       "      <td>web</td>\n",
       "      <td>operating</td>\n",
       "      <td>2005-10-17</td>\n",
       "      <td>NaT</td>\n",
       "      <td>wetpaint-inc.com</td>\n",
       "      <td>BachelrWetpaint</td>\n",
       "      <td>USA</td>\n",
       "      <td>0</td>\n",
       "      <td>3</td>\n",
       "      <td>39750000</td>\n",
       "      <td>5</td>\n",
       "    </tr>\n",
       "    <tr>\n",
       "      <th>63280</th>\n",
       "      <td>2</td>\n",
       "      <td>AdventNet</td>\n",
       "      <td>enterprise</td>\n",
       "      <td>operating</td>\n",
       "      <td>1996-01-01</td>\n",
       "      <td>NaT</td>\n",
       "      <td>adventnet.com</td>\n",
       "      <td>manageengine</td>\n",
       "      <td>USA</td>\n",
       "      <td>0</td>\n",
       "      <td>0</td>\n",
       "      <td>0</td>\n",
       "      <td>0</td>\n",
       "    </tr>\n",
       "    <tr>\n",
       "      <th>153920</th>\n",
       "      <td>3</td>\n",
       "      <td>Zoho</td>\n",
       "      <td>software</td>\n",
       "      <td>operating</td>\n",
       "      <td>2005-09-15</td>\n",
       "      <td>NaT</td>\n",
       "      <td>zoho.com</td>\n",
       "      <td>zoho</td>\n",
       "      <td>USA</td>\n",
       "      <td>0</td>\n",
       "      <td>0</td>\n",
       "      <td>0</td>\n",
       "      <td>5</td>\n",
       "    </tr>\n",
       "    <tr>\n",
       "      <th>165414</th>\n",
       "      <td>4</td>\n",
       "      <td>Digg</td>\n",
       "      <td>news</td>\n",
       "      <td>acquired</td>\n",
       "      <td>2004-10-11</td>\n",
       "      <td>NaT</td>\n",
       "      <td>digg.com</td>\n",
       "      <td>digg</td>\n",
       "      <td>USA</td>\n",
       "      <td>0</td>\n",
       "      <td>4</td>\n",
       "      <td>45000000</td>\n",
       "      <td>8</td>\n",
       "    </tr>\n",
       "    <tr>\n",
       "      <th>217286</th>\n",
       "      <td>5</td>\n",
       "      <td>Socialnet</td>\n",
       "      <td>social</td>\n",
       "      <td>ipo</td>\n",
       "      <td>2004-02-01</td>\n",
       "      <td>NaT</td>\n",
       "      <td>socialnet.com</td>\n",
       "      <td>socialnet</td>\n",
       "      <td>USA</td>\n",
       "      <td>3</td>\n",
       "      <td>11</td>\n",
       "      <td>2425700000</td>\n",
       "      <td>5</td>\n",
       "    </tr>\n",
       "  </tbody>\n",
       "</table>\n",
       "</div>"
      ],
      "text/plain": [
       "        company_id1       name category_code     status founded_at closed_at  \\\n",
       "0                 1   Wetpaint           web  operating 2005-10-17       NaT   \n",
       "63280             2  AdventNet    enterprise  operating 1996-01-01       NaT   \n",
       "153920            3       Zoho      software  operating 2005-09-15       NaT   \n",
       "165414            4       Digg          news   acquired 2004-10-11       NaT   \n",
       "217286            5  Socialnet        social        ipo 2004-02-01       NaT   \n",
       "\n",
       "                  domain network_username country_code  investment_rounds  \\\n",
       "0       wetpaint-inc.com  BachelrWetpaint          USA                  0   \n",
       "63280      adventnet.com     manageengine          USA                  0   \n",
       "153920          zoho.com             zoho          USA                  0   \n",
       "165414          digg.com             digg          USA                  0   \n",
       "217286     socialnet.com        socialnet          USA                  3   \n",
       "\n",
       "        funding_rounds  funding_total  milestones  \n",
       "0                    3       39750000           5  \n",
       "63280                0              0           0  \n",
       "153920               0              0           5  \n",
       "165414               4       45000000           8  \n",
       "217286              11     2425700000           5  "
      ]
     },
     "execution_count": 133,
     "metadata": {},
     "output_type": "execute_result"
    }
   ],
   "source": [
    "df_comp = df_comp.sort_values(by = 'company_id1')\n",
    "df_comp.head()"
   ]
  },
  {
   "cell_type": "code",
   "execution_count": 134,
   "metadata": {},
   "outputs": [
    {
     "name": "stdout",
     "output_type": "stream",
     "text": [
      "<class 'pandas.core.frame.DataFrame'>\n",
      "Int64Index: 52929 entries, 0 to 217773\n",
      "Data columns (total 10 columns):\n",
      " #   Column               Non-Null Count  Dtype         \n",
      "---  ------               --------------  -----         \n",
      " 0   funding_round_id     52928 non-null  Int64         \n",
      " 1   company_id           52928 non-null  Int64         \n",
      " 2   funded_at            52680 non-null  datetime64[ns]\n",
      " 3   funding_round_type   52928 non-null  category      \n",
      " 4   raised_amount        52928 non-null  Int64         \n",
      " 5   pre_money_valuation  52928 non-null  Int64         \n",
      " 6   participants         52928 non-null  Int64         \n",
      " 7   is_first_round       52928 non-null  Int64         \n",
      " 8   is_last_round        52928 non-null  Int64         \n",
      " 9   funded_year          52680 non-null  float64       \n",
      "dtypes: Int64(7), category(1), datetime64[ns](1), float64(1)\n",
      "memory usage: 4.4 MB\n"
     ]
    }
   ],
   "source": [
    "# Таблица раундов финансирования\n",
    "df_round = c_df[['funding_round_id', 'company_id', 'funded_at', 'funding_round_type',\n",
    "       'raised_amount', 'pre_money_valuation', 'participants',\n",
    "       'is_first_round', 'is_last_round', 'funded_year']]\n",
    "\n",
    "df_round = df_round.drop_duplicates()\n",
    "df_round.info()"
   ]
  },
  {
   "cell_type": "code",
   "execution_count": 135,
   "metadata": {},
   "outputs": [
    {
     "data": {
      "text/html": [
       "<div>\n",
       "<style scoped>\n",
       "    .dataframe tbody tr th:only-of-type {\n",
       "        vertical-align: middle;\n",
       "    }\n",
       "\n",
       "    .dataframe tbody tr th {\n",
       "        vertical-align: top;\n",
       "    }\n",
       "\n",
       "    .dataframe thead th {\n",
       "        text-align: right;\n",
       "    }\n",
       "</style>\n",
       "<table border=\"1\" class=\"dataframe\">\n",
       "  <thead>\n",
       "    <tr style=\"text-align: right;\">\n",
       "      <th></th>\n",
       "      <th>funding_round_id</th>\n",
       "      <th>company_id</th>\n",
       "      <th>funded_at</th>\n",
       "      <th>funding_round_type</th>\n",
       "      <th>raised_amount</th>\n",
       "      <th>pre_money_valuation</th>\n",
       "      <th>participants</th>\n",
       "      <th>is_first_round</th>\n",
       "      <th>is_last_round</th>\n",
       "      <th>funded_year</th>\n",
       "    </tr>\n",
       "  </thead>\n",
       "  <tbody>\n",
       "    <tr>\n",
       "      <th>165414</th>\n",
       "      <td>1</td>\n",
       "      <td>4</td>\n",
       "      <td>2006-12-01</td>\n",
       "      <td>series-b</td>\n",
       "      <td>8500000</td>\n",
       "      <td>0</td>\n",
       "      <td>2</td>\n",
       "      <td>0</td>\n",
       "      <td>0</td>\n",
       "      <td>2006.0</td>\n",
       "    </tr>\n",
       "    <tr>\n",
       "      <th>217286</th>\n",
       "      <td>2</td>\n",
       "      <td>5</td>\n",
       "      <td>2004-09-01</td>\n",
       "      <td>angel</td>\n",
       "      <td>500000</td>\n",
       "      <td>0</td>\n",
       "      <td>2</td>\n",
       "      <td>0</td>\n",
       "      <td>1</td>\n",
       "      <td>2004.0</td>\n",
       "    </tr>\n",
       "    <tr>\n",
       "      <th>217287</th>\n",
       "      <td>3</td>\n",
       "      <td>5</td>\n",
       "      <td>2005-05-01</td>\n",
       "      <td>series-a</td>\n",
       "      <td>12700000</td>\n",
       "      <td>115000000</td>\n",
       "      <td>3</td>\n",
       "      <td>0</td>\n",
       "      <td>0</td>\n",
       "      <td>2005.0</td>\n",
       "    </tr>\n",
       "    <tr>\n",
       "      <th>217288</th>\n",
       "      <td>4</td>\n",
       "      <td>5</td>\n",
       "      <td>2006-04-01</td>\n",
       "      <td>series-b</td>\n",
       "      <td>27500000</td>\n",
       "      <td>525000000</td>\n",
       "      <td>4</td>\n",
       "      <td>0</td>\n",
       "      <td>0</td>\n",
       "      <td>2006.0</td>\n",
       "    </tr>\n",
       "    <tr>\n",
       "      <th>202858</th>\n",
       "      <td>5</td>\n",
       "      <td>7299</td>\n",
       "      <td>2006-05-01</td>\n",
       "      <td>series-b</td>\n",
       "      <td>10500000</td>\n",
       "      <td>0</td>\n",
       "      <td>2</td>\n",
       "      <td>0</td>\n",
       "      <td>0</td>\n",
       "      <td>2006.0</td>\n",
       "    </tr>\n",
       "  </tbody>\n",
       "</table>\n",
       "</div>"
      ],
      "text/plain": [
       "        funding_round_id  company_id  funded_at funding_round_type  \\\n",
       "165414                 1           4 2006-12-01           series-b   \n",
       "217286                 2           5 2004-09-01              angel   \n",
       "217287                 3           5 2005-05-01           series-a   \n",
       "217288                 4           5 2006-04-01           series-b   \n",
       "202858                 5        7299 2006-05-01           series-b   \n",
       "\n",
       "        raised_amount  pre_money_valuation  participants  is_first_round  \\\n",
       "165414        8500000                    0             2               0   \n",
       "217286         500000                    0             2               0   \n",
       "217287       12700000            115000000             3               0   \n",
       "217288       27500000            525000000             4               0   \n",
       "202858       10500000                    0             2               0   \n",
       "\n",
       "        is_last_round  funded_year  \n",
       "165414              0       2006.0  \n",
       "217286              1       2004.0  \n",
       "217287              0       2005.0  \n",
       "217288              0       2006.0  \n",
       "202858              0       2006.0  "
      ]
     },
     "execution_count": 135,
     "metadata": {},
     "output_type": "execute_result"
    }
   ],
   "source": [
    "df_round\n",
    "df_round = df_round.sort_values(by = 'funding_round_id')\n",
    "df_round.head()"
   ]
  },
  {
   "cell_type": "markdown",
   "metadata": {},
   "source": [
    "В данном шаге мы разделили таблицу `company_and_rounds` на две таблицы, есть вероятность того, что изначально эта таблица не должны была быть единой - она слишком большая и логически делится на две. Теперь у нас есть две таблицы, с которыми удобно работать."
   ]
  },
  {
   "cell_type": "markdown",
   "metadata": {
    "id": "bmVYhphNrJg2"
   },
   "source": [
    "\n",
    "## Шаг 3. Исследовательский анализ объединённых таблиц\n",
    "\n",
    "> Приступите к шагу 3 после проверки ревьюера.\n",
    "\n",
    "<big>Студентам нужно чётко сказать - проверять дальше или не проверять.</big>"
   ]
  },
  {
   "cell_type": "markdown",
   "metadata": {
    "id": "3Di6tCT3rJg2"
   },
   "source": [
    "\n",
    "### 3.1. Объединение данных\n",
    "\n",
    "Объедините данные для ответа на вопросы заказчика, которые касаются интересующих его компаний. Заказчика прежде всего интересуют те компании, которые меняли или готовы менять владельцев. Получение инвестиций или финансирования, по мнению заказчика, означает интерес к покупке или продаже компании.\n",
    "\n",
    "В качестве основы для объединённой таблицы возьмите данные из обработанного датасета `company_and_rounds.csv` — выберите только те компании, у которых указаны значения `funding_rounds` или `investment_rounds` больше нуля, или те, у которых в колонке `status` указано `acquired`. В результирующей таблице должно получиться порядка 40 тысяч компаний.\n",
    "\n",
    "Проверьте полноту и корректность получившейся таблицы. Далее работайте только с этими данными."
   ]
  },
  {
   "cell_type": "code",
   "execution_count": 136,
   "metadata": {
    "id": "kuV1b5MXFg3_"
   },
   "outputs": [
    {
     "name": "stdout",
     "output_type": "stream",
     "text": [
      "        company_id1                     name    category_code     status  \\\n",
      "0                 1                 Wetpaint              web  operating   \n",
      "165414            4                     Digg             news   acquired   \n",
      "217286            5                Socialnet           social        ipo   \n",
      "199822            7                Omnidrive  network_hosting     closed   \n",
      "209255            8                  Postini              web   acquired   \n",
      "...             ...                      ...              ...        ...   \n",
      "152324       286183             Wedding Spot              web  operating   \n",
      "152325       286184            Seldar Pharma          biotech  operating   \n",
      "152326       286186               Micromidas        cleantech  operating   \n",
      "152339       286200                     STWA            other  operating   \n",
      "152354       286215  The Betty Mills Company        ecommerce  operating   \n",
      "\n",
      "       founded_at  closed_at            domain network_username country_code  \\\n",
      "0      2005-10-17        NaT  wetpaint-inc.com  BachelrWetpaint          USA   \n",
      "165414 2004-10-11        NaT          digg.com             digg          USA   \n",
      "217286 2004-02-01        NaT     socialnet.com        socialnet          USA   \n",
      "199822 2005-11-01 2008-09-15     omnidrive.com         Nomadesk          ISR   \n",
      "209255 1999-06-02        NaT       postini.com              NaN          USA   \n",
      "...           ...        ...               ...              ...          ...   \n",
      "152324 2013-05-01        NaT  wedding-spot.com      weddingspot          USA   \n",
      "152325        NaT        NaT               NaN              NaN          USA   \n",
      "152326        NaT        NaT    micromidas.com              NaN          USA   \n",
      "152339 1998-01-01        NaT          stwa.com              NaN          USA   \n",
      "152354        NaT        NaT    bettymills.com              NaN          USA   \n",
      "\n",
      "        investment_rounds  funding_rounds  funding_total  milestones  \n",
      "0                       0               3       39750000           5  \n",
      "165414                  0               4       45000000           8  \n",
      "217286                  3              11     2425700000           5  \n",
      "199822                  0               1         800000           4  \n",
      "209255                  0               0              0           0  \n",
      "...                   ...             ...            ...         ...  \n",
      "152324                  0               1         225000           0  \n",
      "152325                  0               1       12999000           0  \n",
      "152326                  0               1        2156060           0  \n",
      "152339                  0               1        1588120           0  \n",
      "152354                  0               1         271250           0  \n",
      "\n",
      "[40747 rows x 13 columns]\n"
     ]
    }
   ],
   "source": [
    "# Фильтруем датасет для получения необходимых компаний\n",
    "filtered_df = df_comp.loc[(df_comp['funding_rounds'] > 0) | (df_comp['investment_rounds'] > 0) |\n",
    "                         (df_comp['status'] == 'acquired')]\n",
    "print(filtered_df)"
   ]
  },
  {
   "cell_type": "code",
   "execution_count": 137,
   "metadata": {},
   "outputs": [
    {
     "name": "stdout",
     "output_type": "stream",
     "text": [
      "<class 'pandas.core.frame.DataFrame'>\n",
      "Int64Index: 40747 entries, 0 to 152354\n",
      "Data columns (total 13 columns):\n",
      " #   Column             Non-Null Count  Dtype         \n",
      "---  ------             --------------  -----         \n",
      " 0   company_id1        40747 non-null  Int64         \n",
      " 1   name               40747 non-null  object        \n",
      " 2   category_code      35315 non-null  object        \n",
      " 3   status             40747 non-null  category      \n",
      " 4   founded_at         27807 non-null  datetime64[ns]\n",
      " 5   closed_at          2128 non-null   datetime64[ns]\n",
      " 6   domain             35754 non-null  category      \n",
      " 7   network_username   20850 non-null  object        \n",
      " 8   country_code       34742 non-null  object        \n",
      " 9   investment_rounds  40747 non-null  Int64         \n",
      " 10  funding_rounds     40747 non-null  Int64         \n",
      " 11  funding_total      40747 non-null  Int64         \n",
      " 12  milestones         40747 non-null  Int64         \n",
      "dtypes: Int64(5), category(2), datetime64[ns](2), object(4)\n",
      "memory usage: 9.1+ MB\n"
     ]
    },
    {
     "data": {
      "text/html": [
       "<div>\n",
       "<style scoped>\n",
       "    .dataframe tbody tr th:only-of-type {\n",
       "        vertical-align: middle;\n",
       "    }\n",
       "\n",
       "    .dataframe tbody tr th {\n",
       "        vertical-align: top;\n",
       "    }\n",
       "\n",
       "    .dataframe thead th {\n",
       "        text-align: right;\n",
       "    }\n",
       "</style>\n",
       "<table border=\"1\" class=\"dataframe\">\n",
       "  <thead>\n",
       "    <tr style=\"text-align: right;\">\n",
       "      <th></th>\n",
       "      <th>company_id1</th>\n",
       "      <th>name</th>\n",
       "      <th>category_code</th>\n",
       "      <th>status</th>\n",
       "      <th>founded_at</th>\n",
       "      <th>closed_at</th>\n",
       "      <th>domain</th>\n",
       "      <th>network_username</th>\n",
       "      <th>country_code</th>\n",
       "      <th>investment_rounds</th>\n",
       "      <th>funding_rounds</th>\n",
       "      <th>funding_total</th>\n",
       "      <th>milestones</th>\n",
       "    </tr>\n",
       "  </thead>\n",
       "  <tbody>\n",
       "    <tr>\n",
       "      <th>0</th>\n",
       "      <td>1</td>\n",
       "      <td>Wetpaint</td>\n",
       "      <td>web</td>\n",
       "      <td>operating</td>\n",
       "      <td>2005-10-17</td>\n",
       "      <td>NaT</td>\n",
       "      <td>wetpaint-inc.com</td>\n",
       "      <td>BachelrWetpaint</td>\n",
       "      <td>USA</td>\n",
       "      <td>0</td>\n",
       "      <td>3</td>\n",
       "      <td>39750000</td>\n",
       "      <td>5</td>\n",
       "    </tr>\n",
       "    <tr>\n",
       "      <th>165414</th>\n",
       "      <td>4</td>\n",
       "      <td>Digg</td>\n",
       "      <td>news</td>\n",
       "      <td>acquired</td>\n",
       "      <td>2004-10-11</td>\n",
       "      <td>NaT</td>\n",
       "      <td>digg.com</td>\n",
       "      <td>digg</td>\n",
       "      <td>USA</td>\n",
       "      <td>0</td>\n",
       "      <td>4</td>\n",
       "      <td>45000000</td>\n",
       "      <td>8</td>\n",
       "    </tr>\n",
       "    <tr>\n",
       "      <th>217286</th>\n",
       "      <td>5</td>\n",
       "      <td>Socialnet</td>\n",
       "      <td>social</td>\n",
       "      <td>ipo</td>\n",
       "      <td>2004-02-01</td>\n",
       "      <td>NaT</td>\n",
       "      <td>socialnet.com</td>\n",
       "      <td>socialnet</td>\n",
       "      <td>USA</td>\n",
       "      <td>3</td>\n",
       "      <td>11</td>\n",
       "      <td>2425700000</td>\n",
       "      <td>5</td>\n",
       "    </tr>\n",
       "    <tr>\n",
       "      <th>199822</th>\n",
       "      <td>7</td>\n",
       "      <td>Omnidrive</td>\n",
       "      <td>network_hosting</td>\n",
       "      <td>closed</td>\n",
       "      <td>2005-11-01</td>\n",
       "      <td>2008-09-15</td>\n",
       "      <td>omnidrive.com</td>\n",
       "      <td>Nomadesk</td>\n",
       "      <td>ISR</td>\n",
       "      <td>0</td>\n",
       "      <td>1</td>\n",
       "      <td>800000</td>\n",
       "      <td>4</td>\n",
       "    </tr>\n",
       "    <tr>\n",
       "      <th>209255</th>\n",
       "      <td>8</td>\n",
       "      <td>Postini</td>\n",
       "      <td>web</td>\n",
       "      <td>acquired</td>\n",
       "      <td>1999-06-02</td>\n",
       "      <td>NaT</td>\n",
       "      <td>postini.com</td>\n",
       "      <td>NaN</td>\n",
       "      <td>USA</td>\n",
       "      <td>0</td>\n",
       "      <td>0</td>\n",
       "      <td>0</td>\n",
       "      <td>0</td>\n",
       "    </tr>\n",
       "  </tbody>\n",
       "</table>\n",
       "</div>"
      ],
      "text/plain": [
       "        company_id1       name    category_code     status founded_at  \\\n",
       "0                 1   Wetpaint              web  operating 2005-10-17   \n",
       "165414            4       Digg             news   acquired 2004-10-11   \n",
       "217286            5  Socialnet           social        ipo 2004-02-01   \n",
       "199822            7  Omnidrive  network_hosting     closed 2005-11-01   \n",
       "209255            8    Postini              web   acquired 1999-06-02   \n",
       "\n",
       "        closed_at            domain network_username country_code  \\\n",
       "0             NaT  wetpaint-inc.com  BachelrWetpaint          USA   \n",
       "165414        NaT          digg.com             digg          USA   \n",
       "217286        NaT     socialnet.com        socialnet          USA   \n",
       "199822 2008-09-15     omnidrive.com         Nomadesk          ISR   \n",
       "209255        NaT       postini.com              NaN          USA   \n",
       "\n",
       "        investment_rounds  funding_rounds  funding_total  milestones  \n",
       "0                       0               3       39750000           5  \n",
       "165414                  0               4       45000000           8  \n",
       "217286                  3              11     2425700000           5  \n",
       "199822                  0               1         800000           4  \n",
       "209255                  0               0              0           0  "
      ]
     },
     "execution_count": 137,
     "metadata": {},
     "output_type": "execute_result"
    }
   ],
   "source": [
    "filtered_df.info()\n",
    "filtered_df.head()"
   ]
  },
  {
   "cell_type": "code",
   "execution_count": 138,
   "metadata": {},
   "outputs": [
    {
     "data": {
      "text/plain": [
       "company_id1              0\n",
       "name                     0\n",
       "category_code         5432\n",
       "status                   0\n",
       "founded_at           12940\n",
       "closed_at            38619\n",
       "domain                4993\n",
       "network_username     19897\n",
       "country_code          6005\n",
       "investment_rounds        0\n",
       "funding_rounds           0\n",
       "funding_total            0\n",
       "milestones               0\n",
       "dtype: int64"
      ]
     },
     "execution_count": 138,
     "metadata": {},
     "output_type": "execute_result"
    }
   ],
   "source": [
    "# Пропуски в абсолютных значениях\n",
    "filtered_df.isna().sum()"
   ]
  },
  {
   "cell_type": "code",
   "execution_count": 139,
   "metadata": {},
   "outputs": [
    {
     "data": {
      "text/plain": [
       "company_id1          0.000000\n",
       "name                 0.000000\n",
       "category_code        0.133310\n",
       "status               0.000000\n",
       "founded_at           0.317569\n",
       "closed_at            0.947775\n",
       "domain               0.122537\n",
       "network_username     0.488306\n",
       "country_code         0.147373\n",
       "investment_rounds    0.000000\n",
       "funding_rounds       0.000000\n",
       "funding_total        0.000000\n",
       "milestones           0.000000\n",
       "dtype: float64"
      ]
     },
     "execution_count": 139,
     "metadata": {},
     "output_type": "execute_result"
    }
   ],
   "source": [
    "#В относительных\n",
    "filtered_df.isna().sum()/filtered_df.shape[0]"
   ]
  },
  {
   "cell_type": "markdown",
   "metadata": {
    "id": "93v3fEX5FgtP"
   },
   "source": [
    "У нас получилось отфлитровать датасет по необходимым для нас признакам. Отфильтрованный датасет состоит из 40747 строк и 13 столбцов. Пропуски в столбцах `closed_at` и `network_username` - нормальное явление, при разборе датафрейма уже упоминали их возможную природу. Пропуски в `founded_at` уже чуть более странные. В остальных случаях пропусков мало и это не повлияет на дальнейшее исследование. Данные достаточно корректные, с ними можно проводить дальнейшую работу."
   ]
  },
  {
   "cell_type": "markdown",
   "metadata": {
    "id": "DFHINkV3rJg2"
   },
   "source": [
    "\n",
    "### 3.2. Анализ выбросов\n",
    "\n",
    "Заказчика интересует обычный для рассматриваемого периода размер средств, который предоставлялся компаниям.\n",
    "\n",
    "- По предобработанному столбцу `funding_total` графическим способом оценим, какой размер общего финансирования для одной компании будет типичным, а какой — выбивающимся.\n",
    "- В процессе расчёта значений обратим внимание, например, на показатели, возвращаемые методом `.describe()`, — объясним их. Применимы ли к таким данным обычные способы нахождения типичных значений?"
   ]
  },
  {
   "cell_type": "code",
   "execution_count": 140,
   "metadata": {
    "id": "8jm75fKXrJg2",
    "vscode": {
     "languageId": "plaintext"
    }
   },
   "outputs": [
    {
     "data": {
      "image/png": "[encoded data removed]",
      "text/plain": [
       "<Figure size 720x432 with 1 Axes>"
      ]
     },
     "metadata": {
      "needs_background": "light"
     },
     "output_type": "display_data"
    }
   ],
   "source": [
    "# Построение ящика с усами\n",
    "plt.figure(figsize=(10, 6))\n",
    "plt.boxplot(filtered_df['funding_total'], vert=False)\n",
    "plt.title('Ящик с усами для общего финансирования')\n",
    "plt.xlabel('Общее финансирование')\n",
    "plt.grid(axis='x', alpha=0.75)\n",
    "\n",
    "# Отображение графика\n",
    "plt.show()\n"
   ]
  },
  {
   "cell_type": "code",
   "execution_count": 141,
   "metadata": {},
   "outputs": [
    {
     "data": {
      "text/plain": [
       "count    4.074700e+04\n",
       "mean     1.013561e+07\n",
       "std      5.646436e+07\n",
       "min      0.000000e+00\n",
       "25%      0.000000e+00\n",
       "50%      6.000000e+05\n",
       "75%      5.650650e+06\n",
       "max      5.700000e+09\n",
       "Name: funding_total, dtype: float64"
      ]
     },
     "execution_count": 141,
     "metadata": {},
     "output_type": "execute_result"
    }
   ],
   "source": [
    "filtered_df['funding_total'].describe()"
   ]
  },
  {
   "cell_type": "code",
   "execution_count": 142,
   "metadata": {
    "id": "S1jrfr7rFhcw"
   },
   "outputs": [
    {
     "data": {
      "text/plain": [
       "Text(0, 0.5, 'Количество компаний')"
      ]
     },
     "execution_count": 142,
     "metadata": {},
     "output_type": "execute_result"
    },
    {
     "data": {
      "image/png": "[encoded data removed]",
      "text/plain": [
       "<Figure size 936x432 with 1 Axes>"
      ]
     },
     "metadata": {
      "needs_background": "light"
     },
     "output_type": "display_data"
    }
   ],
   "source": [
    "filtered_df['funding_total'].plot(kind = 'hist', color = 'skyblue', edgecolor = 'black', bins = 50, figsize = (13,6), title = 'Распределение сумм финансирования компаний', log = True)\n",
    "\n",
    "\n",
    "plt.xlabel('Общее финансирование (логарифмическая шкала)') \n",
    "plt.ylabel('Количество компаний')"
   ]
  },
  {
   "cell_type": "markdown",
   "metadata": {},
   "source": [
    "Распределение ассиметричное и имеет правый хвост, общее финансирование компаний стремится к нулю."
   ]
  },
  {
   "cell_type": "markdown",
   "metadata": {
    "id": "JqkRAQrIrJg2"
   },
   "source": [
    "\n",
    "### 3.3. Куплены забесплатно?\n",
    "\n",
    "- Исследуйте компании, которые были проданы за ноль или за один доллар, и при этом известно, что у них был ненулевой общий объём финансирования.\n",
    "\n",
    "- Рассчитайте аналитически верхнюю и нижнюю границу выбросов для столбца `funding_total` и укажите, каким процентилям границы соответствуют."
   ]
  },
  {
   "cell_type": "code",
   "execution_count": 143,
   "metadata": {},
   "outputs": [
    {
     "name": "stdout",
     "output_type": "stream",
     "text": [
      "<class 'pandas.core.frame.DataFrame'>\n",
      "Int64Index: 40890 entries, 0 to 40889\n",
      "Data columns (total 19 columns):\n",
      " #   Column                Non-Null Count  Dtype         \n",
      "---  ------                --------------  -----         \n",
      " 0   company_id1           40890 non-null  Int64         \n",
      " 1   name                  40890 non-null  object        \n",
      " 2   category_code         35436 non-null  object        \n",
      " 3   status                40890 non-null  category      \n",
      " 4   founded_at            27911 non-null  datetime64[ns]\n",
      " 5   closed_at             2128 non-null   datetime64[ns]\n",
      " 6   domain                35883 non-null  category      \n",
      " 7   network_username      20938 non-null  object        \n",
      " 8   country_code          34858 non-null  object        \n",
      " 9   investment_rounds     40890 non-null  Int64         \n",
      " 10  funding_rounds        40890 non-null  Int64         \n",
      " 11  funding_total         40890 non-null  Int64         \n",
      " 12  milestones            40890 non-null  Int64         \n",
      " 13  id                    9390 non-null   float64       \n",
      " 14  acquiring_company_id  9390 non-null   float64       \n",
      " 15  acquired_company_id   9390 non-null   float64       \n",
      " 16  term_code             1830 non-null   object        \n",
      " 17  price_amount          9390 non-null   float64       \n",
      " 18  acquired_at           9361 non-null   datetime64[ns]\n",
      "dtypes: Int64(5), category(2), datetime64[ns](3), float64(4), object(5)\n",
      "memory usage: 11.0+ MB\n"
     ]
    }
   ],
   "source": [
    "# Объединим отфильтрованный датафрейм с acquisition\n",
    "dff = filtered_df.merge(ac_df, how = 'left', left_on = 'company_id1', right_on = 'acquired_company_id')\n",
    "dff.info()"
   ]
  },
  {
   "cell_type": "code",
   "execution_count": 144,
   "metadata": {
    "id": "wJHXCBwwrJg2",
    "vscode": {
     "languageId": "plaintext"
    }
   },
   "outputs": [
    {
     "data": {
      "text/html": [
       "<div>\n",
       "<style scoped>\n",
       "    .dataframe tbody tr th:only-of-type {\n",
       "        vertical-align: middle;\n",
       "    }\n",
       "\n",
       "    .dataframe tbody tr th {\n",
       "        vertical-align: top;\n",
       "    }\n",
       "\n",
       "    .dataframe thead th {\n",
       "        text-align: right;\n",
       "    }\n",
       "</style>\n",
       "<table border=\"1\" class=\"dataframe\">\n",
       "  <thead>\n",
       "    <tr style=\"text-align: right;\">\n",
       "      <th></th>\n",
       "      <th>company_id1</th>\n",
       "      <th>name</th>\n",
       "      <th>category_code</th>\n",
       "      <th>status</th>\n",
       "      <th>founded_at</th>\n",
       "      <th>closed_at</th>\n",
       "      <th>domain</th>\n",
       "      <th>network_username</th>\n",
       "      <th>country_code</th>\n",
       "      <th>investment_rounds</th>\n",
       "      <th>funding_rounds</th>\n",
       "      <th>funding_total</th>\n",
       "      <th>milestones</th>\n",
       "      <th>id</th>\n",
       "      <th>acquiring_company_id</th>\n",
       "      <th>acquired_company_id</th>\n",
       "      <th>term_code</th>\n",
       "      <th>price_amount</th>\n",
       "      <th>acquired_at</th>\n",
       "    </tr>\n",
       "  </thead>\n",
       "  <tbody>\n",
       "    <tr>\n",
       "      <th>5</th>\n",
       "      <td>9</td>\n",
       "      <td>Geni</td>\n",
       "      <td>web</td>\n",
       "      <td>acquired</td>\n",
       "      <td>2006-06-01</td>\n",
       "      <td>NaT</td>\n",
       "      <td>geni.com</td>\n",
       "      <td>geni</td>\n",
       "      <td>USA</td>\n",
       "      <td>0</td>\n",
       "      <td>3</td>\n",
       "      <td>16500000</td>\n",
       "      <td>4</td>\n",
       "      <td>7954.0</td>\n",
       "      <td>687.0</td>\n",
       "      <td>9.0</td>\n",
       "      <td>NaN</td>\n",
       "      <td>0.0</td>\n",
       "      <td>2012-11-28</td>\n",
       "    </tr>\n",
       "    <tr>\n",
       "      <th>9</th>\n",
       "      <td>13</td>\n",
       "      <td>StumbleUpon</td>\n",
       "      <td>web</td>\n",
       "      <td>acquired</td>\n",
       "      <td>2002-02-01</td>\n",
       "      <td>NaT</td>\n",
       "      <td>stumbleupon.com</td>\n",
       "      <td>stumbleupon</td>\n",
       "      <td>USA</td>\n",
       "      <td>0</td>\n",
       "      <td>4</td>\n",
       "      <td>18500000</td>\n",
       "      <td>5</td>\n",
       "      <td>4283.0</td>\n",
       "      <td>20.0</td>\n",
       "      <td>13.0</td>\n",
       "      <td>NaN</td>\n",
       "      <td>0.0</td>\n",
       "      <td>2007-05-30</td>\n",
       "    </tr>\n",
       "    <tr>\n",
       "      <th>11</th>\n",
       "      <td>14</td>\n",
       "      <td>Gizmoz</td>\n",
       "      <td>web</td>\n",
       "      <td>acquired</td>\n",
       "      <td>2003-01-01</td>\n",
       "      <td>NaT</td>\n",
       "      <td>gizmoz.com</td>\n",
       "      <td>NaN</td>\n",
       "      <td>USA</td>\n",
       "      <td>0</td>\n",
       "      <td>3</td>\n",
       "      <td>18100000</td>\n",
       "      <td>4</td>\n",
       "      <td>2692.0</td>\n",
       "      <td>37730.0</td>\n",
       "      <td>14.0</td>\n",
       "      <td>NaN</td>\n",
       "      <td>0.0</td>\n",
       "      <td>2009-12-15</td>\n",
       "    </tr>\n",
       "    <tr>\n",
       "      <th>19</th>\n",
       "      <td>23</td>\n",
       "      <td>Joost</td>\n",
       "      <td>games_video</td>\n",
       "      <td>acquired</td>\n",
       "      <td>2006-10-01</td>\n",
       "      <td>NaT</td>\n",
       "      <td>joost.com</td>\n",
       "      <td>NaN</td>\n",
       "      <td>USA</td>\n",
       "      <td>0</td>\n",
       "      <td>1</td>\n",
       "      <td>45000000</td>\n",
       "      <td>5</td>\n",
       "      <td>2622.0</td>\n",
       "      <td>3396.0</td>\n",
       "      <td>23.0</td>\n",
       "      <td>NaN</td>\n",
       "      <td>0.0</td>\n",
       "      <td>2009-11-24</td>\n",
       "    </tr>\n",
       "    <tr>\n",
       "      <th>32</th>\n",
       "      <td>38</td>\n",
       "      <td>Kyte</td>\n",
       "      <td>games_video</td>\n",
       "      <td>acquired</td>\n",
       "      <td>2006-12-01</td>\n",
       "      <td>NaT</td>\n",
       "      <td>kyte.com</td>\n",
       "      <td>kyte</td>\n",
       "      <td>USA</td>\n",
       "      <td>0</td>\n",
       "      <td>4</td>\n",
       "      <td>23350000</td>\n",
       "      <td>2</td>\n",
       "      <td>5075.0</td>\n",
       "      <td>475.0</td>\n",
       "      <td>38.0</td>\n",
       "      <td>NaN</td>\n",
       "      <td>0.0</td>\n",
       "      <td>2011-01-31</td>\n",
       "    </tr>\n",
       "  </tbody>\n",
       "</table>\n",
       "</div>"
      ],
      "text/plain": [
       "    company_id1         name category_code    status founded_at closed_at  \\\n",
       "5             9         Geni           web  acquired 2006-06-01       NaT   \n",
       "9            13  StumbleUpon           web  acquired 2002-02-01       NaT   \n",
       "11           14       Gizmoz           web  acquired 2003-01-01       NaT   \n",
       "19           23        Joost   games_video  acquired 2006-10-01       NaT   \n",
       "32           38         Kyte   games_video  acquired 2006-12-01       NaT   \n",
       "\n",
       "             domain network_username country_code  investment_rounds  \\\n",
       "5          geni.com             geni          USA                  0   \n",
       "9   stumbleupon.com      stumbleupon          USA                  0   \n",
       "11       gizmoz.com              NaN          USA                  0   \n",
       "19        joost.com              NaN          USA                  0   \n",
       "32         kyte.com             kyte          USA                  0   \n",
       "\n",
       "    funding_rounds  funding_total  milestones      id  acquiring_company_id  \\\n",
       "5                3       16500000           4  7954.0                 687.0   \n",
       "9                4       18500000           5  4283.0                  20.0   \n",
       "11               3       18100000           4  2692.0               37730.0   \n",
       "19               1       45000000           5  2622.0                3396.0   \n",
       "32               4       23350000           2  5075.0                 475.0   \n",
       "\n",
       "    acquired_company_id term_code  price_amount acquired_at  \n",
       "5                   9.0       NaN           0.0  2012-11-28  \n",
       "9                  13.0       NaN           0.0  2007-05-30  \n",
       "11                 14.0       NaN           0.0  2009-12-15  \n",
       "19                 23.0       NaN           0.0  2009-11-24  \n",
       "32                 38.0       NaN           0.0  2011-01-31  "
      ]
     },
     "execution_count": 144,
     "metadata": {},
     "output_type": "execute_result"
    }
   ],
   "source": [
    "# фильтруем покупки за 0 или 1 доллар\n",
    "dfff = dff[((dff['price_amount'] == 0) | (dff['price_amount'] == 1)) & (dff['funding_total'] > 0)]\n",
    "dfff.head()"
   ]
  },
  {
   "cell_type": "code",
   "execution_count": 145,
   "metadata": {
    "id": "9IDTHfYQFhuX"
   },
   "outputs": [
    {
     "data": {
      "text/html": [
       "<div>\n",
       "<style scoped>\n",
       "    .dataframe tbody tr th:only-of-type {\n",
       "        vertical-align: middle;\n",
       "    }\n",
       "\n",
       "    .dataframe tbody tr th {\n",
       "        vertical-align: top;\n",
       "    }\n",
       "\n",
       "    .dataframe thead th {\n",
       "        text-align: right;\n",
       "    }\n",
       "</style>\n",
       "<table border=\"1\" class=\"dataframe\">\n",
       "  <thead>\n",
       "    <tr style=\"text-align: right;\">\n",
       "      <th></th>\n",
       "      <th>company_id1</th>\n",
       "      <th>funding_total</th>\n",
       "    </tr>\n",
       "    <tr>\n",
       "      <th>price_amount</th>\n",
       "      <th></th>\n",
       "      <th></th>\n",
       "    </tr>\n",
       "  </thead>\n",
       "  <tbody>\n",
       "    <tr>\n",
       "      <th>0.0</th>\n",
       "      <td>1618</td>\n",
       "      <td>6000000.0</td>\n",
       "    </tr>\n",
       "  </tbody>\n",
       "</table>\n",
       "</div>"
      ],
      "text/plain": [
       "              company_id1  funding_total\n",
       "price_amount                            \n",
       "0.0                  1618      6000000.0"
      ]
     },
     "execution_count": 145,
     "metadata": {},
     "output_type": "execute_result"
    }
   ],
   "source": [
    "dfff.groupby('price_amount').agg({'company_id1' : 'count', 'funding_total' : 'median'})"
   ]
  },
  {
   "cell_type": "markdown",
   "metadata": {},
   "source": [
    "Существует 1618 компаний, проданных за 0$"
   ]
  },
  {
   "cell_type": "code",
   "execution_count": 146,
   "metadata": {},
   "outputs": [
    {
     "name": "stdout",
     "output_type": "stream",
     "text": [
      "границы выбросов: 35750000.0, -18250000.0\n"
     ]
    }
   ],
   "source": [
    "# Верхняя и нижняя граница выбросов для funding_total\n",
    "Q1 = dfff['funding_total'].quantile(0.25)\n",
    "Q3 = dfff['funding_total'].quantile(0.75)\n",
    "IQR = Q3 -Q1\n",
    "\n",
    "up = Q3 +1.5 *IQR\n",
    "\n",
    "down = Q1- 1.5 * IQR\n",
    "\n",
    "print(f'границы выбросов: {up}, {down}')"
   ]
  },
  {
   "cell_type": "code",
   "execution_count": 147,
   "metadata": {},
   "outputs": [
    {
     "name": "stdout",
     "output_type": "stream",
     "text": [
      " Процент данных выше/ниже границ: 9.085290482076639, 0.0\n"
     ]
    }
   ],
   "source": [
    "low_perc = (dfff['funding_total'] < down).sum()/ len(dfff)* 100\n",
    "high_perc = (dfff['funding_total'] > up).sum()/ len(dfff)* 100\n",
    "\n",
    "print(f' Процент данных выше/ниже границ: {high_perc}, {low_perc}' )"
   ]
  },
  {
   "cell_type": "markdown",
   "metadata": {},
   "source": [
    "9% данных находится выше верхней границы выбросов, ниже нижней границы данных нет."
   ]
  },
  {
   "cell_type": "markdown",
   "metadata": {
    "id": "mEiWpROjrJg2"
   },
   "source": [
    "\n",
    "### 3.4. Цены стартапов по категориям\n",
    "\n",
    "Категории стартапов с типично высокими ценами покупки стартапов и значительным разбросом цен могут быть привлекательными для крупных инвесторов, которые готовы к высоким рискам ради потенциально больших доходов. Среди категорий стартапов выделим категории стартапов, характеризующиеся:\n",
    "\n",
    "- типично высокими ценами;\n",
    "- и наибольшим разбросом цен за стартап.\n",
    "\n",
    "Объясним, почему решили составить топ именно из такого числа категорий и почему рассчитывали именно так."
   ]
  },
  {
   "cell_type": "code",
   "execution_count": 148,
   "metadata": {
    "id": "jQ09dYUWrJg2",
    "vscode": {
     "languageId": "plaintext"
    }
   },
   "outputs": [
    {
     "data": {
      "text/html": [
       "<div>\n",
       "<style scoped>\n",
       "    .dataframe tbody tr th:only-of-type {\n",
       "        vertical-align: middle;\n",
       "    }\n",
       "\n",
       "    .dataframe tbody tr th {\n",
       "        vertical-align: top;\n",
       "    }\n",
       "\n",
       "    .dataframe thead th {\n",
       "        text-align: right;\n",
       "    }\n",
       "</style>\n",
       "<table border=\"1\" class=\"dataframe\">\n",
       "  <thead>\n",
       "    <tr style=\"text-align: right;\">\n",
       "      <th></th>\n",
       "      <th>company_id1</th>\n",
       "      <th>name</th>\n",
       "      <th>category_code</th>\n",
       "      <th>status</th>\n",
       "      <th>founded_at</th>\n",
       "      <th>closed_at</th>\n",
       "      <th>domain</th>\n",
       "      <th>network_username</th>\n",
       "      <th>country_code</th>\n",
       "      <th>investment_rounds</th>\n",
       "      <th>funding_rounds</th>\n",
       "      <th>funding_total</th>\n",
       "      <th>milestones</th>\n",
       "      <th>id</th>\n",
       "      <th>acquiring_company_id</th>\n",
       "      <th>acquired_company_id</th>\n",
       "      <th>term_code</th>\n",
       "      <th>price_amount</th>\n",
       "      <th>acquired_at</th>\n",
       "    </tr>\n",
       "  </thead>\n",
       "  <tbody>\n",
       "    <tr>\n",
       "      <th>1</th>\n",
       "      <td>4</td>\n",
       "      <td>Digg</td>\n",
       "      <td>news</td>\n",
       "      <td>acquired</td>\n",
       "      <td>2004-10-11</td>\n",
       "      <td>NaT</td>\n",
       "      <td>digg.com</td>\n",
       "      <td>digg</td>\n",
       "      <td>USA</td>\n",
       "      <td>0</td>\n",
       "      <td>4</td>\n",
       "      <td>45000000</td>\n",
       "      <td>8</td>\n",
       "      <td>7386.0</td>\n",
       "      <td>20953.0</td>\n",
       "      <td>4.0</td>\n",
       "      <td>NaN</td>\n",
       "      <td>500000.0</td>\n",
       "      <td>2012-07-12</td>\n",
       "    </tr>\n",
       "    <tr>\n",
       "      <th>4</th>\n",
       "      <td>8</td>\n",
       "      <td>Postini</td>\n",
       "      <td>web</td>\n",
       "      <td>acquired</td>\n",
       "      <td>1999-06-02</td>\n",
       "      <td>NaT</td>\n",
       "      <td>postini.com</td>\n",
       "      <td>NaN</td>\n",
       "      <td>USA</td>\n",
       "      <td>0</td>\n",
       "      <td>0</td>\n",
       "      <td>0</td>\n",
       "      <td>0</td>\n",
       "      <td>419.0</td>\n",
       "      <td>59.0</td>\n",
       "      <td>8.0</td>\n",
       "      <td>cash</td>\n",
       "      <td>625000000.0</td>\n",
       "      <td>2007-07-09</td>\n",
       "    </tr>\n",
       "    <tr>\n",
       "      <th>6</th>\n",
       "      <td>10</td>\n",
       "      <td>Flektor</td>\n",
       "      <td>games_video</td>\n",
       "      <td>acquired</td>\n",
       "      <td>NaT</td>\n",
       "      <td>NaT</td>\n",
       "      <td>flektor.com</td>\n",
       "      <td>NaN</td>\n",
       "      <td>USA</td>\n",
       "      <td>0</td>\n",
       "      <td>0</td>\n",
       "      <td>0</td>\n",
       "      <td>0</td>\n",
       "      <td>1.0</td>\n",
       "      <td>11.0</td>\n",
       "      <td>10.0</td>\n",
       "      <td>NaN</td>\n",
       "      <td>20000000.0</td>\n",
       "      <td>2007-05-30</td>\n",
       "    </tr>\n",
       "    <tr>\n",
       "      <th>10</th>\n",
       "      <td>13</td>\n",
       "      <td>StumbleUpon</td>\n",
       "      <td>web</td>\n",
       "      <td>acquired</td>\n",
       "      <td>2002-02-01</td>\n",
       "      <td>NaT</td>\n",
       "      <td>stumbleupon.com</td>\n",
       "      <td>stumbleupon</td>\n",
       "      <td>USA</td>\n",
       "      <td>0</td>\n",
       "      <td>4</td>\n",
       "      <td>18500000</td>\n",
       "      <td>5</td>\n",
       "      <td>5984.0</td>\n",
       "      <td>13.0</td>\n",
       "      <td>13.0</td>\n",
       "      <td>NaN</td>\n",
       "      <td>29000000.0</td>\n",
       "      <td>2009-04-01</td>\n",
       "    </tr>\n",
       "    <tr>\n",
       "      <th>14</th>\n",
       "      <td>18</td>\n",
       "      <td>Lala</td>\n",
       "      <td>games_video</td>\n",
       "      <td>acquired</td>\n",
       "      <td>NaT</td>\n",
       "      <td>NaT</td>\n",
       "      <td>lala.com</td>\n",
       "      <td>NaN</td>\n",
       "      <td>USA</td>\n",
       "      <td>0</td>\n",
       "      <td>4</td>\n",
       "      <td>44150000</td>\n",
       "      <td>6</td>\n",
       "      <td>2657.0</td>\n",
       "      <td>1654.0</td>\n",
       "      <td>18.0</td>\n",
       "      <td>cash_and_stock</td>\n",
       "      <td>80000000.0</td>\n",
       "      <td>2009-12-05</td>\n",
       "    </tr>\n",
       "  </tbody>\n",
       "</table>\n",
       "</div>"
      ],
      "text/plain": [
       "    company_id1         name category_code    status founded_at closed_at  \\\n",
       "1             4         Digg          news  acquired 2004-10-11       NaT   \n",
       "4             8      Postini           web  acquired 1999-06-02       NaT   \n",
       "6            10      Flektor   games_video  acquired        NaT       NaT   \n",
       "10           13  StumbleUpon           web  acquired 2002-02-01       NaT   \n",
       "14           18         Lala   games_video  acquired        NaT       NaT   \n",
       "\n",
       "             domain network_username country_code  investment_rounds  \\\n",
       "1          digg.com             digg          USA                  0   \n",
       "4       postini.com              NaN          USA                  0   \n",
       "6       flektor.com              NaN          USA                  0   \n",
       "10  stumbleupon.com      stumbleupon          USA                  0   \n",
       "14         lala.com              NaN          USA                  0   \n",
       "\n",
       "    funding_rounds  funding_total  milestones      id  acquiring_company_id  \\\n",
       "1                4       45000000           8  7386.0               20953.0   \n",
       "4                0              0           0   419.0                  59.0   \n",
       "6                0              0           0     1.0                  11.0   \n",
       "10               4       18500000           5  5984.0                  13.0   \n",
       "14               4       44150000           6  2657.0                1654.0   \n",
       "\n",
       "    acquired_company_id       term_code  price_amount acquired_at  \n",
       "1                   4.0             NaN      500000.0  2012-07-12  \n",
       "4                   8.0            cash   625000000.0  2007-07-09  \n",
       "6                  10.0             NaN    20000000.0  2007-05-30  \n",
       "10                 13.0             NaN    29000000.0  2009-04-01  \n",
       "14                 18.0  cash_and_stock    80000000.0  2009-12-05  "
      ]
     },
     "execution_count": 148,
     "metadata": {},
     "output_type": "execute_result"
    }
   ],
   "source": [
    "df_cat = dff[dff['price_amount'] > 0]\n",
    "df_cat.head()"
   ]
  },
  {
   "cell_type": "code",
   "execution_count": 149,
   "metadata": {
    "id": "eF1aULm5FjfY"
   },
   "outputs": [
    {
     "data": {
      "text/plain": [
       "count    2.473000e+03\n",
       "mean     1.495976e+09\n",
       "std      5.230439e+10\n",
       "min      1.000000e+00\n",
       "25%      1.270000e+07\n",
       "50%      5.600000e+07\n",
       "75%      2.650000e+08\n",
       "max      2.600000e+12\n",
       "Name: price_amount, dtype: float64"
      ]
     },
     "execution_count": 149,
     "metadata": {},
     "output_type": "execute_result"
    }
   ],
   "source": [
    "df_cat['price_amount'].describe()"
   ]
  },
  {
   "cell_type": "markdown",
   "metadata": {},
   "source": [
    "Разница между медианным и средним значением слишком большая, что говорит о большом количестве выбросов. Вычислим 1 и 99 процентиль и выведем датафрейм без них."
   ]
  },
  {
   "cell_type": "code",
   "execution_count": 150,
   "metadata": {},
   "outputs": [],
   "source": [
    "q_1 = df_cat['price_amount'].quantile(0.01)\n",
    "q_99 = df_cat['price_amount'].quantile(0.99)"
   ]
  },
  {
   "cell_type": "code",
   "execution_count": 151,
   "metadata": {},
   "outputs": [],
   "source": [
    "cat_per = df_cat[(df_cat['price_amount'] < q_99) & (df_cat['price_amount'] > q_1)]"
   ]
  },
  {
   "cell_type": "code",
   "execution_count": 152,
   "metadata": {},
   "outputs": [
    {
     "data": {
      "text/plain": [
       "10000000.0     44\n",
       "30000000.0     38\n",
       "50000000.0     37\n",
       "20000000.0     36\n",
       "100000000.0    30\n",
       "               ..\n",
       "15040000.0      1\n",
       "73500000.0      1\n",
       "56400000.0      1\n",
       "394000000.0     1\n",
       "171600000.0     1\n",
       "Name: price_amount, Length: 1005, dtype: int64"
      ]
     },
     "execution_count": 152,
     "metadata": {},
     "output_type": "execute_result"
    }
   ],
   "source": [
    "cat_per['price_amount'].value_counts()"
   ]
  },
  {
   "cell_type": "code",
   "execution_count": 153,
   "metadata": {},
   "outputs": [
    {
     "data": {
      "text/html": [
       "<div>\n",
       "<style scoped>\n",
       "    .dataframe tbody tr th:only-of-type {\n",
       "        vertical-align: middle;\n",
       "    }\n",
       "\n",
       "    .dataframe tbody tr th {\n",
       "        vertical-align: top;\n",
       "    }\n",
       "\n",
       "    .dataframe thead th {\n",
       "        text-align: right;\n",
       "    }\n",
       "</style>\n",
       "<table border=\"1\" class=\"dataframe\">\n",
       "  <thead>\n",
       "    <tr style=\"text-align: right;\">\n",
       "      <th></th>\n",
       "      <th>category_code</th>\n",
       "      <th>meadian_price</th>\n",
       "      <th>std_price</th>\n",
       "    </tr>\n",
       "  </thead>\n",
       "  <tbody>\n",
       "    <tr>\n",
       "      <th>2</th>\n",
       "      <td>automotive</td>\n",
       "      <td>2.400000e+09</td>\n",
       "      <td>2.581669e+09</td>\n",
       "    </tr>\n",
       "    <tr>\n",
       "      <th>33</th>\n",
       "      <td>sports</td>\n",
       "      <td>6.225000e+08</td>\n",
       "      <td>5.126524e+08</td>\n",
       "    </tr>\n",
       "    <tr>\n",
       "      <th>21</th>\n",
       "      <td>nanotech</td>\n",
       "      <td>5.840000e+08</td>\n",
       "      <td>NaN</td>\n",
       "    </tr>\n",
       "    <tr>\n",
       "      <th>16</th>\n",
       "      <td>manufacturing</td>\n",
       "      <td>4.185000e+08</td>\n",
       "      <td>1.071033e+09</td>\n",
       "    </tr>\n",
       "    <tr>\n",
       "      <th>27</th>\n",
       "      <td>real_estate</td>\n",
       "      <td>4.000000e+08</td>\n",
       "      <td>2.676302e+09</td>\n",
       "    </tr>\n",
       "    <tr>\n",
       "      <th>34</th>\n",
       "      <td>transportation</td>\n",
       "      <td>2.300000e+08</td>\n",
       "      <td>5.726255e+08</td>\n",
       "    </tr>\n",
       "    <tr>\n",
       "      <th>1</th>\n",
       "      <td>analytics</td>\n",
       "      <td>2.000000e+08</td>\n",
       "      <td>9.296774e+07</td>\n",
       "    </tr>\n",
       "    <tr>\n",
       "      <th>9</th>\n",
       "      <td>fashion</td>\n",
       "      <td>1.950000e+08</td>\n",
       "      <td>8.649422e+07</td>\n",
       "    </tr>\n",
       "    <tr>\n",
       "      <th>3</th>\n",
       "      <td>biotech</td>\n",
       "      <td>1.907300e+08</td>\n",
       "      <td>9.653069e+08</td>\n",
       "    </tr>\n",
       "    <tr>\n",
       "      <th>4</th>\n",
       "      <td>cleantech</td>\n",
       "      <td>1.850000e+08</td>\n",
       "      <td>8.744196e+08</td>\n",
       "    </tr>\n",
       "    <tr>\n",
       "      <th>6</th>\n",
       "      <td>ecommerce</td>\n",
       "      <td>1.800000e+08</td>\n",
       "      <td>2.821530e+08</td>\n",
       "    </tr>\n",
       "    <tr>\n",
       "      <th>10</th>\n",
       "      <td>finance</td>\n",
       "      <td>1.715000e+08</td>\n",
       "      <td>1.052920e+09</td>\n",
       "    </tr>\n",
       "    <tr>\n",
       "      <th>17</th>\n",
       "      <td>medical</td>\n",
       "      <td>1.650000e+08</td>\n",
       "      <td>1.659058e+08</td>\n",
       "    </tr>\n",
       "    <tr>\n",
       "      <th>29</th>\n",
       "      <td>security</td>\n",
       "      <td>1.600000e+08</td>\n",
       "      <td>6.639270e+08</td>\n",
       "    </tr>\n",
       "    <tr>\n",
       "      <th>13</th>\n",
       "      <td>health</td>\n",
       "      <td>1.400000e+08</td>\n",
       "      <td>1.927100e+09</td>\n",
       "    </tr>\n",
       "    <tr>\n",
       "      <th>22</th>\n",
       "      <td>network_hosting</td>\n",
       "      <td>1.025000e+08</td>\n",
       "      <td>6.769568e+08</td>\n",
       "    </tr>\n",
       "    <tr>\n",
       "      <th>18</th>\n",
       "      <td>messaging</td>\n",
       "      <td>1.000000e+08</td>\n",
       "      <td>6.907460e+07</td>\n",
       "    </tr>\n",
       "    <tr>\n",
       "      <th>30</th>\n",
       "      <td>semiconductor</td>\n",
       "      <td>1.000000e+08</td>\n",
       "      <td>1.122025e+09</td>\n",
       "    </tr>\n",
       "    <tr>\n",
       "      <th>28</th>\n",
       "      <td>search</td>\n",
       "      <td>9.000000e+07</td>\n",
       "      <td>3.395802e+08</td>\n",
       "    </tr>\n",
       "    <tr>\n",
       "      <th>26</th>\n",
       "      <td>public_relations</td>\n",
       "      <td>8.800000e+07</td>\n",
       "      <td>6.604817e+08</td>\n",
       "    </tr>\n",
       "    <tr>\n",
       "      <th>12</th>\n",
       "      <td>hardware</td>\n",
       "      <td>8.000000e+07</td>\n",
       "      <td>6.485127e+08</td>\n",
       "    </tr>\n",
       "    <tr>\n",
       "      <th>24</th>\n",
       "      <td>other</td>\n",
       "      <td>7.155000e+07</td>\n",
       "      <td>6.002567e+08</td>\n",
       "    </tr>\n",
       "    <tr>\n",
       "      <th>35</th>\n",
       "      <td>travel</td>\n",
       "      <td>6.250000e+07</td>\n",
       "      <td>9.526586e+07</td>\n",
       "    </tr>\n",
       "    <tr>\n",
       "      <th>0</th>\n",
       "      <td>advertising</td>\n",
       "      <td>6.000000e+07</td>\n",
       "      <td>4.954839e+08</td>\n",
       "    </tr>\n",
       "    <tr>\n",
       "      <th>11</th>\n",
       "      <td>games_video</td>\n",
       "      <td>5.825000e+07</td>\n",
       "      <td>7.230602e+08</td>\n",
       "    </tr>\n",
       "    <tr>\n",
       "      <th>14</th>\n",
       "      <td>hospitality</td>\n",
       "      <td>5.750000e+07</td>\n",
       "      <td>7.906006e+08</td>\n",
       "    </tr>\n",
       "    <tr>\n",
       "      <th>36</th>\n",
       "      <td>web</td>\n",
       "      <td>5.550000e+07</td>\n",
       "      <td>6.954405e+08</td>\n",
       "    </tr>\n",
       "    <tr>\n",
       "      <th>19</th>\n",
       "      <td>mobile</td>\n",
       "      <td>5.300000e+07</td>\n",
       "      <td>6.797253e+08</td>\n",
       "    </tr>\n",
       "    <tr>\n",
       "      <th>8</th>\n",
       "      <td>enterprise</td>\n",
       "      <td>5.100000e+07</td>\n",
       "      <td>7.551772e+08</td>\n",
       "    </tr>\n",
       "    <tr>\n",
       "      <th>25</th>\n",
       "      <td>photo_video</td>\n",
       "      <td>5.000000e+07</td>\n",
       "      <td>4.311422e+08</td>\n",
       "    </tr>\n",
       "    <tr>\n",
       "      <th>32</th>\n",
       "      <td>software</td>\n",
       "      <td>4.775000e+07</td>\n",
       "      <td>7.302131e+08</td>\n",
       "    </tr>\n",
       "    <tr>\n",
       "      <th>31</th>\n",
       "      <td>social</td>\n",
       "      <td>4.575000e+07</td>\n",
       "      <td>6.295286e+07</td>\n",
       "    </tr>\n",
       "    <tr>\n",
       "      <th>23</th>\n",
       "      <td>news</td>\n",
       "      <td>4.000000e+07</td>\n",
       "      <td>1.008553e+08</td>\n",
       "    </tr>\n",
       "    <tr>\n",
       "      <th>5</th>\n",
       "      <td>consulting</td>\n",
       "      <td>3.215000e+07</td>\n",
       "      <td>1.018109e+09</td>\n",
       "    </tr>\n",
       "    <tr>\n",
       "      <th>7</th>\n",
       "      <td>education</td>\n",
       "      <td>1.625000e+07</td>\n",
       "      <td>2.883294e+08</td>\n",
       "    </tr>\n",
       "    <tr>\n",
       "      <th>15</th>\n",
       "      <td>local</td>\n",
       "      <td>1.614020e+07</td>\n",
       "      <td>NaN</td>\n",
       "    </tr>\n",
       "    <tr>\n",
       "      <th>20</th>\n",
       "      <td>music</td>\n",
       "      <td>4.860000e+06</td>\n",
       "      <td>1.599781e+08</td>\n",
       "    </tr>\n",
       "  </tbody>\n",
       "</table>\n",
       "</div>"
      ],
      "text/plain": [
       "       category_code  meadian_price     std_price\n",
       "2         automotive   2.400000e+09  2.581669e+09\n",
       "33            sports   6.225000e+08  5.126524e+08\n",
       "21          nanotech   5.840000e+08           NaN\n",
       "16     manufacturing   4.185000e+08  1.071033e+09\n",
       "27       real_estate   4.000000e+08  2.676302e+09\n",
       "34    transportation   2.300000e+08  5.726255e+08\n",
       "1          analytics   2.000000e+08  9.296774e+07\n",
       "9            fashion   1.950000e+08  8.649422e+07\n",
       "3            biotech   1.907300e+08  9.653069e+08\n",
       "4          cleantech   1.850000e+08  8.744196e+08\n",
       "6          ecommerce   1.800000e+08  2.821530e+08\n",
       "10           finance   1.715000e+08  1.052920e+09\n",
       "17           medical   1.650000e+08  1.659058e+08\n",
       "29          security   1.600000e+08  6.639270e+08\n",
       "13            health   1.400000e+08  1.927100e+09\n",
       "22   network_hosting   1.025000e+08  6.769568e+08\n",
       "18         messaging   1.000000e+08  6.907460e+07\n",
       "30     semiconductor   1.000000e+08  1.122025e+09\n",
       "28            search   9.000000e+07  3.395802e+08\n",
       "26  public_relations   8.800000e+07  6.604817e+08\n",
       "12          hardware   8.000000e+07  6.485127e+08\n",
       "24             other   7.155000e+07  6.002567e+08\n",
       "35            travel   6.250000e+07  9.526586e+07\n",
       "0        advertising   6.000000e+07  4.954839e+08\n",
       "11       games_video   5.825000e+07  7.230602e+08\n",
       "14       hospitality   5.750000e+07  7.906006e+08\n",
       "36               web   5.550000e+07  6.954405e+08\n",
       "19            mobile   5.300000e+07  6.797253e+08\n",
       "8         enterprise   5.100000e+07  7.551772e+08\n",
       "25       photo_video   5.000000e+07  4.311422e+08\n",
       "32          software   4.775000e+07  7.302131e+08\n",
       "31            social   4.575000e+07  6.295286e+07\n",
       "23              news   4.000000e+07  1.008553e+08\n",
       "5         consulting   3.215000e+07  1.018109e+09\n",
       "7          education   1.625000e+07  2.883294e+08\n",
       "15             local   1.614020e+07           NaN\n",
       "20             music   4.860000e+06  1.599781e+08"
      ]
     },
     "execution_count": 153,
     "metadata": {},
     "output_type": "execute_result"
    }
   ],
   "source": [
    "df_f = cat_per.groupby('category_code').agg(meadian_price = ('price_amount' , 'median') ,std_price = ('price_amount', 'std')).reset_index()\n",
    "df_f.sort_values(by = 'meadian_price', ascending = False)"
   ]
  },
  {
   "cell_type": "markdown",
   "metadata": {},
   "source": [
    "В таблице выше есть NaN в `std_price`, уберем их."
   ]
  },
  {
   "cell_type": "code",
   "execution_count": 154,
   "metadata": {},
   "outputs": [
    {
     "data": {
      "text/html": [
       "<div>\n",
       "<style scoped>\n",
       "    .dataframe tbody tr th:only-of-type {\n",
       "        vertical-align: middle;\n",
       "    }\n",
       "\n",
       "    .dataframe tbody tr th {\n",
       "        vertical-align: top;\n",
       "    }\n",
       "\n",
       "    .dataframe thead th {\n",
       "        text-align: right;\n",
       "    }\n",
       "</style>\n",
       "<table border=\"1\" class=\"dataframe\">\n",
       "  <thead>\n",
       "    <tr style=\"text-align: right;\">\n",
       "      <th></th>\n",
       "      <th>category_code</th>\n",
       "      <th>meadian_price</th>\n",
       "      <th>std_price</th>\n",
       "    </tr>\n",
       "  </thead>\n",
       "  <tbody>\n",
       "    <tr>\n",
       "      <th>2</th>\n",
       "      <td>automotive</td>\n",
       "      <td>2.400000e+09</td>\n",
       "      <td>2.581669e+09</td>\n",
       "    </tr>\n",
       "    <tr>\n",
       "      <th>33</th>\n",
       "      <td>sports</td>\n",
       "      <td>6.225000e+08</td>\n",
       "      <td>5.126524e+08</td>\n",
       "    </tr>\n",
       "    <tr>\n",
       "      <th>16</th>\n",
       "      <td>manufacturing</td>\n",
       "      <td>4.185000e+08</td>\n",
       "      <td>1.071033e+09</td>\n",
       "    </tr>\n",
       "    <tr>\n",
       "      <th>27</th>\n",
       "      <td>real_estate</td>\n",
       "      <td>4.000000e+08</td>\n",
       "      <td>2.676302e+09</td>\n",
       "    </tr>\n",
       "    <tr>\n",
       "      <th>34</th>\n",
       "      <td>transportation</td>\n",
       "      <td>2.300000e+08</td>\n",
       "      <td>5.726255e+08</td>\n",
       "    </tr>\n",
       "    <tr>\n",
       "      <th>1</th>\n",
       "      <td>analytics</td>\n",
       "      <td>2.000000e+08</td>\n",
       "      <td>9.296774e+07</td>\n",
       "    </tr>\n",
       "    <tr>\n",
       "      <th>9</th>\n",
       "      <td>fashion</td>\n",
       "      <td>1.950000e+08</td>\n",
       "      <td>8.649422e+07</td>\n",
       "    </tr>\n",
       "    <tr>\n",
       "      <th>3</th>\n",
       "      <td>biotech</td>\n",
       "      <td>1.907300e+08</td>\n",
       "      <td>9.653069e+08</td>\n",
       "    </tr>\n",
       "    <tr>\n",
       "      <th>4</th>\n",
       "      <td>cleantech</td>\n",
       "      <td>1.850000e+08</td>\n",
       "      <td>8.744196e+08</td>\n",
       "    </tr>\n",
       "    <tr>\n",
       "      <th>6</th>\n",
       "      <td>ecommerce</td>\n",
       "      <td>1.800000e+08</td>\n",
       "      <td>2.821530e+08</td>\n",
       "    </tr>\n",
       "    <tr>\n",
       "      <th>10</th>\n",
       "      <td>finance</td>\n",
       "      <td>1.715000e+08</td>\n",
       "      <td>1.052920e+09</td>\n",
       "    </tr>\n",
       "    <tr>\n",
       "      <th>17</th>\n",
       "      <td>medical</td>\n",
       "      <td>1.650000e+08</td>\n",
       "      <td>1.659058e+08</td>\n",
       "    </tr>\n",
       "    <tr>\n",
       "      <th>29</th>\n",
       "      <td>security</td>\n",
       "      <td>1.600000e+08</td>\n",
       "      <td>6.639270e+08</td>\n",
       "    </tr>\n",
       "    <tr>\n",
       "      <th>13</th>\n",
       "      <td>health</td>\n",
       "      <td>1.400000e+08</td>\n",
       "      <td>1.927100e+09</td>\n",
       "    </tr>\n",
       "    <tr>\n",
       "      <th>22</th>\n",
       "      <td>network_hosting</td>\n",
       "      <td>1.025000e+08</td>\n",
       "      <td>6.769568e+08</td>\n",
       "    </tr>\n",
       "  </tbody>\n",
       "</table>\n",
       "</div>"
      ],
      "text/plain": [
       "      category_code  meadian_price     std_price\n",
       "2        automotive   2.400000e+09  2.581669e+09\n",
       "33           sports   6.225000e+08  5.126524e+08\n",
       "16    manufacturing   4.185000e+08  1.071033e+09\n",
       "27      real_estate   4.000000e+08  2.676302e+09\n",
       "34   transportation   2.300000e+08  5.726255e+08\n",
       "1         analytics   2.000000e+08  9.296774e+07\n",
       "9           fashion   1.950000e+08  8.649422e+07\n",
       "3           biotech   1.907300e+08  9.653069e+08\n",
       "4         cleantech   1.850000e+08  8.744196e+08\n",
       "6         ecommerce   1.800000e+08  2.821530e+08\n",
       "10          finance   1.715000e+08  1.052920e+09\n",
       "17          medical   1.650000e+08  1.659058e+08\n",
       "29         security   1.600000e+08  6.639270e+08\n",
       "13           health   1.400000e+08  1.927100e+09\n",
       "22  network_hosting   1.025000e+08  6.769568e+08"
      ]
     },
     "execution_count": 154,
     "metadata": {},
     "output_type": "execute_result"
    }
   ],
   "source": [
    "df_1 = df_f[df_f['std_price'].notna()]\n",
    "df_2 = df_1.sort_values(by = 'meadian_price', ascending = False)\n",
    "df_2.head(15)"
   ]
  },
  {
   "cell_type": "markdown",
   "metadata": {},
   "source": [
    "Стартапы в категориях automotive (2,4 миллиарда долларов США), sports, manufacturing и real estate имеют тенденцию к высоким ценам, превышающим 400 миллионов долларов США.\n",
    "\n",
    "Наибольший разброс цен среди стартапов наблюдается в категориях real estate (2,676 миллиарда долларов США), automotive, health и semiconductor."
   ]
  },
  {
   "cell_type": "markdown",
   "metadata": {
    "id": "ADOfyVY_rJg3"
   },
   "source": [
    "\n",
    "### 3.5. Сколько раундов продержится стартап перед покупкой\n",
    "\n",
    "- Необходимо проанализировать столбец `funding_rounds`. Исследуем значения столбца. Заказчика интересует типичное значение количества раундов для каждого возможного статуса стартапа.\n",
    "- Построим график, который отображает, сколько в среднем раундов финансирования проходило для стартапов из каждой группы."
   ]
  },
  {
   "cell_type": "code",
   "execution_count": 163,
   "metadata": {
    "id": "pV3e7kw5Fj1Y"
   },
   "outputs": [
    {
     "data": {
      "text/html": [
       "<div>\n",
       "<style scoped>\n",
       "    .dataframe tbody tr th:only-of-type {\n",
       "        vertical-align: middle;\n",
       "    }\n",
       "\n",
       "    .dataframe tbody tr th {\n",
       "        vertical-align: top;\n",
       "    }\n",
       "\n",
       "    .dataframe thead th {\n",
       "        text-align: right;\n",
       "    }\n",
       "</style>\n",
       "<table border=\"1\" class=\"dataframe\">\n",
       "  <thead>\n",
       "    <tr style=\"text-align: right;\">\n",
       "      <th></th>\n",
       "      <th>status</th>\n",
       "      <th>funding_rounds</th>\n",
       "    </tr>\n",
       "  </thead>\n",
       "  <tbody>\n",
       "    <tr>\n",
       "      <th>0</th>\n",
       "      <td>acquired</td>\n",
       "      <td>1.897766</td>\n",
       "    </tr>\n",
       "    <tr>\n",
       "      <th>1</th>\n",
       "      <td>closed</td>\n",
       "      <td>1.383437</td>\n",
       "    </tr>\n",
       "    <tr>\n",
       "      <th>2</th>\n",
       "      <td>ipo</td>\n",
       "      <td>2.526531</td>\n",
       "    </tr>\n",
       "    <tr>\n",
       "      <th>3</th>\n",
       "      <td>operating</td>\n",
       "      <td>1.642359</td>\n",
       "    </tr>\n",
       "  </tbody>\n",
       "</table>\n",
       "</div>"
      ],
      "text/plain": [
       "      status  funding_rounds\n",
       "0   acquired        1.897766\n",
       "1     closed        1.383437\n",
       "2        ipo        2.526531\n",
       "3  operating        1.642359"
      ]
     },
     "execution_count": 163,
     "metadata": {},
     "output_type": "execute_result"
    }
   ],
   "source": [
    "df_3 = dff[dff['funding_rounds'] >0]\n",
    "df_category = df_3.groupby('status').agg({'funding_rounds':'mean'}).reset_index()\n",
    "df_category"
   ]
  },
  {
   "cell_type": "code",
   "execution_count": 164,
   "metadata": {},
   "outputs": [
    {
     "data": {
      "text/plain": [
       "Text(0, 0.5, 'Типичное количество раундов')"
      ]
     },
     "execution_count": 164,
     "metadata": {},
     "output_type": "execute_result"
    },
    {
     "data": {
      "image/png": "[encoded data removed]",
      "text/plain": [
       "<Figure size 1008x504 with 1 Axes>"
      ]
     },
     "metadata": {
      "needs_background": "light"
     },
     "output_type": "display_data"
    }
   ],
   "source": [
    "# Построим столбчатую диаграму на основе полученных данных\n",
    "df_category.plot(kind='bar', x='status', y='funding_rounds', rot = 0, legend=False, figsize=(14, 7))\n",
    "\n",
    "plt.title('Типичное количество раундов по статусу')\n",
    "plt.xlabel('Статус')\n",
    "plt.ylabel('Типичное количество раундов')"
   ]
  },
  {
   "cell_type": "markdown",
   "metadata": {},
   "source": [
    "У компаний, выходящих на ipo наибольшее количество раундов финансирования, чем у приобретенных - 2 и 1, соответственно."
   ]
  },
  {
   "cell_type": "markdown",
   "metadata": {
    "id": "VAFEZ2HBrJg3"
   },
   "source": [
    "\n",
    "## Шаг 4. Итоговый вывод и рекомендации\n"
   ]
  },
  {
   "cell_type": "markdown",
   "metadata": {},
   "source": [
    "### Этапы работы\n",
    "В данной работе были предприняты следующие шаги:\n",
    "- Первичное знакомство с данными(выгрузка и первичный анализ данных)\n",
    "- Предобработка данных(смена типа данных, стиля написания столбцов и анализ пропусков)\n",
    "- Исследоватальский анализ данных, в котором были сформулированны ответы на вопросы заказчика"
   ]
  },
  {
   "cell_type": "markdown",
   "metadata": {},
   "source": []
  },
  {
   "cell_type": "markdown",
   "metadata": {},
   "source": [
    "### Выводы:\n",
    "\n",
    "1. С течением времени наблюдается рост числа раундов финансирования, однако средний объем привлеченных средств снижается. Это может свидетельствовать о возрастании конкуренции и уменьшении доступности крупных инвестиций.\n",
    "\n",
    "2. В небольших стартапах информация об уровне образования сотрудников зачастую менее полная по сравнению с крупными компаниями. Это может быть связано с меньшей формализацией процессов в стартапах, которые не всегда собирают данные о своих работниках.\n",
    "\n",
    "3. Стартапы, проданные за символическую сумму в 0 или 1 доллар, часто имеют значительное количество привлеченного финансирования. Это может указывать на то, что такие сделки являются частью стратегических приобретений или слияний, при этом цена не отражает реальную стоимость компании.\n",
    "\n",
    "4. Наибольший разброс цен за стартапы наблюдается в таких категориях, как недвижимость `real_estate`, автомобильная промышленность `automotive`, здравоохранение `health` и полупроводники `semiconductor`. Это может быть связано с высокими рисками и потенциальной доходностью этих инвестиций.\n",
    "\n",
    "5. Компании, вышедшие на IPO, проходят большее количество раундов финансирования по сравнению с приобретенными компаниями. Это может быть связано с необходимостью привлечения более значительных средств для выхода на публичный рынок"
   ]
  },
  {
   "cell_type": "markdown",
   "metadata": {},
   "source": [
    "### Рекомендации:\n",
    "\n",
    "1. Обратите внимание на стартапы, которые прошли множество раундов финансирования, особенно те, которые готовятся к IPO. Такие компании могут демонстрировать большую устойчивость и потенциал для роста.\n",
    "\n",
    "2. Рассмотрите возможность инвестирования в крупные стартапы, даже несмотря на высокие риски, поскольку они могут обеспечить значительную прибыль.\n",
    "\n",
    "3. Информация о сотрудниках и их образовании может быть неполной, особенно в небольших стартапах. Это может повлиять на оценку потенциала компании.\n",
    "\n",
    "4. При анализе сделок с нулевой или минимальной ценой учитывайте, что такие сделки могут быть частью стратегических приобретений, и цена не всегда отражает реальную стоимость компании."
   ]
  }
 ],
 "metadata": {
  "ExecuteTimeLog": [
   {
    "duration": 4689,
    "start_time": "2025-06-12T13:48:43.032Z"
   },
   {
    "duration": 1128,
    "start_time": "2025-06-12T13:48:49.320Z"
   },
   {
    "duration": 12,
    "start_time": "2025-06-12T13:50:39.673Z"
   },
   {
    "duration": 8,
    "start_time": "2025-06-12T13:51:05.506Z"
   },
   {
    "duration": 30,
    "start_time": "2025-06-12T13:51:57.501Z"
   },
   {
    "duration": 10,
    "start_time": "2025-06-12T13:51:58.648Z"
   },
   {
    "duration": 7,
    "start_time": "2025-06-12T13:51:59.512Z"
   },
   {
    "duration": 8,
    "start_time": "2025-06-12T13:52:00.272Z"
   },
   {
    "duration": 10,
    "start_time": "2025-06-12T13:52:01.095Z"
   },
   {
    "duration": 7,
    "start_time": "2025-06-12T13:52:01.872Z"
   },
   {
    "duration": 12,
    "start_time": "2025-06-12T13:58:01.855Z"
   },
   {
    "duration": 12,
    "start_time": "2025-06-12T14:08:03.144Z"
   },
   {
    "duration": 19,
    "start_time": "2025-06-12T14:08:47.966Z"
   },
   {
    "duration": 11,
    "start_time": "2025-06-12T14:08:57.883Z"
   },
   {
    "duration": 6,
    "start_time": "2025-06-12T14:13:23.886Z"
   },
   {
    "duration": 11,
    "start_time": "2025-06-12T14:39:36.142Z"
   },
   {
    "duration": 7,
    "start_time": "2025-06-12T14:39:48.834Z"
   },
   {
    "duration": 8,
    "start_time": "2025-06-12T14:39:52.654Z"
   },
   {
    "duration": 90,
    "start_time": "2025-06-12T14:42:55.156Z"
   },
   {
    "duration": 90,
    "start_time": "2025-06-12T14:43:41.203Z"
   },
   {
    "duration": 86,
    "start_time": "2025-06-12T14:43:45.878Z"
   },
   {
    "duration": 1309,
    "start_time": "2025-06-12T14:51:19.635Z"
   },
   {
    "duration": 16,
    "start_time": "2025-06-12T14:51:24.283Z"
   },
   {
    "duration": 41,
    "start_time": "2025-06-12T15:04:54.764Z"
   },
   {
    "duration": 35,
    "start_time": "2025-06-12T15:05:39.626Z"
   },
   {
    "duration": 34,
    "start_time": "2025-06-12T15:05:43.499Z"
   },
   {
    "duration": 43,
    "start_time": "2025-06-12T16:52:08.750Z"
   },
   {
    "duration": 5,
    "start_time": "2025-06-12T16:52:12.242Z"
   },
   {
    "duration": 4507,
    "start_time": "2025-06-12T16:52:41.206Z"
   },
   {
    "duration": 950,
    "start_time": "2025-06-12T16:52:45.715Z"
   },
   {
    "duration": 12,
    "start_time": "2025-06-12T16:52:46.667Z"
   },
   {
    "duration": 22,
    "start_time": "2025-06-12T16:52:46.680Z"
   },
   {
    "duration": 34,
    "start_time": "2025-06-12T16:52:46.725Z"
   },
   {
    "duration": 11,
    "start_time": "2025-06-12T16:52:46.846Z"
   },
   {
    "duration": 7,
    "start_time": "2025-06-12T16:52:47.067Z"
   },
   {
    "duration": 9,
    "start_time": "2025-06-12T16:52:55.611Z"
   },
   {
    "duration": 6,
    "start_time": "2025-06-12T16:52:55.798Z"
   },
   {
    "duration": 10,
    "start_time": "2025-06-12T16:52:56.199Z"
   },
   {
    "duration": 5,
    "start_time": "2025-06-12T16:52:57.000Z"
   },
   {
    "duration": 8,
    "start_time": "2025-06-12T16:52:57.549Z"
   },
   {
    "duration": 8,
    "start_time": "2025-06-12T16:52:57.700Z"
   },
   {
    "duration": 88,
    "start_time": "2025-06-12T16:52:57.990Z"
   },
   {
    "duration": 80,
    "start_time": "2025-06-12T16:52:58.209Z"
   },
   {
    "duration": 83,
    "start_time": "2025-06-12T16:52:58.943Z"
   },
   {
    "duration": 14,
    "start_time": "2025-06-12T16:52:59.107Z"
   },
   {
    "duration": 35,
    "start_time": "2025-06-12T16:52:59.396Z"
   },
   {
    "duration": 31,
    "start_time": "2025-06-12T16:52:59.614Z"
   },
   {
    "duration": 32,
    "start_time": "2025-06-12T16:53:00.613Z"
   },
   {
    "duration": 17,
    "start_time": "2025-06-12T16:53:21.883Z"
   },
   {
    "duration": 13,
    "start_time": "2025-06-12T16:53:38.984Z"
   },
   {
    "duration": 14,
    "start_time": "2025-06-12T16:53:57.878Z"
   },
   {
    "duration": 21,
    "start_time": "2025-06-12T16:57:09.967Z"
   },
   {
    "duration": 18,
    "start_time": "2025-06-12T16:57:25.510Z"
   },
   {
    "duration": 18,
    "start_time": "2025-06-12T16:57:39.947Z"
   },
   {
    "duration": 7,
    "start_time": "2025-06-12T17:16:08.403Z"
   },
   {
    "duration": 10,
    "start_time": "2025-06-12T17:16:35.740Z"
   },
   {
    "duration": 14,
    "start_time": "2025-06-12T17:16:51.085Z"
   },
   {
    "duration": 9,
    "start_time": "2025-06-12T17:16:58.567Z"
   },
   {
    "duration": 85,
    "start_time": "2025-06-12T17:17:45.509Z"
   },
   {
    "duration": 20,
    "start_time": "2025-06-12T17:17:54.003Z"
   },
   {
    "duration": 1472,
    "start_time": "2025-06-12T17:25:34.150Z"
   },
   {
    "duration": 25,
    "start_time": "2025-06-12T17:25:39.794Z"
   },
   {
    "duration": 13,
    "start_time": "2025-06-12T17:25:53.119Z"
   },
   {
    "duration": 16,
    "start_time": "2025-06-12T17:25:55.767Z"
   },
   {
    "duration": 15,
    "start_time": "2025-06-12T17:27:39.750Z"
   },
   {
    "duration": 32,
    "start_time": "2025-06-12T17:37:57.979Z"
   },
   {
    "duration": 7,
    "start_time": "2025-06-12T17:42:27.943Z"
   },
   {
    "duration": 1498,
    "start_time": "2025-06-12T17:43:41.707Z"
   },
   {
    "duration": 1445,
    "start_time": "2025-06-12T17:43:45.361Z"
   },
   {
    "duration": 5,
    "start_time": "2025-06-12T17:43:55.782Z"
   },
   {
    "duration": 1423,
    "start_time": "2025-06-12T17:47:45.668Z"
   },
   {
    "duration": 1347,
    "start_time": "2025-06-12T17:48:04.888Z"
   },
   {
    "duration": 4,
    "start_time": "2025-06-12T17:48:09.612Z"
   },
   {
    "duration": 13,
    "start_time": "2025-06-12T17:49:36.344Z"
   },
   {
    "duration": 286,
    "start_time": "2025-06-12T17:53:42.045Z"
   },
   {
    "duration": 3464,
    "start_time": "2025-06-12T18:06:14.350Z"
   },
   {
    "duration": 16,
    "start_time": "2025-06-12T18:06:26.436Z"
   },
   {
    "duration": 1442,
    "start_time": "2025-06-12T18:08:35.158Z"
   },
   {
    "duration": 1459,
    "start_time": "2025-06-12T18:08:49.401Z"
   },
   {
    "duration": 1448,
    "start_time": "2025-06-12T18:09:00.875Z"
   },
   {
    "duration": 1506,
    "start_time": "2025-06-12T18:09:10.473Z"
   },
   {
    "duration": 1396,
    "start_time": "2025-06-12T18:09:21.635Z"
   },
   {
    "duration": 1469,
    "start_time": "2025-06-12T18:09:30.958Z"
   },
   {
    "duration": 1427,
    "start_time": "2025-06-12T18:09:39.742Z"
   },
   {
    "duration": 1437,
    "start_time": "2025-06-12T18:09:54.618Z"
   },
   {
    "duration": 18,
    "start_time": "2025-06-12T18:10:10.844Z"
   },
   {
    "duration": 1441,
    "start_time": "2025-06-12T18:12:35.568Z"
   },
   {
    "duration": 104,
    "start_time": "2025-06-12T18:12:48.134Z"
   },
   {
    "duration": 495,
    "start_time": "2025-06-12T18:13:47.026Z"
   },
   {
    "duration": 537,
    "start_time": "2025-06-12T18:14:02.865Z"
   },
   {
    "duration": 6,
    "start_time": "2025-06-12T18:27:46.278Z"
   },
   {
    "duration": 34,
    "start_time": "2025-06-12T18:27:49.342Z"
   },
   {
    "duration": 35,
    "start_time": "2025-06-12T18:28:01.570Z"
   },
   {
    "duration": 16,
    "start_time": "2025-06-12T18:31:22.927Z"
   },
   {
    "duration": 12,
    "start_time": "2025-06-12T18:32:03.606Z"
   },
   {
    "duration": 13,
    "start_time": "2025-06-12T18:32:08.542Z"
   },
   {
    "duration": 9,
    "start_time": "2025-06-12T18:34:07.831Z"
   },
   {
    "duration": 17,
    "start_time": "2025-06-12T18:36:00.223Z"
   },
   {
    "duration": 34,
    "start_time": "2025-06-12T18:36:17.359Z"
   },
   {
    "duration": 4642,
    "start_time": "2025-06-13T21:52:31.878Z"
   },
   {
    "duration": 1288,
    "start_time": "2025-06-13T21:52:36.523Z"
   },
   {
    "duration": 13,
    "start_time": "2025-06-13T21:52:37.813Z"
   },
   {
    "duration": 24,
    "start_time": "2025-06-13T21:52:42.147Z"
   },
   {
    "duration": 9,
    "start_time": "2025-06-13T21:52:42.321Z"
   },
   {
    "duration": 8,
    "start_time": "2025-06-13T21:52:42.542Z"
   },
   {
    "duration": 8,
    "start_time": "2025-06-13T21:52:43.592Z"
   },
   {
    "duration": 11,
    "start_time": "2025-06-13T21:52:44.293Z"
   },
   {
    "duration": 7,
    "start_time": "2025-06-13T21:52:44.863Z"
   },
   {
    "duration": 12,
    "start_time": "2025-06-13T21:53:07.589Z"
   },
   {
    "duration": 5,
    "start_time": "2025-06-13T21:53:07.728Z"
   },
   {
    "duration": 7,
    "start_time": "2025-06-13T21:53:07.871Z"
   },
   {
    "duration": 11,
    "start_time": "2025-06-13T21:53:08.015Z"
   },
   {
    "duration": 97,
    "start_time": "2025-06-13T21:53:08.332Z"
   },
   {
    "duration": 91,
    "start_time": "2025-06-13T21:53:08.546Z"
   },
   {
    "duration": 92,
    "start_time": "2025-06-13T21:53:08.683Z"
   },
   {
    "duration": 16,
    "start_time": "2025-06-13T21:53:08.833Z"
   },
   {
    "duration": 41,
    "start_time": "2025-06-13T21:53:09.795Z"
   },
   {
    "duration": 36,
    "start_time": "2025-06-13T21:53:09.932Z"
   },
   {
    "duration": 37,
    "start_time": "2025-06-13T21:53:10.078Z"
   },
   {
    "duration": 20,
    "start_time": "2025-06-13T21:53:10.454Z"
   },
   {
    "duration": 16,
    "start_time": "2025-06-13T21:53:10.949Z"
   },
   {
    "duration": 18,
    "start_time": "2025-06-13T21:53:11.115Z"
   },
   {
    "duration": 25,
    "start_time": "2025-06-13T21:53:11.474Z"
   },
   {
    "duration": 19,
    "start_time": "2025-06-13T21:53:12.061Z"
   },
   {
    "duration": 20,
    "start_time": "2025-06-13T21:53:12.204Z"
   },
   {
    "duration": 7,
    "start_time": "2025-06-13T21:53:13.752Z"
   },
   {
    "duration": 10,
    "start_time": "2025-06-13T21:53:13.944Z"
   },
   {
    "duration": 18,
    "start_time": "2025-06-13T21:53:14.289Z"
   },
   {
    "duration": 35,
    "start_time": "2025-06-13T21:53:14.510Z"
   },
   {
    "duration": 15,
    "start_time": "2025-06-13T21:53:15.077Z"
   },
   {
    "duration": 337,
    "start_time": "2025-06-13T21:53:15.242Z"
   },
   {
    "duration": 84,
    "start_time": "2025-06-13T21:53:15.581Z"
   },
   {
    "duration": 114,
    "start_time": "2025-06-13T21:53:15.666Z"
   },
   {
    "duration": 560,
    "start_time": "2025-06-13T21:53:15.781Z"
   },
   {
    "duration": 6,
    "start_time": "2025-06-13T21:53:25.449Z"
   },
   {
    "duration": 38,
    "start_time": "2025-06-13T21:53:25.653Z"
   },
   {
    "duration": 17,
    "start_time": "2025-06-13T21:53:25.936Z"
   },
   {
    "duration": 16,
    "start_time": "2025-06-13T21:53:26.064Z"
   },
   {
    "duration": 10,
    "start_time": "2025-06-13T21:53:27.537Z"
   },
   {
    "duration": 19,
    "start_time": "2025-06-13T21:53:27.940Z"
   },
   {
    "duration": 37,
    "start_time": "2025-06-13T21:53:28.139Z"
   },
   {
    "duration": 5079,
    "start_time": "2025-06-14T00:09:35.803Z"
   },
   {
    "duration": 1290,
    "start_time": "2025-06-14T00:09:40.885Z"
   },
   {
    "duration": 16,
    "start_time": "2025-06-14T00:09:42.177Z"
   },
   {
    "duration": 27,
    "start_time": "2025-06-14T00:11:08.557Z"
   },
   {
    "duration": 10,
    "start_time": "2025-06-14T00:11:08.691Z"
   },
   {
    "duration": 8,
    "start_time": "2025-06-14T00:11:08.846Z"
   },
   {
    "duration": 8,
    "start_time": "2025-06-14T00:11:08.977Z"
   },
   {
    "duration": 11,
    "start_time": "2025-06-14T00:11:09.129Z"
   },
   {
    "duration": 7,
    "start_time": "2025-06-14T00:11:09.356Z"
   },
   {
    "duration": 13,
    "start_time": "2025-06-14T00:11:11.115Z"
   },
   {
    "duration": 5,
    "start_time": "2025-06-14T00:11:11.585Z"
   },
   {
    "duration": 9,
    "start_time": "2025-06-14T00:11:11.767Z"
   },
   {
    "duration": 12,
    "start_time": "2025-06-14T00:11:11.993Z"
   },
   {
    "duration": 104,
    "start_time": "2025-06-14T00:11:12.557Z"
   },
   {
    "duration": 101,
    "start_time": "2025-06-14T00:11:12.740Z"
   },
   {
    "duration": 98,
    "start_time": "2025-06-14T00:11:12.920Z"
   },
   {
    "duration": 16,
    "start_time": "2025-06-14T00:11:13.085Z"
   },
   {
    "duration": 40,
    "start_time": "2025-06-14T00:11:13.494Z"
   },
   {
    "duration": 39,
    "start_time": "2025-06-14T00:11:13.974Z"
   },
   {
    "duration": 42,
    "start_time": "2025-06-14T00:11:14.147Z"
   },
   {
    "duration": 22,
    "start_time": "2025-06-14T00:11:14.537Z"
   },
   {
    "duration": 18,
    "start_time": "2025-06-14T00:11:15.349Z"
   },
   {
    "duration": 22,
    "start_time": "2025-06-14T00:11:15.512Z"
   },
   {
    "duration": 27,
    "start_time": "2025-06-14T00:11:18.116Z"
   },
   {
    "duration": 22,
    "start_time": "2025-06-14T00:11:18.306Z"
   },
   {
    "duration": 22,
    "start_time": "2025-06-14T00:11:18.459Z"
   },
   {
    "duration": 8,
    "start_time": "2025-06-14T00:11:19.315Z"
   },
   {
    "duration": 11,
    "start_time": "2025-06-14T00:11:33.112Z"
   },
   {
    "duration": 18,
    "start_time": "2025-06-14T00:11:34.600Z"
   },
   {
    "duration": 41,
    "start_time": "2025-06-14T00:11:34.788Z"
   },
   {
    "duration": 15,
    "start_time": "2025-06-14T00:11:34.928Z"
   },
   {
    "duration": 413,
    "start_time": "2025-06-14T00:11:35.097Z"
   },
   {
    "duration": 97,
    "start_time": "2025-06-14T00:11:35.512Z"
   },
   {
    "duration": 137,
    "start_time": "2025-06-14T00:11:35.611Z"
   },
   {
    "duration": 635,
    "start_time": "2025-06-14T00:11:36.063Z"
   },
   {
    "duration": 6,
    "start_time": "2025-06-14T00:11:36.699Z"
   },
   {
    "duration": 42,
    "start_time": "2025-06-14T00:11:36.707Z"
   },
   {
    "duration": 19,
    "start_time": "2025-06-14T00:11:38.896Z"
   },
   {
    "duration": 18,
    "start_time": "2025-06-14T00:11:39.035Z"
   },
   {
    "duration": 10,
    "start_time": "2025-06-14T00:11:39.383Z"
   },
   {
    "duration": 20,
    "start_time": "2025-06-14T00:11:39.602Z"
   },
   {
    "duration": 50,
    "start_time": "2025-06-14T00:11:40.907Z"
   },
   {
    "duration": 591,
    "start_time": "2025-06-14T00:18:32.501Z"
   },
   {
    "duration": 26,
    "start_time": "2025-06-14T00:18:42.356Z"
   },
   {
    "duration": 109,
    "start_time": "2025-06-14T00:28:00.142Z"
   },
   {
    "duration": 110,
    "start_time": "2025-06-14T00:29:17.976Z"
   },
   {
    "duration": 21,
    "start_time": "2025-06-14T00:29:26.018Z"
   },
   {
    "duration": 45,
    "start_time": "2025-06-14T00:29:38.226Z"
   },
   {
    "duration": 43,
    "start_time": "2025-06-14T00:29:54.552Z"
   },
   {
    "duration": 37,
    "start_time": "2025-06-14T00:32:14.203Z"
   },
   {
    "duration": 14,
    "start_time": "2025-06-14T00:34:18.163Z"
   },
   {
    "duration": 15,
    "start_time": "2025-06-14T00:34:29.682Z"
   },
   {
    "duration": 25,
    "start_time": "2025-06-14T00:34:50.107Z"
   },
   {
    "duration": 45,
    "start_time": "2025-06-14T00:38:43.347Z"
   },
   {
    "duration": 268,
    "start_time": "2025-06-14T00:44:26.506Z"
   },
   {
    "duration": 13,
    "start_time": "2025-06-14T00:46:12.738Z"
   },
   {
    "duration": 343,
    "start_time": "2025-06-14T00:47:16.046Z"
   },
   {
    "duration": 584,
    "start_time": "2025-06-14T00:48:51.299Z"
   },
   {
    "duration": 506,
    "start_time": "2025-06-14T00:49:22.159Z"
   },
   {
    "duration": 684,
    "start_time": "2025-06-14T00:50:22.000Z"
   },
   {
    "duration": 499,
    "start_time": "2025-06-14T00:51:11.683Z"
   },
   {
    "duration": 506,
    "start_time": "2025-06-14T00:56:36.483Z"
   },
   {
    "duration": 17,
    "start_time": "2025-06-14T01:05:01.836Z"
   },
   {
    "duration": 14,
    "start_time": "2025-06-14T01:06:34.342Z"
   },
   {
    "duration": 2658,
    "start_time": "2025-06-14T01:07:18.874Z"
   },
   {
    "duration": 1267,
    "start_time": "2025-06-14T01:07:21.535Z"
   },
   {
    "duration": 11,
    "start_time": "2025-06-14T01:07:22.804Z"
   },
   {
    "duration": 44,
    "start_time": "2025-06-14T01:07:22.818Z"
   },
   {
    "duration": 11,
    "start_time": "2025-06-14T01:07:22.864Z"
   },
   {
    "duration": 23,
    "start_time": "2025-06-14T01:07:22.877Z"
   },
   {
    "duration": 19,
    "start_time": "2025-06-14T01:07:22.902Z"
   },
   {
    "duration": 60,
    "start_time": "2025-06-14T01:07:22.923Z"
   },
   {
    "duration": 12,
    "start_time": "2025-06-14T01:07:22.985Z"
   },
   {
    "duration": 24,
    "start_time": "2025-06-14T01:07:23.000Z"
   },
   {
    "duration": 9,
    "start_time": "2025-06-14T01:07:23.026Z"
   },
   {
    "duration": 15,
    "start_time": "2025-06-14T01:07:23.037Z"
   },
   {
    "duration": 21,
    "start_time": "2025-06-14T01:07:23.054Z"
   },
   {
    "duration": 116,
    "start_time": "2025-06-14T01:07:23.078Z"
   },
   {
    "duration": 111,
    "start_time": "2025-06-14T01:07:23.196Z"
   },
   {
    "duration": 108,
    "start_time": "2025-06-14T01:07:23.309Z"
   },
   {
    "duration": 18,
    "start_time": "2025-06-14T01:07:23.419Z"
   },
   {
    "duration": 61,
    "start_time": "2025-06-14T01:07:23.439Z"
   },
   {
    "duration": 39,
    "start_time": "2025-06-14T01:07:23.502Z"
   },
   {
    "duration": 57,
    "start_time": "2025-06-14T01:07:23.543Z"
   },
   {
    "duration": 21,
    "start_time": "2025-06-14T01:07:23.603Z"
   },
   {
    "duration": 17,
    "start_time": "2025-06-14T01:07:23.626Z"
   },
   {
    "duration": 39,
    "start_time": "2025-06-14T01:07:23.645Z"
   },
   {
    "duration": 27,
    "start_time": "2025-06-14T01:07:25.430Z"
   },
   {
    "duration": 22,
    "start_time": "2025-06-14T01:07:25.846Z"
   },
   {
    "duration": 23,
    "start_time": "2025-06-14T01:07:26.038Z"
   },
   {
    "duration": 8,
    "start_time": "2025-06-14T01:07:27.371Z"
   },
   {
    "duration": 13,
    "start_time": "2025-06-14T01:07:28.132Z"
   },
   {
    "duration": 20,
    "start_time": "2025-06-14T01:07:29.170Z"
   },
   {
    "duration": 38,
    "start_time": "2025-06-14T01:07:29.314Z"
   },
   {
    "duration": 16,
    "start_time": "2025-06-14T01:07:29.445Z"
   },
   {
    "duration": 349,
    "start_time": "2025-06-14T01:07:29.576Z"
   },
   {
    "duration": 78,
    "start_time": "2025-06-14T01:07:29.927Z"
   },
   {
    "duration": 126,
    "start_time": "2025-06-14T01:07:30.520Z"
   },
   {
    "duration": 615,
    "start_time": "2025-06-14T01:07:31.026Z"
   },
   {
    "duration": 8,
    "start_time": "2025-06-14T01:07:32.458Z"
   },
   {
    "duration": 43,
    "start_time": "2025-06-14T01:07:32.610Z"
   },
   {
    "duration": 18,
    "start_time": "2025-06-14T01:07:32.927Z"
   },
   {
    "duration": 16,
    "start_time": "2025-06-14T01:07:33.086Z"
   },
   {
    "duration": 10,
    "start_time": "2025-06-14T01:07:33.939Z"
   },
   {
    "duration": 21,
    "start_time": "2025-06-14T01:07:34.293Z"
   },
   {
    "duration": 44,
    "start_time": "2025-06-14T01:07:34.500Z"
   },
   {
    "duration": 25,
    "start_time": "2025-06-14T01:07:37.466Z"
   },
   {
    "duration": 42,
    "start_time": "2025-06-14T01:07:38.479Z"
   },
   {
    "duration": 105,
    "start_time": "2025-06-14T01:09:24.854Z"
   },
   {
    "duration": 18,
    "start_time": "2025-06-14T01:09:46.984Z"
   },
   {
    "duration": 873,
    "start_time": "2025-06-14T01:10:06.599Z"
   },
   {
    "duration": 25,
    "start_time": "2025-06-14T01:10:49.628Z"
   },
   {
    "duration": 595,
    "start_time": "2025-06-14T01:11:11.555Z"
   },
   {
    "duration": 30,
    "start_time": "2025-06-14T01:11:18.129Z"
   },
   {
    "duration": 14,
    "start_time": "2025-06-14T01:12:15.091Z"
   },
   {
    "duration": 24,
    "start_time": "2025-06-14T01:12:27.168Z"
   },
   {
    "duration": 29,
    "start_time": "2025-06-14T01:12:34.384Z"
   },
   {
    "duration": 883,
    "start_time": "2025-06-14T01:12:45.763Z"
   },
   {
    "duration": 615,
    "start_time": "2025-06-14T01:13:20.714Z"
   },
   {
    "duration": 27,
    "start_time": "2025-06-14T01:13:25.581Z"
   },
   {
    "duration": 603,
    "start_time": "2025-06-14T01:14:01.708Z"
   },
   {
    "duration": 41,
    "start_time": "2025-06-14T01:14:30.533Z"
   },
   {
    "duration": 13,
    "start_time": "2025-06-14T01:15:52.755Z"
   },
   {
    "duration": 605,
    "start_time": "2025-06-14T01:18:33.316Z"
   },
   {
    "duration": 8,
    "start_time": "2025-06-14T01:20:48.103Z"
   },
   {
    "duration": 603,
    "start_time": "2025-06-14T01:20:53.055Z"
   },
   {
    "duration": 40,
    "start_time": "2025-06-14T01:20:57.387Z"
   },
   {
    "duration": 14,
    "start_time": "2025-06-14T01:22:40.384Z"
   },
   {
    "duration": 594,
    "start_time": "2025-06-14T01:22:47.122Z"
   },
   {
    "duration": 40,
    "start_time": "2025-06-14T01:22:50.753Z"
   },
   {
    "duration": 23,
    "start_time": "2025-06-14T01:23:32.222Z"
   },
   {
    "duration": 578,
    "start_time": "2025-06-14T01:23:37.907Z"
   },
   {
    "duration": 40,
    "start_time": "2025-06-14T01:23:40.253Z"
   },
   {
    "duration": 2853,
    "start_time": "2025-06-14T01:24:43.467Z"
   },
   {
    "duration": 1214,
    "start_time": "2025-06-14T01:24:46.323Z"
   },
   {
    "duration": 10,
    "start_time": "2025-06-14T01:24:47.539Z"
   },
   {
    "duration": 27,
    "start_time": "2025-06-14T01:24:47.552Z"
   },
   {
    "duration": 10,
    "start_time": "2025-06-14T01:24:47.581Z"
   },
   {
    "duration": 14,
    "start_time": "2025-06-14T01:24:47.593Z"
   },
   {
    "duration": 14,
    "start_time": "2025-06-14T01:24:47.608Z"
   },
   {
    "duration": 11,
    "start_time": "2025-06-14T01:24:47.623Z"
   },
   {
    "duration": 10,
    "start_time": "2025-06-14T01:24:47.636Z"
   },
   {
    "duration": 13,
    "start_time": "2025-06-14T01:24:47.670Z"
   },
   {
    "duration": 5,
    "start_time": "2025-06-14T01:24:47.685Z"
   },
   {
    "duration": 9,
    "start_time": "2025-06-14T01:24:47.691Z"
   },
   {
    "duration": 11,
    "start_time": "2025-06-14T01:24:47.701Z"
   },
   {
    "duration": 125,
    "start_time": "2025-06-14T01:24:47.714Z"
   },
   {
    "duration": 104,
    "start_time": "2025-06-14T01:24:47.841Z"
   },
   {
    "duration": 106,
    "start_time": "2025-06-14T01:24:47.946Z"
   },
   {
    "duration": 25,
    "start_time": "2025-06-14T01:24:48.054Z"
   },
   {
    "duration": 43,
    "start_time": "2025-06-14T01:24:48.080Z"
   },
   {
    "duration": 38,
    "start_time": "2025-06-14T01:24:48.162Z"
   },
   {
    "duration": 39,
    "start_time": "2025-06-14T01:24:48.381Z"
   },
   {
    "duration": 21,
    "start_time": "2025-06-14T01:24:49.818Z"
   },
   {
    "duration": 16,
    "start_time": "2025-06-14T01:24:49.991Z"
   },
   {
    "duration": 18,
    "start_time": "2025-06-14T01:24:50.155Z"
   },
   {
    "duration": 29,
    "start_time": "2025-06-14T01:24:50.941Z"
   },
   {
    "duration": 22,
    "start_time": "2025-06-14T01:24:51.142Z"
   },
   {
    "duration": 23,
    "start_time": "2025-06-14T01:24:51.361Z"
   },
   {
    "duration": 8,
    "start_time": "2025-06-14T01:24:53.206Z"
   },
   {
    "duration": 12,
    "start_time": "2025-06-14T01:24:53.644Z"
   },
   {
    "duration": 19,
    "start_time": "2025-06-14T01:24:54.845Z"
   },
   {
    "duration": 46,
    "start_time": "2025-06-14T01:24:55.038Z"
   },
   {
    "duration": 15,
    "start_time": "2025-06-14T01:24:55.252Z"
   },
   {
    "duration": 342,
    "start_time": "2025-06-14T01:24:55.475Z"
   },
   {
    "duration": 70,
    "start_time": "2025-06-14T01:24:56.284Z"
   },
   {
    "duration": 124,
    "start_time": "2025-06-14T01:24:57.902Z"
   },
   {
    "duration": 595,
    "start_time": "2025-06-14T01:24:58.509Z"
   },
   {
    "duration": 6,
    "start_time": "2025-06-14T01:24:59.835Z"
   },
   {
    "duration": 45,
    "start_time": "2025-06-14T01:25:00.923Z"
   },
   {
    "duration": 19,
    "start_time": "2025-06-14T01:25:02.418Z"
   },
   {
    "duration": 16,
    "start_time": "2025-06-14T01:25:02.598Z"
   },
   {
    "duration": 10,
    "start_time": "2025-06-14T01:25:02.934Z"
   },
   {
    "duration": 20,
    "start_time": "2025-06-14T01:25:03.114Z"
   },
   {
    "duration": 43,
    "start_time": "2025-06-14T01:25:03.343Z"
   },
   {
    "duration": 6,
    "start_time": "2025-06-14T01:25:09.388Z"
   },
   {
    "duration": 586,
    "start_time": "2025-06-14T01:25:17.141Z"
   },
   {
    "duration": 48,
    "start_time": "2025-06-14T01:25:22.019Z"
   },
   {
    "duration": 19,
    "start_time": "2025-06-14T01:26:43.883Z"
   },
   {
    "duration": 2651,
    "start_time": "2025-06-14T01:28:02.587Z"
   },
   {
    "duration": 1191,
    "start_time": "2025-06-14T01:28:05.241Z"
   },
   {
    "duration": 10,
    "start_time": "2025-06-14T01:28:06.434Z"
   },
   {
    "duration": 61,
    "start_time": "2025-06-14T01:28:06.445Z"
   },
   {
    "duration": 70,
    "start_time": "2025-06-14T01:28:06.507Z"
   },
   {
    "duration": 15,
    "start_time": "2025-06-14T01:28:06.578Z"
   },
   {
    "duration": 9,
    "start_time": "2025-06-14T01:28:06.595Z"
   },
   {
    "duration": 33,
    "start_time": "2025-06-14T01:28:06.606Z"
   },
   {
    "duration": 36,
    "start_time": "2025-06-14T01:28:06.641Z"
   },
   {
    "duration": 19,
    "start_time": "2025-06-14T01:28:06.679Z"
   },
   {
    "duration": 26,
    "start_time": "2025-06-14T01:28:06.700Z"
   },
   {
    "duration": 30,
    "start_time": "2025-06-14T01:28:06.728Z"
   },
   {
    "duration": 28,
    "start_time": "2025-06-14T01:28:06.760Z"
   },
   {
    "duration": 187,
    "start_time": "2025-06-14T01:28:06.789Z"
   },
   {
    "duration": 104,
    "start_time": "2025-06-14T01:28:06.977Z"
   },
   {
    "duration": 103,
    "start_time": "2025-06-14T01:28:07.082Z"
   },
   {
    "duration": 17,
    "start_time": "2025-06-14T01:28:07.187Z"
   },
   {
    "duration": 48,
    "start_time": "2025-06-14T01:28:07.206Z"
   },
   {
    "duration": 49,
    "start_time": "2025-06-14T01:28:07.256Z"
   },
   {
    "duration": 38,
    "start_time": "2025-06-14T01:28:07.307Z"
   },
   {
    "duration": 41,
    "start_time": "2025-06-14T01:28:07.347Z"
   },
   {
    "duration": 17,
    "start_time": "2025-06-14T01:28:07.471Z"
   },
   {
    "duration": 18,
    "start_time": "2025-06-14T01:28:07.694Z"
   },
   {
    "duration": 27,
    "start_time": "2025-06-14T01:28:08.720Z"
   },
   {
    "duration": 21,
    "start_time": "2025-06-14T01:28:08.948Z"
   },
   {
    "duration": 23,
    "start_time": "2025-06-14T01:28:09.443Z"
   },
   {
    "duration": 7,
    "start_time": "2025-06-14T01:28:11.091Z"
   },
   {
    "duration": 12,
    "start_time": "2025-06-14T01:28:11.299Z"
   },
   {
    "duration": 19,
    "start_time": "2025-06-14T01:28:11.664Z"
   },
   {
    "duration": 39,
    "start_time": "2025-06-14T01:28:11.884Z"
   },
   {
    "duration": 15,
    "start_time": "2025-06-14T01:28:12.616Z"
   },
   {
    "duration": 330,
    "start_time": "2025-06-14T01:28:12.801Z"
   },
   {
    "duration": 76,
    "start_time": "2025-06-14T01:28:13.133Z"
   },
   {
    "duration": 139,
    "start_time": "2025-06-14T01:28:13.211Z"
   },
   {
    "duration": 580,
    "start_time": "2025-06-14T01:28:13.872Z"
   },
   {
    "duration": 6,
    "start_time": "2025-06-14T01:28:14.961Z"
   },
   {
    "duration": 41,
    "start_time": "2025-06-14T01:28:15.140Z"
   },
   {
    "duration": 20,
    "start_time": "2025-06-14T01:28:15.932Z"
   },
   {
    "duration": 18,
    "start_time": "2025-06-14T01:28:16.118Z"
   },
   {
    "duration": 11,
    "start_time": "2025-06-14T01:28:16.588Z"
   },
   {
    "duration": 19,
    "start_time": "2025-06-14T01:28:17.436Z"
   },
   {
    "duration": 45,
    "start_time": "2025-06-14T01:28:17.661Z"
   },
   {
    "duration": 6,
    "start_time": "2025-06-14T01:28:23.511Z"
   },
   {
    "duration": 574,
    "start_time": "2025-06-14T01:28:26.512Z"
   },
   {
    "duration": 44,
    "start_time": "2025-06-14T01:28:32.349Z"
   },
   {
    "duration": 2697,
    "start_time": "2025-06-14T01:31:18.485Z"
   },
   {
    "duration": 1220,
    "start_time": "2025-06-14T01:31:21.185Z"
   },
   {
    "duration": 9,
    "start_time": "2025-06-14T01:31:22.407Z"
   },
   {
    "duration": 38,
    "start_time": "2025-06-14T01:31:22.419Z"
   },
   {
    "duration": 10,
    "start_time": "2025-06-14T01:31:22.459Z"
   },
   {
    "duration": 12,
    "start_time": "2025-06-14T01:31:22.471Z"
   },
   {
    "duration": 11,
    "start_time": "2025-06-14T01:31:22.485Z"
   },
   {
    "duration": 19,
    "start_time": "2025-06-14T01:31:22.498Z"
   },
   {
    "duration": 42,
    "start_time": "2025-06-14T01:31:22.518Z"
   },
   {
    "duration": 21,
    "start_time": "2025-06-14T01:31:22.562Z"
   },
   {
    "duration": 12,
    "start_time": "2025-06-14T01:31:22.585Z"
   },
   {
    "duration": 10,
    "start_time": "2025-06-14T01:31:22.599Z"
   },
   {
    "duration": 8,
    "start_time": "2025-06-14T01:31:22.611Z"
   },
   {
    "duration": 119,
    "start_time": "2025-06-14T01:31:22.620Z"
   },
   {
    "duration": 105,
    "start_time": "2025-06-14T01:31:22.741Z"
   },
   {
    "duration": 106,
    "start_time": "2025-06-14T01:31:22.848Z"
   },
   {
    "duration": 22,
    "start_time": "2025-06-14T01:31:22.956Z"
   },
   {
    "duration": 124,
    "start_time": "2025-06-14T01:31:22.979Z"
   },
   {
    "duration": 37,
    "start_time": "2025-06-14T01:31:23.105Z"
   },
   {
    "duration": 55,
    "start_time": "2025-06-14T01:31:23.145Z"
   },
   {
    "duration": 21,
    "start_time": "2025-06-14T01:31:23.201Z"
   },
   {
    "duration": 17,
    "start_time": "2025-06-14T01:31:23.250Z"
   },
   {
    "duration": 18,
    "start_time": "2025-06-14T01:31:23.464Z"
   },
   {
    "duration": 25,
    "start_time": "2025-06-14T01:31:24.387Z"
   },
   {
    "duration": 22,
    "start_time": "2025-06-14T01:31:24.532Z"
   },
   {
    "duration": 23,
    "start_time": "2025-06-14T01:31:24.752Z"
   },
   {
    "duration": 8,
    "start_time": "2025-06-14T01:31:26.773Z"
   },
   {
    "duration": 11,
    "start_time": "2025-06-14T01:31:26.924Z"
   },
   {
    "duration": 18,
    "start_time": "2025-06-14T01:31:27.339Z"
   },
   {
    "duration": 40,
    "start_time": "2025-06-14T01:31:27.561Z"
   },
   {
    "duration": 15,
    "start_time": "2025-06-14T01:31:28.084Z"
   },
   {
    "duration": 319,
    "start_time": "2025-06-14T01:31:28.263Z"
   },
   {
    "duration": 72,
    "start_time": "2025-06-14T01:31:28.584Z"
   },
   {
    "duration": 138,
    "start_time": "2025-06-14T01:31:28.658Z"
   },
   {
    "duration": 592,
    "start_time": "2025-06-14T01:31:28.870Z"
   },
   {
    "duration": 5,
    "start_time": "2025-06-14T01:31:30.194Z"
   },
   {
    "duration": 41,
    "start_time": "2025-06-14T01:31:30.352Z"
   },
   {
    "duration": 19,
    "start_time": "2025-06-14T01:31:30.718Z"
   },
   {
    "duration": 17,
    "start_time": "2025-06-14T01:31:30.972Z"
   },
   {
    "duration": 13,
    "start_time": "2025-06-14T01:31:31.417Z"
   },
   {
    "duration": 20,
    "start_time": "2025-06-14T01:31:31.947Z"
   },
   {
    "duration": 42,
    "start_time": "2025-06-14T01:31:32.470Z"
   },
   {
    "duration": 6,
    "start_time": "2025-06-14T01:31:37.818Z"
   },
   {
    "duration": 580,
    "start_time": "2025-06-14T01:31:39.483Z"
   },
   {
    "duration": 96,
    "start_time": "2025-06-14T01:31:41.709Z"
   },
   {
    "duration": 91,
    "start_time": "2025-06-14T01:32:29.626Z"
   },
   {
    "duration": 161,
    "start_time": "2025-06-14T01:33:03.055Z"
   },
   {
    "duration": 92,
    "start_time": "2025-06-14T01:33:35.016Z"
   },
   {
    "duration": 93,
    "start_time": "2025-06-14T01:33:42.876Z"
   },
   {
    "duration": 40,
    "start_time": "2025-06-14T01:34:36.883Z"
   },
   {
    "duration": 17,
    "start_time": "2025-06-14T01:34:54.850Z"
   },
   {
    "duration": 2706,
    "start_time": "2025-06-14T01:35:05.736Z"
   },
   {
    "duration": 1213,
    "start_time": "2025-06-14T01:35:08.445Z"
   },
   {
    "duration": 10,
    "start_time": "2025-06-14T01:35:09.660Z"
   },
   {
    "duration": 34,
    "start_time": "2025-06-14T01:35:09.672Z"
   },
   {
    "duration": 10,
    "start_time": "2025-06-14T01:35:09.708Z"
   },
   {
    "duration": 16,
    "start_time": "2025-06-14T01:35:09.720Z"
   },
   {
    "duration": 20,
    "start_time": "2025-06-14T01:35:09.738Z"
   },
   {
    "duration": 15,
    "start_time": "2025-06-14T01:35:09.760Z"
   },
   {
    "duration": 8,
    "start_time": "2025-06-14T01:35:09.777Z"
   },
   {
    "duration": 12,
    "start_time": "2025-06-14T01:35:09.788Z"
   },
   {
    "duration": 6,
    "start_time": "2025-06-14T01:35:09.802Z"
   },
   {
    "duration": 9,
    "start_time": "2025-06-14T01:35:09.809Z"
   },
   {
    "duration": 51,
    "start_time": "2025-06-14T01:35:09.820Z"
   },
   {
    "duration": 114,
    "start_time": "2025-06-14T01:35:09.873Z"
   },
   {
    "duration": 103,
    "start_time": "2025-06-14T01:35:09.989Z"
   },
   {
    "duration": 108,
    "start_time": "2025-06-14T01:35:10.093Z"
   },
   {
    "duration": 16,
    "start_time": "2025-06-14T01:35:10.202Z"
   },
   {
    "duration": 57,
    "start_time": "2025-06-14T01:35:10.219Z"
   },
   {
    "duration": 36,
    "start_time": "2025-06-14T01:35:10.278Z"
   },
   {
    "duration": 55,
    "start_time": "2025-06-14T01:35:10.317Z"
   },
   {
    "duration": 21,
    "start_time": "2025-06-14T01:35:10.374Z"
   },
   {
    "duration": 17,
    "start_time": "2025-06-14T01:35:10.712Z"
   },
   {
    "duration": 17,
    "start_time": "2025-06-14T01:35:11.367Z"
   },
   {
    "duration": 25,
    "start_time": "2025-06-14T01:35:11.794Z"
   },
   {
    "duration": 35,
    "start_time": "2025-06-14T01:35:12.190Z"
   },
   {
    "duration": 22,
    "start_time": "2025-06-14T01:35:12.370Z"
   },
   {
    "duration": 8,
    "start_time": "2025-06-14T01:35:14.138Z"
   },
   {
    "duration": 12,
    "start_time": "2025-06-14T01:35:14.881Z"
   },
   {
    "duration": 19,
    "start_time": "2025-06-14T01:35:15.500Z"
   },
   {
    "duration": 43,
    "start_time": "2025-06-14T01:35:16.037Z"
   },
   {
    "duration": 16,
    "start_time": "2025-06-14T01:35:16.261Z"
   },
   {
    "duration": 366,
    "start_time": "2025-06-14T01:35:16.637Z"
   },
   {
    "duration": 82,
    "start_time": "2025-06-14T01:35:17.005Z"
   },
   {
    "duration": 132,
    "start_time": "2025-06-14T01:35:17.088Z"
   },
   {
    "duration": 617,
    "start_time": "2025-06-14T01:35:17.222Z"
   },
   {
    "duration": 7,
    "start_time": "2025-06-14T01:35:17.969Z"
   },
   {
    "duration": 42,
    "start_time": "2025-06-14T01:35:18.112Z"
   },
   {
    "duration": 18,
    "start_time": "2025-06-14T01:35:18.409Z"
   },
   {
    "duration": 16,
    "start_time": "2025-06-14T01:35:18.568Z"
   },
   {
    "duration": 11,
    "start_time": "2025-06-14T01:35:18.933Z"
   },
   {
    "duration": 21,
    "start_time": "2025-06-14T01:35:19.113Z"
   },
   {
    "duration": 46,
    "start_time": "2025-06-14T01:35:19.335Z"
   },
   {
    "duration": 6,
    "start_time": "2025-06-14T01:35:22.668Z"
   },
   {
    "duration": 586,
    "start_time": "2025-06-14T01:35:24.305Z"
   },
   {
    "duration": 44,
    "start_time": "2025-06-14T01:35:32.976Z"
   },
   {
    "duration": 4785,
    "start_time": "2025-06-14T11:12:58.255Z"
   },
   {
    "duration": 1265,
    "start_time": "2025-06-14T11:13:03.043Z"
   },
   {
    "duration": 14,
    "start_time": "2025-06-14T11:13:04.309Z"
   },
   {
    "duration": 32,
    "start_time": "2025-06-14T11:13:04.325Z"
   },
   {
    "duration": 24,
    "start_time": "2025-06-14T11:13:04.359Z"
   },
   {
    "duration": 11,
    "start_time": "2025-06-14T11:13:04.385Z"
   },
   {
    "duration": 13,
    "start_time": "2025-06-14T11:13:04.398Z"
   },
   {
    "duration": 16,
    "start_time": "2025-06-14T11:13:04.412Z"
   },
   {
    "duration": 86,
    "start_time": "2025-06-14T11:13:04.429Z"
   },
   {
    "duration": 61,
    "start_time": "2025-06-14T11:13:04.517Z"
   },
   {
    "duration": 5,
    "start_time": "2025-06-14T11:13:04.580Z"
   },
   {
    "duration": 18,
    "start_time": "2025-06-14T11:13:04.586Z"
   },
   {
    "duration": 43,
    "start_time": "2025-06-14T11:13:04.605Z"
   },
   {
    "duration": 107,
    "start_time": "2025-06-14T11:13:04.650Z"
   },
   {
    "duration": 100,
    "start_time": "2025-06-14T11:13:04.760Z"
   },
   {
    "duration": 104,
    "start_time": "2025-06-14T11:13:04.861Z"
   },
   {
    "duration": 17,
    "start_time": "2025-06-14T11:13:04.967Z"
   },
   {
    "duration": 41,
    "start_time": "2025-06-14T11:13:05.232Z"
   },
   {
    "duration": 35,
    "start_time": "2025-06-14T11:13:05.963Z"
   },
   {
    "duration": 36,
    "start_time": "2025-06-14T11:13:06.145Z"
   },
   {
    "duration": 18,
    "start_time": "2025-06-14T11:13:07.063Z"
   },
   {
    "duration": 15,
    "start_time": "2025-06-14T11:13:07.235Z"
   },
   {
    "duration": 16,
    "start_time": "2025-06-14T11:13:07.401Z"
   },
   {
    "duration": 26,
    "start_time": "2025-06-14T11:13:08.375Z"
   },
   {
    "duration": 20,
    "start_time": "2025-06-14T11:13:08.532Z"
   },
   {
    "duration": 21,
    "start_time": "2025-06-14T11:13:08.705Z"
   },
   {
    "duration": 7,
    "start_time": "2025-06-14T11:13:11.936Z"
   },
   {
    "duration": 12,
    "start_time": "2025-06-14T11:13:12.795Z"
   },
   {
    "duration": 19,
    "start_time": "2025-06-14T11:13:13.200Z"
   },
   {
    "duration": 39,
    "start_time": "2025-06-14T11:13:13.348Z"
   },
   {
    "duration": 14,
    "start_time": "2025-06-14T11:13:13.603Z"
   },
   {
    "duration": 378,
    "start_time": "2025-06-14T11:13:13.763Z"
   },
   {
    "duration": 106,
    "start_time": "2025-06-14T11:13:14.143Z"
   },
   {
    "duration": 123,
    "start_time": "2025-06-14T11:13:14.251Z"
   },
   {
    "duration": 581,
    "start_time": "2025-06-14T11:13:14.377Z"
   },
   {
    "duration": 6,
    "start_time": "2025-06-14T11:13:15.914Z"
   },
   {
    "duration": 40,
    "start_time": "2025-06-14T11:13:16.083Z"
   },
   {
    "duration": 28,
    "start_time": "2025-06-14T11:13:16.447Z"
   },
   {
    "duration": 17,
    "start_time": "2025-06-14T11:13:17.267Z"
   },
   {
    "duration": 10,
    "start_time": "2025-06-14T11:13:18.189Z"
   },
   {
    "duration": 21,
    "start_time": "2025-06-14T11:13:18.589Z"
   },
   {
    "duration": 41,
    "start_time": "2025-06-14T11:13:18.793Z"
   },
   {
    "duration": 6,
    "start_time": "2025-06-14T11:13:25.471Z"
   },
   {
    "duration": 557,
    "start_time": "2025-06-14T11:13:27.760Z"
   },
   {
    "duration": 46,
    "start_time": "2025-06-14T11:15:54.992Z"
   },
   {
    "duration": 1371,
    "start_time": "2025-06-14T11:18:53.670Z"
   },
   {
    "duration": 1195,
    "start_time": "2025-06-14T11:19:18.216Z"
   },
   {
    "duration": 1316,
    "start_time": "2025-06-14T11:19:38.763Z"
   },
   {
    "duration": 1396,
    "start_time": "2025-06-14T11:20:42.271Z"
   },
   {
    "duration": 217,
    "start_time": "2025-06-14T11:21:01.785Z"
   },
   {
    "duration": 217,
    "start_time": "2025-06-14T11:28:13.329Z"
   },
   {
    "duration": 26,
    "start_time": "2025-06-14T11:34:19.519Z"
   },
   {
    "duration": 15,
    "start_time": "2025-06-14T11:35:00.931Z"
   },
   {
    "duration": 576,
    "start_time": "2025-06-14T11:36:43.834Z"
   },
   {
    "duration": 217,
    "start_time": "2025-06-14T11:39:23.309Z"
   },
   {
    "duration": 316,
    "start_time": "2025-06-14T11:42:25.443Z"
   },
   {
    "duration": 314,
    "start_time": "2025-06-14T11:45:00.510Z"
   },
   {
    "duration": 9,
    "start_time": "2025-06-14T11:55:02.457Z"
   },
   {
    "duration": 5,
    "start_time": "2025-06-14T11:55:16.375Z"
   },
   {
    "duration": 13,
    "start_time": "2025-06-14T11:56:24.523Z"
   },
   {
    "duration": 9,
    "start_time": "2025-06-14T11:56:25.158Z"
   },
   {
    "duration": 10,
    "start_time": "2025-06-14T11:56:52.580Z"
   },
   {
    "duration": 21,
    "start_time": "2025-06-14T11:58:04.651Z"
   },
   {
    "duration": 3,
    "start_time": "2025-06-14T11:58:18.787Z"
   },
   {
    "duration": 130,
    "start_time": "2025-06-14T11:59:32.168Z"
   },
   {
    "duration": 52,
    "start_time": "2025-06-14T11:59:49.395Z"
   },
   {
    "duration": 58,
    "start_time": "2025-06-14T12:03:55.747Z"
   },
   {
    "duration": 4769,
    "start_time": "2025-06-14T14:47:46.179Z"
   },
   {
    "duration": 1141,
    "start_time": "2025-06-14T14:47:50.952Z"
   },
   {
    "duration": 14,
    "start_time": "2025-06-14T14:47:52.725Z"
   },
   {
    "duration": 25,
    "start_time": "2025-06-14T14:47:52.923Z"
   },
   {
    "duration": 9,
    "start_time": "2025-06-14T14:47:53.088Z"
   },
   {
    "duration": 7,
    "start_time": "2025-06-14T14:47:53.268Z"
   },
   {
    "duration": 8,
    "start_time": "2025-06-14T14:47:53.427Z"
   },
   {
    "duration": 10,
    "start_time": "2025-06-14T14:47:53.580Z"
   },
   {
    "duration": 7,
    "start_time": "2025-06-14T14:47:53.735Z"
   },
   {
    "duration": 11,
    "start_time": "2025-06-14T14:47:54.021Z"
   },
   {
    "duration": 5,
    "start_time": "2025-06-14T14:47:54.159Z"
   },
   {
    "duration": 7,
    "start_time": "2025-06-14T14:47:54.291Z"
   },
   {
    "duration": 10,
    "start_time": "2025-06-14T14:47:54.436Z"
   },
   {
    "duration": 95,
    "start_time": "2025-06-14T14:47:54.732Z"
   },
   {
    "duration": 91,
    "start_time": "2025-06-14T14:47:54.899Z"
   },
   {
    "duration": 90,
    "start_time": "2025-06-14T14:47:55.056Z"
   },
   {
    "duration": 21,
    "start_time": "2025-06-14T14:47:55.207Z"
   },
   {
    "duration": 38,
    "start_time": "2025-06-14T14:47:55.504Z"
   },
   {
    "duration": 34,
    "start_time": "2025-06-14T14:47:55.669Z"
   },
   {
    "duration": 36,
    "start_time": "2025-06-14T14:47:55.823Z"
   },
   {
    "duration": 20,
    "start_time": "2025-06-14T14:47:56.710Z"
   },
   {
    "duration": 15,
    "start_time": "2025-06-14T14:47:56.870Z"
   },
   {
    "duration": 16,
    "start_time": "2025-06-14T14:47:57.045Z"
   },
   {
    "duration": 24,
    "start_time": "2025-06-14T14:47:57.353Z"
   },
   {
    "duration": 19,
    "start_time": "2025-06-14T14:47:57.531Z"
   },
   {
    "duration": 20,
    "start_time": "2025-06-14T14:47:57.756Z"
   },
   {
    "duration": 7,
    "start_time": "2025-06-14T14:47:58.815Z"
   },
   {
    "duration": 10,
    "start_time": "2025-06-14T14:47:58.980Z"
   },
   {
    "duration": 17,
    "start_time": "2025-06-14T14:47:59.298Z"
   },
   {
    "duration": 35,
    "start_time": "2025-06-14T14:47:59.449Z"
   },
   {
    "duration": 15,
    "start_time": "2025-06-14T14:47:59.600Z"
   },
   {
    "duration": 342,
    "start_time": "2025-06-14T14:47:59.822Z"
   },
   {
    "duration": 74,
    "start_time": "2025-06-14T14:48:00.374Z"
   },
   {
    "duration": 119,
    "start_time": "2025-06-14T14:48:00.539Z"
   },
   {
    "duration": 582,
    "start_time": "2025-06-14T14:48:00.698Z"
   },
   {
    "duration": 5,
    "start_time": "2025-06-14T14:48:02.044Z"
   },
   {
    "duration": 39,
    "start_time": "2025-06-14T14:48:02.871Z"
   },
   {
    "duration": 19,
    "start_time": "2025-06-14T14:48:03.174Z"
   },
   {
    "duration": 15,
    "start_time": "2025-06-14T14:48:03.311Z"
   },
   {
    "duration": 11,
    "start_time": "2025-06-14T14:48:04.466Z"
   },
   {
    "duration": 20,
    "start_time": "2025-06-14T14:48:04.884Z"
   },
   {
    "duration": 39,
    "start_time": "2025-06-14T14:48:05.103Z"
   },
   {
    "duration": 6,
    "start_time": "2025-06-14T14:48:11.679Z"
   },
   {
    "duration": 44,
    "start_time": "2025-06-14T14:48:14.190Z"
   },
   {
    "duration": 2029,
    "start_time": "2025-06-14T14:48:39.628Z"
   },
   {
    "duration": 320,
    "start_time": "2025-06-14T14:49:24.569Z"
   },
   {
    "duration": 304,
    "start_time": "2025-06-14T14:50:18.241Z"
   },
   {
    "duration": 14,
    "start_time": "2025-06-14T15:01:48.357Z"
   },
   {
    "duration": 1224,
    "start_time": "2025-06-14T15:04:45.732Z"
   },
   {
    "duration": 1156,
    "start_time": "2025-06-14T15:05:22.817Z"
   },
   {
    "duration": 1239,
    "start_time": "2025-06-14T15:07:04.842Z"
   },
   {
    "duration": 15,
    "start_time": "2025-06-14T15:10:48.598Z"
   },
   {
    "duration": 2416,
    "start_time": "2025-06-14T15:12:25.063Z"
   },
   {
    "duration": 1076,
    "start_time": "2025-06-14T15:12:27.481Z"
   },
   {
    "duration": 9,
    "start_time": "2025-06-14T15:12:28.559Z"
   },
   {
    "duration": 127,
    "start_time": "2025-06-14T15:12:28.569Z"
   },
   {
    "duration": 8,
    "start_time": "2025-06-14T15:12:28.698Z"
   },
   {
    "duration": 7,
    "start_time": "2025-06-14T15:12:28.707Z"
   },
   {
    "duration": 7,
    "start_time": "2025-06-14T15:12:28.715Z"
   },
   {
    "duration": 10,
    "start_time": "2025-06-14T15:12:28.723Z"
   },
   {
    "duration": 11,
    "start_time": "2025-06-14T15:12:28.734Z"
   },
   {
    "duration": 11,
    "start_time": "2025-06-14T15:12:30.075Z"
   },
   {
    "duration": 5,
    "start_time": "2025-06-14T15:12:30.219Z"
   },
   {
    "duration": 7,
    "start_time": "2025-06-14T15:12:30.358Z"
   },
   {
    "duration": 8,
    "start_time": "2025-06-14T15:12:30.495Z"
   },
   {
    "duration": 107,
    "start_time": "2025-06-14T15:12:30.771Z"
   },
   {
    "duration": 95,
    "start_time": "2025-06-14T15:12:30.931Z"
   },
   {
    "duration": 93,
    "start_time": "2025-06-14T15:12:31.054Z"
   },
   {
    "duration": 16,
    "start_time": "2025-06-14T15:12:31.211Z"
   },
   {
    "duration": 56,
    "start_time": "2025-06-14T15:12:31.571Z"
   },
   {
    "duration": 36,
    "start_time": "2025-06-14T15:12:32.841Z"
   },
   {
    "duration": 38,
    "start_time": "2025-06-14T15:12:32.984Z"
   },
   {
    "duration": 20,
    "start_time": "2025-06-14T15:12:33.399Z"
   },
   {
    "duration": 15,
    "start_time": "2025-06-14T15:12:33.605Z"
   },
   {
    "duration": 16,
    "start_time": "2025-06-14T15:12:33.820Z"
   },
   {
    "duration": 33,
    "start_time": "2025-06-14T15:12:35.975Z"
   },
   {
    "duration": 19,
    "start_time": "2025-06-14T15:12:36.130Z"
   },
   {
    "duration": 29,
    "start_time": "2025-06-14T15:12:36.349Z"
   },
   {
    "duration": 7,
    "start_time": "2025-06-14T15:12:37.798Z"
   },
   {
    "duration": 11,
    "start_time": "2025-06-14T15:12:37.950Z"
   },
   {
    "duration": 18,
    "start_time": "2025-06-14T15:12:38.295Z"
   },
   {
    "duration": 36,
    "start_time": "2025-06-14T15:12:38.453Z"
   },
   {
    "duration": 16,
    "start_time": "2025-06-14T15:12:38.619Z"
   },
   {
    "duration": 301,
    "start_time": "2025-06-14T15:12:38.779Z"
   },
   {
    "duration": 59,
    "start_time": "2025-06-14T15:12:39.082Z"
   },
   {
    "duration": 110,
    "start_time": "2025-06-14T15:12:39.176Z"
   },
   {
    "duration": 590,
    "start_time": "2025-06-14T15:12:39.868Z"
   },
   {
    "duration": 6,
    "start_time": "2025-06-14T15:12:40.460Z"
   },
   {
    "duration": 39,
    "start_time": "2025-06-14T15:12:41.608Z"
   },
   {
    "duration": 18,
    "start_time": "2025-06-14T15:12:42.826Z"
   },
   {
    "duration": 17,
    "start_time": "2025-06-14T15:12:43.012Z"
   },
   {
    "duration": 10,
    "start_time": "2025-06-14T15:12:44.075Z"
   },
   {
    "duration": 19,
    "start_time": "2025-06-14T15:12:44.247Z"
   },
   {
    "duration": 38,
    "start_time": "2025-06-14T15:12:44.475Z"
   },
   {
    "duration": 5,
    "start_time": "2025-06-14T15:12:48.434Z"
   },
   {
    "duration": 39,
    "start_time": "2025-06-14T15:12:49.211Z"
   },
   {
    "duration": 17,
    "start_time": "2025-06-14T15:12:57.012Z"
   },
   {
    "duration": 796,
    "start_time": "2025-06-14T15:13:42.548Z"
   },
   {
    "duration": 39,
    "start_time": "2025-06-14T15:17:29.123Z"
   },
   {
    "duration": 61,
    "start_time": "2025-06-14T15:17:38.997Z"
   },
   {
    "duration": 122,
    "start_time": "2025-06-14T15:20:36.835Z"
   },
   {
    "duration": 14,
    "start_time": "2025-06-14T15:20:43.440Z"
   },
   {
    "duration": 14,
    "start_time": "2025-06-14T15:21:13.160Z"
   },
   {
    "duration": 20,
    "start_time": "2025-06-14T15:22:30.504Z"
   },
   {
    "duration": 5,
    "start_time": "2025-06-14T15:23:07.069Z"
   },
   {
    "duration": 11,
    "start_time": "2025-06-14T15:23:23.504Z"
   },
   {
    "duration": 3,
    "start_time": "2025-06-14T15:29:44.212Z"
   },
   {
    "duration": 4,
    "start_time": "2025-06-14T15:29:56.583Z"
   },
   {
    "duration": 4,
    "start_time": "2025-06-14T15:30:11.735Z"
   },
   {
    "duration": 90,
    "start_time": "2025-06-14T15:30:15.841Z"
   },
   {
    "duration": 50,
    "start_time": "2025-06-14T15:30:18.600Z"
   },
   {
    "duration": 4735,
    "start_time": "2025-06-14T17:02:32.438Z"
   },
   {
    "duration": 1139,
    "start_time": "2025-06-14T17:02:37.175Z"
   },
   {
    "duration": 13,
    "start_time": "2025-06-14T17:02:38.315Z"
   },
   {
    "duration": 90,
    "start_time": "2025-06-14T17:02:38.330Z"
   },
   {
    "duration": 71,
    "start_time": "2025-06-14T17:02:38.422Z"
   },
   {
    "duration": 12,
    "start_time": "2025-06-14T17:02:38.495Z"
   },
   {
    "duration": 16,
    "start_time": "2025-06-14T17:02:38.508Z"
   },
   {
    "duration": 12,
    "start_time": "2025-06-14T17:02:38.526Z"
   },
   {
    "duration": 16,
    "start_time": "2025-06-14T17:02:38.540Z"
   },
   {
    "duration": 20,
    "start_time": "2025-06-14T17:02:38.558Z"
   },
   {
    "duration": 5,
    "start_time": "2025-06-14T17:02:38.580Z"
   },
   {
    "duration": 7,
    "start_time": "2025-06-14T17:02:38.586Z"
   },
   {
    "duration": 10,
    "start_time": "2025-06-14T17:02:38.594Z"
   },
   {
    "duration": 112,
    "start_time": "2025-06-14T17:02:38.606Z"
   },
   {
    "duration": 103,
    "start_time": "2025-06-14T17:02:38.720Z"
   },
   {
    "duration": 102,
    "start_time": "2025-06-14T17:02:38.825Z"
   },
   {
    "duration": 16,
    "start_time": "2025-06-14T17:02:38.929Z"
   },
   {
    "duration": 74,
    "start_time": "2025-06-14T17:02:38.958Z"
   },
   {
    "duration": 35,
    "start_time": "2025-06-14T17:02:39.034Z"
   },
   {
    "duration": 36,
    "start_time": "2025-06-14T17:02:39.071Z"
   },
   {
    "duration": 20,
    "start_time": "2025-06-14T17:02:39.108Z"
   },
   {
    "duration": 33,
    "start_time": "2025-06-14T17:02:39.129Z"
   },
   {
    "duration": 16,
    "start_time": "2025-06-14T17:02:39.163Z"
   },
   {
    "duration": 24,
    "start_time": "2025-06-14T17:02:39.180Z"
   },
   {
    "duration": 19,
    "start_time": "2025-06-14T17:02:39.206Z"
   },
   {
    "duration": 50,
    "start_time": "2025-06-14T17:02:39.227Z"
   },
   {
    "duration": 7,
    "start_time": "2025-06-14T17:02:39.280Z"
   },
   {
    "duration": 11,
    "start_time": "2025-06-14T17:02:39.289Z"
   },
   {
    "duration": 17,
    "start_time": "2025-06-14T17:02:39.302Z"
   },
   {
    "duration": 35,
    "start_time": "2025-06-14T17:02:39.390Z"
   },
   {
    "duration": 14,
    "start_time": "2025-06-14T17:02:39.596Z"
   },
   {
    "duration": 367,
    "start_time": "2025-06-14T17:02:39.938Z"
   },
   {
    "duration": 85,
    "start_time": "2025-06-14T17:02:40.307Z"
   },
   {
    "duration": 121,
    "start_time": "2025-06-14T17:02:40.394Z"
   },
   {
    "duration": 605,
    "start_time": "2025-06-14T17:02:40.517Z"
   },
   {
    "duration": 5,
    "start_time": "2025-06-14T17:02:41.762Z"
   },
   {
    "duration": 39,
    "start_time": "2025-06-14T17:02:41.951Z"
   },
   {
    "duration": 16,
    "start_time": "2025-06-14T17:02:42.267Z"
   },
   {
    "duration": 15,
    "start_time": "2025-06-14T17:02:42.452Z"
   },
   {
    "duration": 10,
    "start_time": "2025-06-14T17:02:43.203Z"
   },
   {
    "duration": 19,
    "start_time": "2025-06-14T17:02:43.430Z"
   },
   {
    "duration": 38,
    "start_time": "2025-06-14T17:02:44.365Z"
   },
   {
    "duration": 5,
    "start_time": "2025-06-14T17:02:49.190Z"
   },
   {
    "duration": 44,
    "start_time": "2025-06-14T17:02:49.690Z"
   },
   {
    "duration": 4,
    "start_time": "2025-06-14T17:02:56.998Z"
   },
   {
    "duration": 102,
    "start_time": "2025-06-14T17:03:00.229Z"
   },
   {
    "duration": 53,
    "start_time": "2025-06-14T17:03:01.315Z"
   },
   {
    "duration": 24,
    "start_time": "2025-06-14T17:03:38.534Z"
   },
   {
    "duration": 116,
    "start_time": "2025-06-14T17:03:50.101Z"
   },
   {
    "duration": 23,
    "start_time": "2025-06-14T17:03:59.208Z"
   },
   {
    "duration": 22,
    "start_time": "2025-06-14T17:05:09.817Z"
   },
   {
    "duration": 11,
    "start_time": "2025-06-14T17:05:39.822Z"
   },
   {
    "duration": 2424,
    "start_time": "2025-06-14T17:07:15.986Z"
   },
   {
    "duration": 1056,
    "start_time": "2025-06-14T17:07:18.413Z"
   },
   {
    "duration": 9,
    "start_time": "2025-06-14T17:07:19.471Z"
   },
   {
    "duration": 24,
    "start_time": "2025-06-14T17:07:19.483Z"
   },
   {
    "duration": 10,
    "start_time": "2025-06-14T17:07:19.509Z"
   },
   {
    "duration": 90,
    "start_time": "2025-06-14T17:07:19.520Z"
   },
   {
    "duration": 8,
    "start_time": "2025-06-14T17:07:19.612Z"
   },
   {
    "duration": 10,
    "start_time": "2025-06-14T17:07:19.621Z"
   },
   {
    "duration": 6,
    "start_time": "2025-06-14T17:07:19.632Z"
   },
   {
    "duration": 12,
    "start_time": "2025-06-14T17:07:19.641Z"
   },
   {
    "duration": 6,
    "start_time": "2025-06-14T17:07:19.654Z"
   },
   {
    "duration": 7,
    "start_time": "2025-06-14T17:07:19.662Z"
   },
   {
    "duration": 8,
    "start_time": "2025-06-14T17:07:19.670Z"
   },
   {
    "duration": 115,
    "start_time": "2025-06-14T17:07:19.680Z"
   },
   {
    "duration": 100,
    "start_time": "2025-06-14T17:07:19.796Z"
   },
   {
    "duration": 98,
    "start_time": "2025-06-14T17:07:19.898Z"
   },
   {
    "duration": 15,
    "start_time": "2025-06-14T17:07:19.998Z"
   },
   {
    "duration": 44,
    "start_time": "2025-06-14T17:07:20.145Z"
   },
   {
    "duration": 36,
    "start_time": "2025-06-14T17:07:20.353Z"
   },
   {
    "duration": 36,
    "start_time": "2025-06-14T17:07:20.667Z"
   },
   {
    "duration": 24,
    "start_time": "2025-06-14T17:07:21.539Z"
   },
   {
    "duration": 16,
    "start_time": "2025-06-14T17:07:21.664Z"
   },
   {
    "duration": 16,
    "start_time": "2025-06-14T17:07:21.808Z"
   },
   {
    "duration": 24,
    "start_time": "2025-06-14T17:07:22.126Z"
   },
   {
    "duration": 19,
    "start_time": "2025-06-14T17:07:22.277Z"
   },
   {
    "duration": 20,
    "start_time": "2025-06-14T17:07:22.415Z"
   },
   {
    "duration": 7,
    "start_time": "2025-06-14T17:07:23.230Z"
   },
   {
    "duration": 12,
    "start_time": "2025-06-14T17:07:23.380Z"
   },
   {
    "duration": 18,
    "start_time": "2025-06-14T17:07:23.739Z"
   },
   {
    "duration": 34,
    "start_time": "2025-06-14T17:07:23.898Z"
   },
   {
    "duration": 15,
    "start_time": "2025-06-14T17:07:24.056Z"
   },
   {
    "duration": 290,
    "start_time": "2025-06-14T17:07:24.202Z"
   },
   {
    "duration": 67,
    "start_time": "2025-06-14T17:07:24.493Z"
   },
   {
    "duration": 120,
    "start_time": "2025-06-14T17:07:24.562Z"
   },
   {
    "duration": 595,
    "start_time": "2025-06-14T17:07:24.732Z"
   },
   {
    "duration": 6,
    "start_time": "2025-06-14T17:07:25.329Z"
   },
   {
    "duration": 40,
    "start_time": "2025-06-14T17:07:25.835Z"
   },
   {
    "duration": 18,
    "start_time": "2025-06-14T17:07:26.208Z"
   },
   {
    "duration": 14,
    "start_time": "2025-06-14T17:07:27.196Z"
   },
   {
    "duration": 9,
    "start_time": "2025-06-14T17:07:27.475Z"
   },
   {
    "duration": 19,
    "start_time": "2025-06-14T17:07:27.635Z"
   },
   {
    "duration": 39,
    "start_time": "2025-06-14T17:07:27.864Z"
   },
   {
    "duration": 6,
    "start_time": "2025-06-14T17:07:30.772Z"
   },
   {
    "duration": 40,
    "start_time": "2025-06-14T17:07:32.247Z"
   },
   {
    "duration": 4,
    "start_time": "2025-06-14T17:07:39.767Z"
   },
   {
    "duration": 18,
    "start_time": "2025-06-14T17:09:03.229Z"
   },
   {
    "duration": 2414,
    "start_time": "2025-06-14T17:12:11.659Z"
   },
   {
    "duration": 1051,
    "start_time": "2025-06-14T17:12:14.075Z"
   },
   {
    "duration": 9,
    "start_time": "2025-06-14T17:12:15.128Z"
   },
   {
    "duration": 56,
    "start_time": "2025-06-14T17:12:15.138Z"
   },
   {
    "duration": 11,
    "start_time": "2025-06-14T17:12:15.196Z"
   },
   {
    "duration": 60,
    "start_time": "2025-06-14T17:12:15.210Z"
   },
   {
    "duration": 13,
    "start_time": "2025-06-14T17:12:15.272Z"
   },
   {
    "duration": 9,
    "start_time": "2025-06-14T17:12:15.286Z"
   },
   {
    "duration": 12,
    "start_time": "2025-06-14T17:12:15.296Z"
   },
   {
    "duration": 12,
    "start_time": "2025-06-14T17:12:30.195Z"
   },
   {
    "duration": 5,
    "start_time": "2025-06-14T17:12:32.508Z"
   },
   {
    "duration": 7,
    "start_time": "2025-06-14T17:12:32.708Z"
   },
   {
    "duration": 8,
    "start_time": "2025-06-14T17:12:32.858Z"
   },
   {
    "duration": 96,
    "start_time": "2025-06-14T17:12:33.247Z"
   },
   {
    "duration": 90,
    "start_time": "2025-06-14T17:12:34.944Z"
   },
   {
    "duration": 92,
    "start_time": "2025-06-14T17:12:36.127Z"
   },
   {
    "duration": 16,
    "start_time": "2025-06-14T17:12:37.307Z"
   },
   {
    "duration": 39,
    "start_time": "2025-06-14T17:12:39.452Z"
   },
   {
    "duration": 34,
    "start_time": "2025-06-14T17:12:40.602Z"
   },
   {
    "duration": 35,
    "start_time": "2025-06-14T17:12:43.454Z"
   },
   {
    "duration": 19,
    "start_time": "2025-06-14T17:12:44.962Z"
   },
   {
    "duration": 16,
    "start_time": "2025-06-14T17:12:45.137Z"
   },
   {
    "duration": 15,
    "start_time": "2025-06-14T17:12:45.304Z"
   },
   {
    "duration": 24,
    "start_time": "2025-06-14T17:12:46.155Z"
   },
   {
    "duration": 20,
    "start_time": "2025-06-14T17:12:46.345Z"
   },
   {
    "duration": 20,
    "start_time": "2025-06-14T17:12:46.503Z"
   },
   {
    "duration": 7,
    "start_time": "2025-06-14T17:12:50.211Z"
   },
   {
    "duration": 11,
    "start_time": "2025-06-14T17:12:50.958Z"
   },
   {
    "duration": 12,
    "start_time": "2025-06-14T17:19:56.826Z"
   },
   {
    "duration": 8,
    "start_time": "2025-06-14T17:20:39.368Z"
   },
   {
    "duration": 3,
    "start_time": "2025-06-14T17:21:01.432Z"
   },
   {
    "duration": 73,
    "start_time": "2025-06-14T17:30:42.629Z"
   },
   {
    "duration": 77,
    "start_time": "2025-06-14T17:31:58.744Z"
   },
   {
    "duration": 95,
    "start_time": "2025-06-14T17:32:17.987Z"
   },
   {
    "duration": 102,
    "start_time": "2025-06-14T17:33:01.888Z"
   },
   {
    "duration": 40,
    "start_time": "2025-06-14T17:33:36.349Z"
   },
   {
    "duration": 18,
    "start_time": "2025-06-14T17:33:41.725Z"
   },
   {
    "duration": 34,
    "start_time": "2025-06-14T17:33:42.281Z"
   },
   {
    "duration": 317,
    "start_time": "2025-06-14T17:34:02.941Z"
   },
   {
    "duration": 65,
    "start_time": "2025-06-14T17:35:55.389Z"
   },
   {
    "duration": 114,
    "start_time": "2025-06-14T17:36:13.763Z"
   },
   {
    "duration": 582,
    "start_time": "2025-06-14T17:36:15.407Z"
   },
   {
    "duration": 5,
    "start_time": "2025-06-14T17:52:43.309Z"
   },
   {
    "duration": 40,
    "start_time": "2025-06-14T17:52:43.471Z"
   },
   {
    "duration": 17,
    "start_time": "2025-06-14T17:52:43.814Z"
   },
   {
    "duration": 16,
    "start_time": "2025-06-14T17:52:43.974Z"
   },
   {
    "duration": 10,
    "start_time": "2025-06-14T17:52:44.336Z"
   },
   {
    "duration": 35,
    "start_time": "2025-06-14T17:52:45.076Z"
   },
   {
    "duration": 52,
    "start_time": "2025-06-14T17:52:45.284Z"
   },
   {
    "duration": 38,
    "start_time": "2025-06-14T17:53:20.756Z"
   },
   {
    "duration": 80,
    "start_time": "2025-06-14T17:54:25.743Z"
   },
   {
    "duration": 13,
    "start_time": "2025-06-14T17:54:40.350Z"
   },
   {
    "duration": 72,
    "start_time": "2025-06-14T17:54:51.246Z"
   },
   {
    "duration": 13,
    "start_time": "2025-06-14T17:54:52.042Z"
   },
   {
    "duration": 2451,
    "start_time": "2025-06-14T17:55:05.960Z"
   },
   {
    "duration": 1010,
    "start_time": "2025-06-14T17:55:08.414Z"
   },
   {
    "duration": 9,
    "start_time": "2025-06-14T17:55:09.426Z"
   },
   {
    "duration": 26,
    "start_time": "2025-06-14T17:55:09.436Z"
   },
   {
    "duration": 9,
    "start_time": "2025-06-14T17:55:09.463Z"
   },
   {
    "duration": 7,
    "start_time": "2025-06-14T17:55:09.473Z"
   },
   {
    "duration": 7,
    "start_time": "2025-06-14T17:55:09.482Z"
   },
   {
    "duration": 11,
    "start_time": "2025-06-14T17:55:09.490Z"
   },
   {
    "duration": 7,
    "start_time": "2025-06-14T17:55:09.502Z"
   },
   {
    "duration": 12,
    "start_time": "2025-06-14T17:55:09.511Z"
   },
   {
    "duration": 4,
    "start_time": "2025-06-14T17:55:09.558Z"
   },
   {
    "duration": 7,
    "start_time": "2025-06-14T17:55:09.564Z"
   },
   {
    "duration": 7,
    "start_time": "2025-06-14T17:55:09.572Z"
   },
   {
    "duration": 116,
    "start_time": "2025-06-14T17:55:09.580Z"
   },
   {
    "duration": 97,
    "start_time": "2025-06-14T17:55:09.698Z"
   },
   {
    "duration": 107,
    "start_time": "2025-06-14T17:55:09.796Z"
   },
   {
    "duration": 14,
    "start_time": "2025-06-14T17:55:09.905Z"
   },
   {
    "duration": 49,
    "start_time": "2025-06-14T17:55:09.921Z"
   },
   {
    "duration": 34,
    "start_time": "2025-06-14T17:55:09.972Z"
   },
   {
    "duration": 52,
    "start_time": "2025-06-14T17:55:10.008Z"
   },
   {
    "duration": 20,
    "start_time": "2025-06-14T17:55:10.062Z"
   },
   {
    "duration": 16,
    "start_time": "2025-06-14T17:55:10.083Z"
   },
   {
    "duration": 15,
    "start_time": "2025-06-14T17:55:10.101Z"
   },
   {
    "duration": 24,
    "start_time": "2025-06-14T17:55:10.431Z"
   },
   {
    "duration": 21,
    "start_time": "2025-06-14T17:55:10.630Z"
   },
   {
    "duration": 24,
    "start_time": "2025-06-14T17:55:10.809Z"
   },
   {
    "duration": 7,
    "start_time": "2025-06-14T17:55:12.404Z"
   },
   {
    "duration": 10,
    "start_time": "2025-06-14T17:55:14.663Z"
   },
   {
    "duration": 3,
    "start_time": "2025-06-14T17:55:15.223Z"
   },
   {
    "duration": 40,
    "start_time": "2025-06-14T17:55:15.368Z"
   },
   {
    "duration": 18,
    "start_time": "2025-06-14T17:55:15.673Z"
   },
   {
    "duration": 38,
    "start_time": "2025-06-14T17:55:15.831Z"
   },
   {
    "duration": 14,
    "start_time": "2025-06-14T17:55:16.030Z"
   },
   {
    "duration": 315,
    "start_time": "2025-06-14T17:55:16.210Z"
   },
   {
    "duration": 74,
    "start_time": "2025-06-14T17:55:16.528Z"
   },
   {
    "duration": 122,
    "start_time": "2025-06-14T17:55:16.603Z"
   },
   {
    "duration": 566,
    "start_time": "2025-06-14T17:55:16.783Z"
   },
   {
    "duration": 9,
    "start_time": "2025-06-14T17:55:17.351Z"
   },
   {
    "duration": 39,
    "start_time": "2025-06-14T17:55:17.754Z"
   },
   {
    "duration": 18,
    "start_time": "2025-06-14T17:55:18.146Z"
   },
   {
    "duration": 15,
    "start_time": "2025-06-14T17:55:18.364Z"
   },
   {
    "duration": 10,
    "start_time": "2025-06-14T17:55:19.275Z"
   },
   {
    "duration": 18,
    "start_time": "2025-06-14T17:55:19.484Z"
   },
   {
    "duration": 39,
    "start_time": "2025-06-14T17:55:20.311Z"
   },
   {
    "duration": 6,
    "start_time": "2025-06-14T17:55:23.515Z"
   },
   {
    "duration": 43,
    "start_time": "2025-06-14T17:55:24.193Z"
   },
   {
    "duration": 640,
    "start_time": "2025-06-14T18:04:01.207Z"
   },
   {
    "duration": 539,
    "start_time": "2025-06-14T18:04:17.349Z"
   },
   {
    "duration": 543,
    "start_time": "2025-06-14T18:06:53.440Z"
   },
   {
    "duration": 708,
    "start_time": "2025-06-14T18:07:49.773Z"
   },
   {
    "duration": 607,
    "start_time": "2025-06-14T18:09:14.461Z"
   },
   {
    "duration": 1333,
    "start_time": "2025-06-14T18:12:12.531Z"
   },
   {
    "duration": 654,
    "start_time": "2025-06-14T18:14:41.103Z"
   },
   {
    "duration": 91,
    "start_time": "2025-06-14T18:45:25.120Z"
   },
   {
    "duration": 10,
    "start_time": "2025-06-14T18:45:57.284Z"
   },
   {
    "duration": 35,
    "start_time": "2025-06-14T18:49:10.693Z"
   },
   {
    "duration": 32,
    "start_time": "2025-06-14T18:49:32.994Z"
   },
   {
    "duration": 2443,
    "start_time": "2025-06-14T18:50:21.697Z"
   },
   {
    "duration": 1028,
    "start_time": "2025-06-14T18:50:24.142Z"
   },
   {
    "duration": 14,
    "start_time": "2025-06-14T18:50:25.172Z"
   },
   {
    "duration": 65,
    "start_time": "2025-06-14T18:50:25.189Z"
   },
   {
    "duration": 86,
    "start_time": "2025-06-14T18:50:25.256Z"
   },
   {
    "duration": 9,
    "start_time": "2025-06-14T18:50:25.344Z"
   },
   {
    "duration": 8,
    "start_time": "2025-06-14T18:50:25.355Z"
   },
   {
    "duration": 9,
    "start_time": "2025-06-14T18:50:25.365Z"
   },
   {
    "duration": 8,
    "start_time": "2025-06-14T18:50:25.375Z"
   },
   {
    "duration": 12,
    "start_time": "2025-06-14T18:50:25.385Z"
   },
   {
    "duration": 5,
    "start_time": "2025-06-14T18:50:25.398Z"
   },
   {
    "duration": 9,
    "start_time": "2025-06-14T18:50:25.405Z"
   },
   {
    "duration": 44,
    "start_time": "2025-06-14T18:50:25.415Z"
   },
   {
    "duration": 110,
    "start_time": "2025-06-14T18:50:25.461Z"
   },
   {
    "duration": 101,
    "start_time": "2025-06-14T18:50:25.573Z"
   },
   {
    "duration": 99,
    "start_time": "2025-06-14T18:50:25.676Z"
   },
   {
    "duration": 16,
    "start_time": "2025-06-14T18:50:25.777Z"
   },
   {
    "duration": 40,
    "start_time": "2025-06-14T18:50:25.794Z"
   },
   {
    "duration": 51,
    "start_time": "2025-06-14T18:50:25.837Z"
   },
   {
    "duration": 119,
    "start_time": "2025-06-14T18:50:25.889Z"
   },
   {
    "duration": 19,
    "start_time": "2025-06-14T18:50:26.105Z"
   },
   {
    "duration": 14,
    "start_time": "2025-06-14T18:50:26.264Z"
   },
   {
    "duration": 16,
    "start_time": "2025-06-14T18:50:26.451Z"
   },
   {
    "duration": 24,
    "start_time": "2025-06-14T18:50:27.108Z"
   },
   {
    "duration": 19,
    "start_time": "2025-06-14T18:50:27.665Z"
   },
   {
    "duration": 20,
    "start_time": "2025-06-14T18:50:27.894Z"
   },
   {
    "duration": 7,
    "start_time": "2025-06-14T18:50:29.741Z"
   },
   {
    "duration": 12,
    "start_time": "2025-06-14T18:50:29.924Z"
   },
   {
    "duration": 4,
    "start_time": "2025-06-14T18:50:30.956Z"
   },
   {
    "duration": 37,
    "start_time": "2025-06-14T18:50:31.169Z"
   },
   {
    "duration": 18,
    "start_time": "2025-06-14T18:50:31.400Z"
   },
   {
    "duration": 35,
    "start_time": "2025-06-14T18:50:32.005Z"
   },
   {
    "duration": 15,
    "start_time": "2025-06-14T18:50:32.169Z"
   },
   {
    "duration": 303,
    "start_time": "2025-06-14T18:50:32.335Z"
   },
   {
    "duration": 69,
    "start_time": "2025-06-14T18:50:32.640Z"
   },
   {
    "duration": 115,
    "start_time": "2025-06-14T18:50:32.781Z"
   },
   {
    "duration": 573,
    "start_time": "2025-06-14T18:50:33.253Z"
   },
   {
    "duration": 6,
    "start_time": "2025-06-14T18:50:33.828Z"
   },
   {
    "duration": 39,
    "start_time": "2025-06-14T18:50:34.221Z"
   },
   {
    "duration": 17,
    "start_time": "2025-06-14T18:50:34.514Z"
   },
   {
    "duration": 16,
    "start_time": "2025-06-14T18:50:34.739Z"
   },
   {
    "duration": 11,
    "start_time": "2025-06-14T18:50:35.569Z"
   },
   {
    "duration": 19,
    "start_time": "2025-06-14T18:50:35.735Z"
   },
   {
    "duration": 41,
    "start_time": "2025-06-14T18:50:35.959Z"
   },
   {
    "duration": 37,
    "start_time": "2025-06-14T18:50:41.676Z"
   },
   {
    "duration": 14,
    "start_time": "2025-06-14T19:00:45.109Z"
   },
   {
    "duration": 168,
    "start_time": "2025-06-14T19:01:13.564Z"
   },
   {
    "duration": 156,
    "start_time": "2025-06-14T19:02:03.380Z"
   },
   {
    "duration": 157,
    "start_time": "2025-06-14T19:02:23.213Z"
   },
   {
    "duration": 125,
    "start_time": "2025-06-14T19:15:35.084Z"
   },
   {
    "duration": 122,
    "start_time": "2025-06-14T19:15:46.670Z"
   },
   {
    "duration": 104,
    "start_time": "2025-06-14T19:15:57.467Z"
   },
   {
    "duration": 116,
    "start_time": "2025-06-14T19:16:09.076Z"
   },
   {
    "duration": 111,
    "start_time": "2025-06-14T19:17:50.414Z"
   },
   {
    "duration": 14,
    "start_time": "2025-06-14T19:24:45.247Z"
   },
   {
    "duration": 63,
    "start_time": "2025-06-14T19:24:57.211Z"
   },
   {
    "duration": 54,
    "start_time": "2025-06-14T19:25:15.791Z"
   },
   {
    "duration": 6,
    "start_time": "2025-06-14T19:25:53.665Z"
   },
   {
    "duration": 14,
    "start_time": "2025-06-14T19:28:02.735Z"
   },
   {
    "duration": 9,
    "start_time": "2025-06-14T19:29:09.717Z"
   },
   {
    "duration": 13,
    "start_time": "2025-06-14T19:44:46.277Z"
   },
   {
    "duration": 43,
    "start_time": "2025-06-14T19:44:59.757Z"
   },
   {
    "duration": 52,
    "start_time": "2025-06-14T19:45:41.724Z"
   },
   {
    "duration": 30,
    "start_time": "2025-06-14T19:48:53.288Z"
   },
   {
    "duration": 29,
    "start_time": "2025-06-14T19:49:01.708Z"
   },
   {
    "duration": 31,
    "start_time": "2025-06-14T19:50:09.290Z"
   },
   {
    "duration": 25,
    "start_time": "2025-06-14T19:50:18.834Z"
   },
   {
    "duration": 565,
    "start_time": "2025-06-14T19:58:07.668Z"
   },
   {
    "duration": 16,
    "start_time": "2025-06-14T19:58:35.748Z"
   },
   {
    "duration": 854,
    "start_time": "2025-06-14T19:59:54.955Z"
   },
   {
    "duration": 12,
    "start_time": "2025-06-14T20:00:24.643Z"
   },
   {
    "duration": 48,
    "start_time": "2025-06-14T20:00:51.135Z"
   },
   {
    "duration": 12,
    "start_time": "2025-06-14T20:02:35.217Z"
   },
   {
    "duration": 92,
    "start_time": "2025-06-14T20:03:40.764Z"
   },
   {
    "duration": 24,
    "start_time": "2025-06-14T20:04:21.097Z"
   },
   {
    "duration": 5711,
    "start_time": "2025-06-15T07:40:49.491Z"
   },
   {
    "duration": 1277,
    "start_time": "2025-06-15T07:40:55.205Z"
   },
   {
    "duration": 15,
    "start_time": "2025-06-15T07:40:56.484Z"
   },
   {
    "duration": 26,
    "start_time": "2025-06-15T07:40:56.501Z"
   },
   {
    "duration": 10,
    "start_time": "2025-06-15T07:40:56.530Z"
   },
   {
    "duration": 31,
    "start_time": "2025-06-15T07:40:56.542Z"
   },
   {
    "duration": 15,
    "start_time": "2025-06-15T07:40:56.575Z"
   },
   {
    "duration": 20,
    "start_time": "2025-06-15T07:40:56.592Z"
   },
   {
    "duration": 15,
    "start_time": "2025-06-15T07:40:56.614Z"
   },
   {
    "duration": 18,
    "start_time": "2025-06-15T07:40:56.631Z"
   },
   {
    "duration": 5,
    "start_time": "2025-06-15T07:40:56.651Z"
   },
   {
    "duration": 8,
    "start_time": "2025-06-15T07:40:56.671Z"
   },
   {
    "duration": 10,
    "start_time": "2025-06-15T07:40:56.681Z"
   },
   {
    "duration": 120,
    "start_time": "2025-06-15T07:40:56.695Z"
   },
   {
    "duration": 103,
    "start_time": "2025-06-15T07:40:56.817Z"
   },
   {
    "duration": 106,
    "start_time": "2025-06-15T07:40:56.922Z"
   },
   {
    "duration": 17,
    "start_time": "2025-06-15T07:40:57.029Z"
   },
   {
    "duration": 58,
    "start_time": "2025-06-15T07:40:57.048Z"
   },
   {
    "duration": 53,
    "start_time": "2025-06-15T07:40:57.107Z"
   },
   {
    "duration": 37,
    "start_time": "2025-06-15T07:40:57.161Z"
   },
   {
    "duration": 36,
    "start_time": "2025-06-15T07:40:57.200Z"
   },
   {
    "duration": 16,
    "start_time": "2025-06-15T07:40:57.238Z"
   },
   {
    "duration": 22,
    "start_time": "2025-06-15T07:40:57.256Z"
   },
   {
    "duration": 27,
    "start_time": "2025-06-15T07:40:57.279Z"
   },
   {
    "duration": 20,
    "start_time": "2025-06-15T07:40:57.308Z"
   },
   {
    "duration": 52,
    "start_time": "2025-06-15T07:40:57.330Z"
   },
   {
    "duration": 11,
    "start_time": "2025-06-15T07:40:57.383Z"
   },
   {
    "duration": 11,
    "start_time": "2025-06-15T07:40:57.396Z"
   },
   {
    "duration": 3,
    "start_time": "2025-06-15T07:40:57.409Z"
   },
   {
    "duration": 67,
    "start_time": "2025-06-15T07:40:57.413Z"
   },
   {
    "duration": 20,
    "start_time": "2025-06-15T07:40:57.482Z"
   },
   {
    "duration": 43,
    "start_time": "2025-06-15T07:40:57.503Z"
   },
   {
    "duration": 31,
    "start_time": "2025-06-15T07:40:57.548Z"
   },
   {
    "duration": 390,
    "start_time": "2025-06-15T07:40:57.581Z"
   },
   {
    "duration": 76,
    "start_time": "2025-06-15T07:40:57.973Z"
   },
   {
    "duration": 134,
    "start_time": "2025-06-15T07:40:58.051Z"
   },
   {
    "duration": 619,
    "start_time": "2025-06-15T07:40:58.187Z"
   },
   {
    "duration": 5,
    "start_time": "2025-06-15T07:40:58.808Z"
   },
   {
    "duration": 56,
    "start_time": "2025-06-15T07:40:58.815Z"
   },
   {
    "duration": 19,
    "start_time": "2025-06-15T07:40:58.873Z"
   },
   {
    "duration": 16,
    "start_time": "2025-06-15T07:40:58.896Z"
   },
   {
    "duration": 10,
    "start_time": "2025-06-15T07:40:58.913Z"
   },
   {
    "duration": 51,
    "start_time": "2025-06-15T07:40:58.925Z"
   },
   {
    "duration": 44,
    "start_time": "2025-06-15T07:40:58.978Z"
   },
   {
    "duration": 56,
    "start_time": "2025-06-15T07:40:59.024Z"
   },
   {
    "duration": 193,
    "start_time": "2025-06-15T07:40:59.081Z"
   },
   {
    "duration": 146,
    "start_time": "2025-06-15T07:40:59.276Z"
   },
   {
    "duration": 73,
    "start_time": "2025-06-15T07:40:59.423Z"
   },
   {
    "duration": 6,
    "start_time": "2025-06-15T07:40:59.497Z"
   },
   {
    "duration": 16,
    "start_time": "2025-06-15T07:40:59.505Z"
   },
   {
    "duration": 13,
    "start_time": "2025-06-15T07:40:59.523Z"
   },
   {
    "duration": 67,
    "start_time": "2025-06-15T07:40:59.537Z"
   },
   {
    "duration": 31,
    "start_time": "2025-06-15T07:40:59.605Z"
   },
   {
    "duration": 45,
    "start_time": "2025-06-15T07:40:59.637Z"
   },
   {
    "duration": 862,
    "start_time": "2025-06-15T07:40:59.684Z"
   },
   {
    "duration": 64,
    "start_time": "2025-06-15T07:41:00.548Z"
   },
   {
    "duration": 97,
    "start_time": "2025-06-15T07:41:00.613Z"
   },
   {
    "duration": 24,
    "start_time": "2025-06-15T07:41:00.712Z"
   },
   {
    "duration": 4958,
    "start_time": "2025-06-15T13:12:18.439Z"
   },
   {
    "duration": 1164,
    "start_time": "2025-06-15T13:12:23.400Z"
   },
   {
    "duration": 14,
    "start_time": "2025-06-15T13:12:24.566Z"
   },
   {
    "duration": 98,
    "start_time": "2025-06-15T13:12:24.583Z"
   },
   {
    "duration": 18,
    "start_time": "2025-06-15T13:12:24.683Z"
   },
   {
    "duration": 11,
    "start_time": "2025-06-15T13:12:24.703Z"
   },
   {
    "duration": 9,
    "start_time": "2025-06-15T13:12:24.716Z"
   },
   {
    "duration": 18,
    "start_time": "2025-06-15T13:12:24.727Z"
   },
   {
    "duration": 21,
    "start_time": "2025-06-15T13:12:24.747Z"
   },
   {
    "duration": 12,
    "start_time": "2025-06-15T13:12:24.771Z"
   },
   {
    "duration": 29,
    "start_time": "2025-06-15T13:12:24.785Z"
   },
   {
    "duration": 16,
    "start_time": "2025-06-15T13:12:24.816Z"
   },
   {
    "duration": 16,
    "start_time": "2025-06-15T13:12:24.833Z"
   },
   {
    "duration": 138,
    "start_time": "2025-06-15T13:12:24.851Z"
   },
   {
    "duration": 101,
    "start_time": "2025-06-15T13:12:24.991Z"
   },
   {
    "duration": 112,
    "start_time": "2025-06-15T13:12:25.094Z"
   },
   {
    "duration": 17,
    "start_time": "2025-06-15T13:12:25.208Z"
   },
   {
    "duration": 59,
    "start_time": "2025-06-15T13:12:25.227Z"
   },
   {
    "duration": 41,
    "start_time": "2025-06-15T13:12:25.288Z"
   },
   {
    "duration": 54,
    "start_time": "2025-06-15T13:12:25.331Z"
   },
   {
    "duration": 20,
    "start_time": "2025-06-15T13:12:25.387Z"
   },
   {
    "duration": 15,
    "start_time": "2025-06-15T13:12:25.410Z"
   },
   {
    "duration": 100,
    "start_time": "2025-06-15T13:12:25.427Z"
   },
   {
    "duration": 25,
    "start_time": "2025-06-15T13:12:25.761Z"
   },
   {
    "duration": 21,
    "start_time": "2025-06-15T13:12:25.943Z"
   },
   {
    "duration": 21,
    "start_time": "2025-06-15T13:12:26.170Z"
   },
   {
    "duration": 8,
    "start_time": "2025-06-15T13:12:28.098Z"
   },
   {
    "duration": 11,
    "start_time": "2025-06-15T13:12:28.232Z"
   },
   {
    "duration": 4,
    "start_time": "2025-06-15T13:12:28.625Z"
   },
   {
    "duration": 49,
    "start_time": "2025-06-15T13:12:28.751Z"
   },
   {
    "duration": 19,
    "start_time": "2025-06-15T13:12:29.066Z"
   },
   {
    "duration": 35,
    "start_time": "2025-06-15T13:12:29.240Z"
   },
   {
    "duration": 15,
    "start_time": "2025-06-15T13:12:29.445Z"
   },
   {
    "duration": 341,
    "start_time": "2025-06-15T13:12:29.632Z"
   },
   {
    "duration": 74,
    "start_time": "2025-06-15T13:12:29.975Z"
   },
   {
    "duration": 131,
    "start_time": "2025-06-15T13:12:30.051Z"
   },
   {
    "duration": 616,
    "start_time": "2025-06-15T13:12:30.213Z"
   },
   {
    "duration": 6,
    "start_time": "2025-06-15T13:12:30.831Z"
   },
   {
    "duration": 41,
    "start_time": "2025-06-15T13:12:32.538Z"
   },
   {
    "duration": 18,
    "start_time": "2025-06-15T13:12:32.983Z"
   },
   {
    "duration": 22,
    "start_time": "2025-06-15T13:12:33.883Z"
   },
   {
    "duration": 10,
    "start_time": "2025-06-15T13:12:34.178Z"
   },
   {
    "duration": 19,
    "start_time": "2025-06-15T13:12:34.324Z"
   },
   {
    "duration": 39,
    "start_time": "2025-06-15T13:12:34.476Z"
   },
   {
    "duration": 38,
    "start_time": "2025-06-15T13:12:35.518Z"
   },
   {
    "duration": 180,
    "start_time": "2025-06-15T13:12:36.183Z"
   },
   {
    "duration": 128,
    "start_time": "2025-06-15T13:12:38.120Z"
   },
   {
    "duration": 62,
    "start_time": "2025-06-15T13:12:38.808Z"
   },
   {
    "duration": 6,
    "start_time": "2025-06-15T13:12:39.435Z"
   },
   {
    "duration": 13,
    "start_time": "2025-06-15T13:12:41.138Z"
   },
   {
    "duration": 9,
    "start_time": "2025-06-15T13:12:41.778Z"
   },
   {
    "duration": 40,
    "start_time": "2025-06-15T13:12:45.401Z"
   },
   {
    "duration": 38,
    "start_time": "2025-06-15T13:12:46.069Z"
   },
   {
    "duration": 27,
    "start_time": "2025-06-15T13:12:46.201Z"
   },
   {
    "duration": 846,
    "start_time": "2025-06-15T13:12:51.250Z"
   },
   {
    "duration": 51,
    "start_time": "2025-06-15T13:12:52.098Z"
   },
   {
    "duration": 97,
    "start_time": "2025-06-15T13:12:52.151Z"
   },
   {
    "duration": 22,
    "start_time": "2025-06-15T13:12:52.250Z"
   },
   {
    "duration": 105,
    "start_time": "2025-06-15T13:15:37.879Z"
   },
   {
    "duration": 14,
    "start_time": "2025-06-15T13:16:17.849Z"
   },
   {
    "duration": 277,
    "start_time": "2025-06-15T13:16:36.481Z"
   },
   {
    "duration": 542,
    "start_time": "2025-06-15T13:18:28.011Z"
   },
   {
    "duration": 8,
    "start_time": "2025-06-15T13:19:03.902Z"
   },
   {
    "duration": 19,
    "start_time": "2025-06-15T13:19:07.749Z"
   },
   {
    "duration": 9,
    "start_time": "2025-06-15T13:20:03.346Z"
   },
   {
    "duration": 23,
    "start_time": "2025-06-15T13:20:08.769Z"
   },
   {
    "duration": 18,
    "start_time": "2025-06-15T13:20:12.721Z"
   },
   {
    "duration": 18,
    "start_time": "2025-06-15T13:20:32.664Z"
   },
   {
    "duration": 19,
    "start_time": "2025-06-15T13:20:49.797Z"
   },
   {
    "duration": 164,
    "start_time": "2025-06-15T13:33:58.079Z"
   },
   {
    "duration": 145,
    "start_time": "2025-06-15T13:35:31.356Z"
   },
   {
    "duration": 160,
    "start_time": "2025-06-15T13:39:04.550Z"
   },
   {
    "duration": 92,
    "start_time": "2025-06-15T13:41:01.371Z"
   },
   {
    "duration": 174,
    "start_time": "2025-06-15T13:42:13.428Z"
   },
   {
    "duration": 112,
    "start_time": "2025-06-15T13:46:08.683Z"
   },
   {
    "duration": 78,
    "start_time": "2025-06-15T13:46:27.376Z"
   },
   {
    "duration": 12,
    "start_time": "2025-06-15T13:48:10.370Z"
   },
   {
    "duration": 147,
    "start_time": "2025-06-15T13:48:24.109Z"
   },
   {
    "duration": 30,
    "start_time": "2025-06-15T13:49:02.878Z"
   },
   {
    "duration": 13,
    "start_time": "2025-06-15T13:52:55.819Z"
   },
   {
    "duration": 280,
    "start_time": "2025-06-15T13:53:04.605Z"
   },
   {
    "duration": 14,
    "start_time": "2025-06-15T13:55:52.259Z"
   },
   {
    "duration": 61089,
    "start_time": "2025-06-15T13:56:00.920Z"
   },
   {
    "duration": 593,
    "start_time": "2025-06-15T14:00:42.689Z"
   },
   {
    "duration": 18,
    "start_time": "2025-06-15T14:20:04.173Z"
   },
   {
    "duration": 665,
    "start_time": "2025-06-15T14:20:13.779Z"
   },
   {
    "duration": 662,
    "start_time": "2025-06-15T14:20:48.146Z"
   },
   {
    "duration": 31,
    "start_time": "2025-06-15T14:21:40.227Z"
   },
   {
    "duration": 14,
    "start_time": "2025-06-15T14:22:26.774Z"
   },
   {
    "duration": 11,
    "start_time": "2025-06-15T14:22:42.172Z"
   },
   {
    "duration": 15,
    "start_time": "2025-06-15T14:24:13.930Z"
   },
   {
    "duration": 8,
    "start_time": "2025-06-15T14:24:26.990Z"
   },
   {
    "duration": 5,
    "start_time": "2025-06-15T14:26:13.122Z"
   },
   {
    "duration": 4833,
    "start_time": "2025-06-15T17:01:30.619Z"
   },
   {
    "duration": 1147,
    "start_time": "2025-06-15T17:01:35.454Z"
   },
   {
    "duration": 13,
    "start_time": "2025-06-15T17:01:36.602Z"
   },
   {
    "duration": 125,
    "start_time": "2025-06-15T17:01:36.617Z"
   },
   {
    "duration": 42,
    "start_time": "2025-06-15T17:01:36.744Z"
   },
   {
    "duration": 27,
    "start_time": "2025-06-15T17:01:36.788Z"
   },
   {
    "duration": 23,
    "start_time": "2025-06-15T17:01:36.816Z"
   },
   {
    "duration": 65,
    "start_time": "2025-06-15T17:01:36.840Z"
   },
   {
    "duration": 99,
    "start_time": "2025-06-15T17:01:36.906Z"
   },
   {
    "duration": 66,
    "start_time": "2025-06-15T17:01:37.008Z"
   },
   {
    "duration": 28,
    "start_time": "2025-06-15T17:01:37.076Z"
   },
   {
    "duration": 39,
    "start_time": "2025-06-15T17:01:37.106Z"
   },
   {
    "duration": 27,
    "start_time": "2025-06-15T17:01:37.146Z"
   },
   {
    "duration": 100,
    "start_time": "2025-06-15T17:01:39.425Z"
   },
   {
    "duration": 94,
    "start_time": "2025-06-15T17:01:39.586Z"
   },
   {
    "duration": 93,
    "start_time": "2025-06-15T17:01:39.740Z"
   },
   {
    "duration": 15,
    "start_time": "2025-06-15T17:01:39.903Z"
   },
   {
    "duration": 40,
    "start_time": "2025-06-15T17:01:40.576Z"
   },
   {
    "duration": 36,
    "start_time": "2025-06-15T17:01:40.732Z"
   },
   {
    "duration": 38,
    "start_time": "2025-06-15T17:01:40.932Z"
   },
   {
    "duration": 20,
    "start_time": "2025-06-15T17:01:41.327Z"
   },
   {
    "duration": 15,
    "start_time": "2025-06-15T17:01:41.535Z"
   },
   {
    "duration": 15,
    "start_time": "2025-06-15T17:01:41.679Z"
   },
   {
    "duration": 25,
    "start_time": "2025-06-15T17:01:41.983Z"
   },
   {
    "duration": 20,
    "start_time": "2025-06-15T17:01:42.134Z"
   },
   {
    "duration": 26,
    "start_time": "2025-06-15T17:01:42.280Z"
   },
   {
    "duration": 7,
    "start_time": "2025-06-15T17:01:43.206Z"
   },
   {
    "duration": 11,
    "start_time": "2025-06-15T17:01:43.320Z"
   },
   {
    "duration": 3,
    "start_time": "2025-06-15T17:01:43.631Z"
   },
   {
    "duration": 45,
    "start_time": "2025-06-15T17:01:43.779Z"
   },
   {
    "duration": 18,
    "start_time": "2025-06-15T17:01:44.059Z"
   },
   {
    "duration": 34,
    "start_time": "2025-06-15T17:01:44.226Z"
   },
   {
    "duration": 16,
    "start_time": "2025-06-15T17:01:44.377Z"
   },
   {
    "duration": 331,
    "start_time": "2025-06-15T17:01:44.556Z"
   },
   {
    "duration": 87,
    "start_time": "2025-06-15T17:01:44.890Z"
   },
   {
    "duration": 130,
    "start_time": "2025-06-15T17:01:44.980Z"
   },
   {
    "duration": 590,
    "start_time": "2025-06-15T17:01:45.111Z"
   },
   {
    "duration": 5,
    "start_time": "2025-06-15T17:01:45.706Z"
   },
   {
    "duration": 53,
    "start_time": "2025-06-15T17:01:45.713Z"
   },
   {
    "duration": 46,
    "start_time": "2025-06-15T17:01:45.837Z"
   },
   {
    "duration": 16,
    "start_time": "2025-06-15T17:01:45.970Z"
   },
   {
    "duration": 10,
    "start_time": "2025-06-15T17:01:46.274Z"
   },
   {
    "duration": 19,
    "start_time": "2025-06-15T17:01:46.433Z"
   },
   {
    "duration": 38,
    "start_time": "2025-06-15T17:01:46.634Z"
   },
   {
    "duration": 37,
    "start_time": "2025-06-15T17:01:47.771Z"
   },
   {
    "duration": 177,
    "start_time": "2025-06-15T17:01:47.937Z"
   },
   {
    "duration": 121,
    "start_time": "2025-06-15T17:01:49.584Z"
   },
   {
    "duration": 57,
    "start_time": "2025-06-15T17:01:49.821Z"
   },
   {
    "duration": 6,
    "start_time": "2025-06-15T17:01:50.042Z"
   },
   {
    "duration": 14,
    "start_time": "2025-06-15T17:01:50.503Z"
   },
   {
    "duration": 8,
    "start_time": "2025-06-15T17:01:50.711Z"
   },
   {
    "duration": 50,
    "start_time": "2025-06-15T17:01:52.086Z"
   },
   {
    "duration": 29,
    "start_time": "2025-06-15T17:01:53.823Z"
   },
   {
    "duration": 27,
    "start_time": "2025-06-15T17:01:53.966Z"
   },
   {
    "duration": 819,
    "start_time": "2025-06-15T17:01:55.175Z"
   },
   {
    "duration": 65,
    "start_time": "2025-06-15T17:01:55.997Z"
   },
   {
    "duration": 106,
    "start_time": "2025-06-15T17:01:56.064Z"
   },
   {
    "duration": 23,
    "start_time": "2025-06-15T17:01:56.172Z"
   },
   {
    "duration": 267,
    "start_time": "2025-06-15T17:01:59.080Z"
   },
   {
    "duration": 518,
    "start_time": "2025-06-15T17:01:59.349Z"
   },
   {
    "duration": 17,
    "start_time": "2025-06-15T17:01:59.869Z"
   },
   {
    "duration": 39,
    "start_time": "2025-06-15T17:01:59.887Z"
   },
   {
    "duration": 153,
    "start_time": "2025-06-15T17:02:00.791Z"
   },
   {
    "duration": 30,
    "start_time": "2025-06-15T17:02:00.946Z"
   },
   {
    "duration": 567,
    "start_time": "2025-06-15T17:02:01.104Z"
   },
   {
    "duration": 544,
    "start_time": "2025-06-15T17:02:02.662Z"
   },
   {
    "duration": 29,
    "start_time": "2025-06-15T17:02:03.490Z"
   },
   {
    "duration": 15,
    "start_time": "2025-06-15T17:02:03.877Z"
   },
   {
    "duration": 8,
    "start_time": "2025-06-15T17:02:08.057Z"
   },
   {
    "duration": 5,
    "start_time": "2025-06-15T17:02:08.196Z"
   },
   {
    "duration": 24,
    "start_time": "2025-06-15T17:06:32.183Z"
   },
   {
    "duration": 104,
    "start_time": "2025-06-15T17:07:00.388Z"
   },
   {
    "duration": 5,
    "start_time": "2025-06-15T17:09:39.853Z"
   },
   {
    "duration": 7,
    "start_time": "2025-06-15T17:11:12.886Z"
   },
   {
    "duration": 105,
    "start_time": "2025-06-15T17:11:44.264Z"
   },
   {
    "duration": 7,
    "start_time": "2025-06-15T17:11:49.897Z"
   },
   {
    "duration": 22,
    "start_time": "2025-06-15T17:13:43.524Z"
   },
   {
    "duration": 13,
    "start_time": "2025-06-15T17:15:37.004Z"
   },
   {
    "duration": 4589,
    "start_time": "2025-06-15T19:25:40.180Z"
   },
   {
    "duration": 1153,
    "start_time": "2025-06-15T19:25:44.772Z"
   },
   {
    "duration": 13,
    "start_time": "2025-06-15T19:25:45.927Z"
   },
   {
    "duration": 34,
    "start_time": "2025-06-15T19:25:45.942Z"
   },
   {
    "duration": 10,
    "start_time": "2025-06-15T19:25:45.978Z"
   },
   {
    "duration": 8,
    "start_time": "2025-06-15T19:25:45.990Z"
   },
   {
    "duration": 9,
    "start_time": "2025-06-15T19:25:45.999Z"
   },
   {
    "duration": 9,
    "start_time": "2025-06-15T19:25:46.010Z"
   },
   {
    "duration": 42,
    "start_time": "2025-06-15T19:25:46.021Z"
   },
   {
    "duration": 19,
    "start_time": "2025-06-15T19:25:46.065Z"
   },
   {
    "duration": 5,
    "start_time": "2025-06-15T19:25:46.085Z"
   },
   {
    "duration": 10,
    "start_time": "2025-06-15T19:25:46.091Z"
   },
   {
    "duration": 12,
    "start_time": "2025-06-15T19:25:46.103Z"
   },
   {
    "duration": 109,
    "start_time": "2025-06-15T19:25:46.116Z"
   },
   {
    "duration": 101,
    "start_time": "2025-06-15T19:25:46.227Z"
   },
   {
    "duration": 106,
    "start_time": "2025-06-15T19:25:46.330Z"
   },
   {
    "duration": 16,
    "start_time": "2025-06-15T19:25:46.437Z"
   },
   {
    "duration": 53,
    "start_time": "2025-06-15T19:25:46.455Z"
   },
   {
    "duration": 41,
    "start_time": "2025-06-15T19:25:46.510Z"
   },
   {
    "duration": 44,
    "start_time": "2025-06-15T19:25:46.553Z"
   },
   {
    "duration": 19,
    "start_time": "2025-06-15T19:25:46.600Z"
   },
   {
    "duration": 51,
    "start_time": "2025-06-15T19:25:46.621Z"
   },
   {
    "duration": 18,
    "start_time": "2025-06-15T19:25:46.674Z"
   },
   {
    "duration": 31,
    "start_time": "2025-06-15T19:25:46.790Z"
   },
   {
    "duration": 20,
    "start_time": "2025-06-15T19:25:47.016Z"
   },
   {
    "duration": 20,
    "start_time": "2025-06-15T19:25:48.665Z"
   },
   {
    "duration": 7,
    "start_time": "2025-06-15T19:25:49.666Z"
   },
   {
    "duration": 12,
    "start_time": "2025-06-15T19:25:49.816Z"
   },
   {
    "duration": 4,
    "start_time": "2025-06-15T19:25:50.112Z"
   },
   {
    "duration": 42,
    "start_time": "2025-06-15T19:25:50.289Z"
   },
   {
    "duration": 18,
    "start_time": "2025-06-15T19:25:50.702Z"
   },
   {
    "duration": 38,
    "start_time": "2025-06-15T19:25:51.119Z"
   },
   {
    "duration": 15,
    "start_time": "2025-06-15T19:25:51.245Z"
   },
   {
    "duration": 358,
    "start_time": "2025-06-15T19:25:51.488Z"
   },
   {
    "duration": 81,
    "start_time": "2025-06-15T19:25:51.848Z"
   },
   {
    "duration": 122,
    "start_time": "2025-06-15T19:25:51.930Z"
   },
   {
    "duration": 623,
    "start_time": "2025-06-15T19:25:52.054Z"
   },
   {
    "duration": 5,
    "start_time": "2025-06-15T19:25:52.679Z"
   },
   {
    "duration": 143,
    "start_time": "2025-06-15T19:25:52.686Z"
   },
   {
    "duration": 17,
    "start_time": "2025-06-15T19:25:52.852Z"
   },
   {
    "duration": 15,
    "start_time": "2025-06-15T19:25:53.072Z"
   },
   {
    "duration": 10,
    "start_time": "2025-06-15T19:25:53.501Z"
   },
   {
    "duration": 18,
    "start_time": "2025-06-15T19:25:53.775Z"
   },
   {
    "duration": 37,
    "start_time": "2025-06-15T19:25:53.972Z"
   },
   {
    "duration": 36,
    "start_time": "2025-06-15T19:25:55.111Z"
   },
   {
    "duration": 178,
    "start_time": "2025-06-15T19:25:55.356Z"
   },
   {
    "duration": 128,
    "start_time": "2025-06-15T19:25:56.434Z"
   },
   {
    "duration": 60,
    "start_time": "2025-06-15T19:25:56.630Z"
   },
   {
    "duration": 5,
    "start_time": "2025-06-15T19:25:56.829Z"
   },
   {
    "duration": 14,
    "start_time": "2025-06-15T19:25:57.300Z"
   },
   {
    "duration": 8,
    "start_time": "2025-06-15T19:25:57.506Z"
   },
   {
    "duration": 40,
    "start_time": "2025-06-15T19:25:58.671Z"
   },
   {
    "duration": 30,
    "start_time": "2025-06-15T19:25:59.137Z"
   },
   {
    "duration": 41,
    "start_time": "2025-06-15T19:25:59.386Z"
   },
   {
    "duration": 832,
    "start_time": "2025-06-15T19:26:00.318Z"
   },
   {
    "duration": 61,
    "start_time": "2025-06-15T19:26:01.152Z"
   },
   {
    "duration": 88,
    "start_time": "2025-06-15T19:26:01.214Z"
   },
   {
    "duration": 21,
    "start_time": "2025-06-15T19:26:01.319Z"
   },
   {
    "duration": 270,
    "start_time": "2025-06-15T19:26:03.251Z"
   },
   {
    "duration": 532,
    "start_time": "2025-06-15T19:26:03.688Z"
   },
   {
    "duration": 18,
    "start_time": "2025-06-15T19:26:05.504Z"
   },
   {
    "duration": 18,
    "start_time": "2025-06-15T19:26:05.703Z"
   },
   {
    "duration": 157,
    "start_time": "2025-06-15T19:26:07.472Z"
   },
   {
    "duration": 30,
    "start_time": "2025-06-15T19:26:07.691Z"
   },
   {
    "duration": 541,
    "start_time": "2025-06-15T19:26:08.527Z"
   },
   {
    "duration": 550,
    "start_time": "2025-06-15T19:26:10.028Z"
   },
   {
    "duration": 29,
    "start_time": "2025-06-15T19:26:10.580Z"
   },
   {
    "duration": 73,
    "start_time": "2025-06-15T19:26:10.610Z"
   },
   {
    "duration": 8,
    "start_time": "2025-06-15T19:26:10.810Z"
   },
   {
    "duration": 5,
    "start_time": "2025-06-15T19:26:11.578Z"
   },
   {
    "duration": 21,
    "start_time": "2025-06-15T19:26:13.986Z"
   },
   {
    "duration": 96,
    "start_time": "2025-06-15T19:26:14.834Z"
   },
   {
    "duration": 6,
    "start_time": "2025-06-15T19:26:15.863Z"
   },
   {
    "duration": 6,
    "start_time": "2025-06-15T19:26:16.013Z"
   },
   {
    "duration": 7,
    "start_time": "2025-06-15T19:26:16.236Z"
   },
   {
    "duration": 21,
    "start_time": "2025-06-15T19:26:16.404Z"
   },
   {
    "duration": 12,
    "start_time": "2025-06-15T19:26:18.220Z"
   },
   {
    "duration": 2432,
    "start_time": "2025-06-15T19:31:37.279Z"
   },
   {
    "duration": 1110,
    "start_time": "2025-06-15T19:31:39.713Z"
   },
   {
    "duration": 10,
    "start_time": "2025-06-15T19:31:40.825Z"
   },
   {
    "duration": 48,
    "start_time": "2025-06-15T19:31:40.838Z"
   },
   {
    "duration": 8,
    "start_time": "2025-06-15T19:31:40.888Z"
   },
   {
    "duration": 9,
    "start_time": "2025-06-15T19:31:40.898Z"
   },
   {
    "duration": 11,
    "start_time": "2025-06-15T19:31:40.908Z"
   },
   {
    "duration": 21,
    "start_time": "2025-06-15T19:31:40.921Z"
   },
   {
    "duration": 34,
    "start_time": "2025-06-15T19:31:40.943Z"
   },
   {
    "duration": 12,
    "start_time": "2025-06-15T19:31:40.980Z"
   },
   {
    "duration": 8,
    "start_time": "2025-06-15T19:31:40.993Z"
   },
   {
    "duration": 8,
    "start_time": "2025-06-15T19:31:41.002Z"
   },
   {
    "duration": 9,
    "start_time": "2025-06-15T19:31:41.011Z"
   },
   {
    "duration": 134,
    "start_time": "2025-06-15T19:31:41.021Z"
   },
   {
    "duration": 92,
    "start_time": "2025-06-15T19:31:41.173Z"
   },
   {
    "duration": 96,
    "start_time": "2025-06-15T19:31:41.321Z"
   },
   {
    "duration": 16,
    "start_time": "2025-06-15T19:31:41.472Z"
   },
   {
    "duration": 40,
    "start_time": "2025-06-15T19:31:41.961Z"
   },
   {
    "duration": 35,
    "start_time": "2025-06-15T19:31:42.111Z"
   },
   {
    "duration": 36,
    "start_time": "2025-06-15T19:31:42.283Z"
   },
   {
    "duration": 20,
    "start_time": "2025-06-15T19:31:42.642Z"
   },
   {
    "duration": 15,
    "start_time": "2025-06-15T19:31:42.810Z"
   },
   {
    "duration": 17,
    "start_time": "2025-06-15T19:31:43.017Z"
   },
   {
    "duration": 27,
    "start_time": "2025-06-15T19:31:43.374Z"
   },
   {
    "duration": 21,
    "start_time": "2025-06-15T19:31:43.547Z"
   },
   {
    "duration": 22,
    "start_time": "2025-06-15T19:31:43.733Z"
   },
   {
    "duration": 10,
    "start_time": "2025-06-15T19:31:44.726Z"
   },
   {
    "duration": 11,
    "start_time": "2025-06-15T19:31:44.892Z"
   },
   {
    "duration": 3,
    "start_time": "2025-06-15T19:31:45.216Z"
   },
   {
    "duration": 37,
    "start_time": "2025-06-15T19:31:45.383Z"
   },
   {
    "duration": 18,
    "start_time": "2025-06-15T19:31:45.754Z"
   },
   {
    "duration": 36,
    "start_time": "2025-06-15T19:31:45.976Z"
   },
   {
    "duration": 14,
    "start_time": "2025-06-15T19:31:46.256Z"
   },
   {
    "duration": 320,
    "start_time": "2025-06-15T19:31:46.440Z"
   },
   {
    "duration": 65,
    "start_time": "2025-06-15T19:31:46.762Z"
   },
   {
    "duration": 127,
    "start_time": "2025-06-15T19:31:46.830Z"
   },
   {
    "duration": 583,
    "start_time": "2025-06-15T19:31:47.011Z"
   },
   {
    "duration": 5,
    "start_time": "2025-06-15T19:31:47.596Z"
   },
   {
    "duration": 36,
    "start_time": "2025-06-15T19:31:47.728Z"
   },
   {
    "duration": 18,
    "start_time": "2025-06-15T19:31:48.138Z"
   },
   {
    "duration": 15,
    "start_time": "2025-06-15T19:31:48.340Z"
   },
   {
    "duration": 10,
    "start_time": "2025-06-15T19:31:48.938Z"
   },
   {
    "duration": 19,
    "start_time": "2025-06-15T19:31:49.087Z"
   },
   {
    "duration": 36,
    "start_time": "2025-06-15T19:31:49.296Z"
   },
   {
    "duration": 35,
    "start_time": "2025-06-15T19:31:51.505Z"
   },
   {
    "duration": 157,
    "start_time": "2025-06-15T19:31:51.788Z"
   },
   {
    "duration": 129,
    "start_time": "2025-06-15T19:31:54.971Z"
   },
   {
    "duration": 60,
    "start_time": "2025-06-15T19:31:55.173Z"
   },
   {
    "duration": 5,
    "start_time": "2025-06-15T19:31:55.333Z"
   },
   {
    "duration": 12,
    "start_time": "2025-06-15T19:31:55.649Z"
   },
   {
    "duration": 9,
    "start_time": "2025-06-15T19:31:55.829Z"
   },
   {
    "duration": 43,
    "start_time": "2025-06-15T19:31:56.668Z"
   },
   {
    "duration": 28,
    "start_time": "2025-06-15T19:31:57.040Z"
   },
   {
    "duration": 31,
    "start_time": "2025-06-15T19:31:57.253Z"
   },
   {
    "duration": 859,
    "start_time": "2025-06-15T19:31:58.608Z"
   },
   {
    "duration": 50,
    "start_time": "2025-06-15T19:31:59.477Z"
   },
   {
    "duration": 94,
    "start_time": "2025-06-15T19:31:59.528Z"
   },
   {
    "duration": 24,
    "start_time": "2025-06-15T19:31:59.624Z"
   },
   {
    "duration": 302,
    "start_time": "2025-06-15T19:32:01.624Z"
   },
   {
    "duration": 575,
    "start_time": "2025-06-15T19:32:01.927Z"
   },
   {
    "duration": 18,
    "start_time": "2025-06-15T19:32:02.504Z"
   },
   {
    "duration": 18,
    "start_time": "2025-06-15T19:32:02.951Z"
   },
   {
    "duration": 153,
    "start_time": "2025-06-15T19:32:04.450Z"
   },
   {
    "duration": 41,
    "start_time": "2025-06-15T19:32:04.654Z"
   },
   {
    "duration": 465,
    "start_time": "2025-06-15T19:32:05.145Z"
   },
   {
    "duration": 572,
    "start_time": "2025-06-15T19:32:06.807Z"
   },
   {
    "duration": 31,
    "start_time": "2025-06-15T19:32:07.381Z"
   },
   {
    "duration": 11,
    "start_time": "2025-06-15T19:32:07.414Z"
   },
   {
    "duration": 8,
    "start_time": "2025-06-15T19:32:08.530Z"
   },
   {
    "duration": 5,
    "start_time": "2025-06-15T19:32:09.047Z"
   },
   {
    "duration": 22,
    "start_time": "2025-06-15T19:32:12.485Z"
   },
   {
    "duration": 9,
    "start_time": "2025-06-15T19:32:12.628Z"
   },
   {
    "duration": 5,
    "start_time": "2025-06-15T19:32:12.966Z"
   },
   {
    "duration": 7,
    "start_time": "2025-06-15T19:32:13.192Z"
   },
   {
    "duration": 9,
    "start_time": "2025-06-15T19:32:13.628Z"
   },
   {
    "duration": 22,
    "start_time": "2025-06-15T19:32:13.838Z"
   },
   {
    "duration": 12,
    "start_time": "2025-06-15T19:32:15.710Z"
   },
   {
    "duration": 108,
    "start_time": "2025-06-15T19:43:36.047Z"
   },
   {
    "duration": 7,
    "start_time": "2025-06-15T19:43:45.731Z"
   },
   {
    "duration": 15,
    "start_time": "2025-06-15T19:44:47.858Z"
   },
   {
    "duration": 7,
    "start_time": "2025-06-15T19:44:53.282Z"
   },
   {
    "duration": 11,
    "start_time": "2025-06-15T19:45:15.964Z"
   },
   {
    "duration": 8,
    "start_time": "2025-06-15T19:45:22.086Z"
   },
   {
    "duration": 17,
    "start_time": "2025-06-15T19:46:39.936Z"
   },
   {
    "duration": 9,
    "start_time": "2025-06-15T19:47:53.939Z"
   },
   {
    "duration": 18,
    "start_time": "2025-06-15T19:48:02.705Z"
   },
   {
    "duration": 150,
    "start_time": "2025-06-15T19:48:03.821Z"
   }
  ],
  "colab": {
   "provenance": []
  },
  "kernelspec": {
   "display_name": "Python 3 (ipykernel)",
   "language": "python",
   "name": "python3"
  },
  "language_info": {
   "codemirror_mode": {
    "name": "ipython",
    "version": 3
   },
   "file_extension": ".py",
   "mimetype": "text/x-python",
   "name": "python",
   "nbconvert_exporter": "python",
   "pygments_lexer": "ipython3",
   "version": "3.9.5"
  },
  "toc": {
   "base_numbering": 1,
   "nav_menu": {},
   "number_sections": true,
   "sideBar": true,
   "skip_h1_title": true,
   "title_cell": "Table of Contents",
   "title_sidebar": "Contents",
   "toc_cell": false,
   "toc_position": {},
   "toc_section_display": true,
   "toc_window_display": true
  }
 },
 "nbformat": 4,
 "nbformat_minor": 1
}
